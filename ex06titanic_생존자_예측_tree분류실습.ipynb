{
 "cells": [
  {
   "attachments": {},
   "cell_type": "markdown",
   "metadata": {},
   "source": [
    "## 목표\n",
    "- 타이타닉 데이터를 학습해서 생존자/ 사망자를 예측 해보자 -> 이진분류(클래스가 두개 생존자, 사망자)\n",
    "- 머신러닝 전체 과정을 이해해보자\n",
    "\n",
    "#### 머신러닝 과정\n",
    "- 1. 문제정의\n",
    "- 2. 데이터를 수집해야한다.\n",
    "- 3. 데이터 전처리(garbage in garbage out) : 데이터를 분석하기에 앞서 깔끔하게 처리하는 것\n",
    "- 4. 탐색적 데이터 분석 : 내용 확인, 기술 통계량, 상관관계\n",
    "- 5. 머신러닝 모델 선택(하이퍼 파라미터 조정) 및 학습\n",
    "- 6. 모델 평가 및 예측\n",
    "- 7. 모델 서비스"
   ]
  },
  {
   "attachments": {},
   "cell_type": "markdown",
   "metadata": {},
   "source": [
    "## 데이터 불러오기"
   ]
  },
  {
   "cell_type": "code",
   "execution_count": 312,
   "metadata": {},
   "outputs": [],
   "source": [
    "# Kaggle 에서 제공한 데이터 다운 받은 상태\n",
    "# train,test\n",
    "# train : 훈련용 데이터, test : 테스트용 데이터\n",
    "# submission : 답안지 형식\n",
    "# 환경 셋팅\n",
    "import numpy as np\n",
    "import pandas as pd\n",
    "import matplotlib.pyplot as plt  # 그래프 시각화\n",
    "import seaborn as sns  # 그래프 시각화\n",
    "\n",
    "# 경고창 무시\n",
    "import warnings\n",
    "warnings.filterwarnings(action='ignore')"
   ]
  },
  {
   "attachments": {},
   "cell_type": "markdown",
   "metadata": {},
   "source": [
    "q1. 타이타닉 train 데이터와 test 데이터를 변수 train, test 저장하기(단, 인덱스는 승객 번호를 사용할 것.)"
   ]
  },
  {
   "cell_type": "code",
   "execution_count": 313,
   "metadata": {},
   "outputs": [
    {
     "data": {
      "text/html": [
       "<div>\n",
       "<style scoped>\n",
       "    .dataframe tbody tr th:only-of-type {\n",
       "        vertical-align: middle;\n",
       "    }\n",
       "\n",
       "    .dataframe tbody tr th {\n",
       "        vertical-align: top;\n",
       "    }\n",
       "\n",
       "    .dataframe thead th {\n",
       "        text-align: right;\n",
       "    }\n",
       "</style>\n",
       "<table border=\"1\" class=\"dataframe\">\n",
       "  <thead>\n",
       "    <tr style=\"text-align: right;\">\n",
       "      <th></th>\n",
       "      <th>Survived</th>\n",
       "      <th>Pclass</th>\n",
       "      <th>Name</th>\n",
       "      <th>Sex</th>\n",
       "      <th>Age</th>\n",
       "      <th>SibSp</th>\n",
       "      <th>Parch</th>\n",
       "      <th>Ticket</th>\n",
       "      <th>Fare</th>\n",
       "      <th>Cabin</th>\n",
       "      <th>Embarked</th>\n",
       "    </tr>\n",
       "    <tr>\n",
       "      <th>PassengerId</th>\n",
       "      <th></th>\n",
       "      <th></th>\n",
       "      <th></th>\n",
       "      <th></th>\n",
       "      <th></th>\n",
       "      <th></th>\n",
       "      <th></th>\n",
       "      <th></th>\n",
       "      <th></th>\n",
       "      <th></th>\n",
       "      <th></th>\n",
       "    </tr>\n",
       "  </thead>\n",
       "  <tbody>\n",
       "    <tr>\n",
       "      <th>1</th>\n",
       "      <td>0</td>\n",
       "      <td>3</td>\n",
       "      <td>Braund, Mr. Owen Harris</td>\n",
       "      <td>male</td>\n",
       "      <td>22.0</td>\n",
       "      <td>1</td>\n",
       "      <td>0</td>\n",
       "      <td>A/5 21171</td>\n",
       "      <td>7.2500</td>\n",
       "      <td>NaN</td>\n",
       "      <td>S</td>\n",
       "    </tr>\n",
       "    <tr>\n",
       "      <th>2</th>\n",
       "      <td>1</td>\n",
       "      <td>1</td>\n",
       "      <td>Cumings, Mrs. John Bradley (Florence Briggs Th...</td>\n",
       "      <td>female</td>\n",
       "      <td>38.0</td>\n",
       "      <td>1</td>\n",
       "      <td>0</td>\n",
       "      <td>PC 17599</td>\n",
       "      <td>71.2833</td>\n",
       "      <td>C85</td>\n",
       "      <td>C</td>\n",
       "    </tr>\n",
       "    <tr>\n",
       "      <th>3</th>\n",
       "      <td>1</td>\n",
       "      <td>3</td>\n",
       "      <td>Heikkinen, Miss. Laina</td>\n",
       "      <td>female</td>\n",
       "      <td>26.0</td>\n",
       "      <td>0</td>\n",
       "      <td>0</td>\n",
       "      <td>STON/O2. 3101282</td>\n",
       "      <td>7.9250</td>\n",
       "      <td>NaN</td>\n",
       "      <td>S</td>\n",
       "    </tr>\n",
       "    <tr>\n",
       "      <th>4</th>\n",
       "      <td>1</td>\n",
       "      <td>1</td>\n",
       "      <td>Futrelle, Mrs. Jacques Heath (Lily May Peel)</td>\n",
       "      <td>female</td>\n",
       "      <td>35.0</td>\n",
       "      <td>1</td>\n",
       "      <td>0</td>\n",
       "      <td>113803</td>\n",
       "      <td>53.1000</td>\n",
       "      <td>C123</td>\n",
       "      <td>S</td>\n",
       "    </tr>\n",
       "    <tr>\n",
       "      <th>5</th>\n",
       "      <td>0</td>\n",
       "      <td>3</td>\n",
       "      <td>Allen, Mr. William Henry</td>\n",
       "      <td>male</td>\n",
       "      <td>35.0</td>\n",
       "      <td>0</td>\n",
       "      <td>0</td>\n",
       "      <td>373450</td>\n",
       "      <td>8.0500</td>\n",
       "      <td>NaN</td>\n",
       "      <td>S</td>\n",
       "    </tr>\n",
       "  </tbody>\n",
       "</table>\n",
       "</div>"
      ],
      "text/plain": [
       "             Survived  Pclass  \\\n",
       "PassengerId                     \n",
       "1                   0       3   \n",
       "2                   1       1   \n",
       "3                   1       3   \n",
       "4                   1       1   \n",
       "5                   0       3   \n",
       "\n",
       "                                                          Name     Sex   Age  \\\n",
       "PassengerId                                                                    \n",
       "1                                      Braund, Mr. Owen Harris    male  22.0   \n",
       "2            Cumings, Mrs. John Bradley (Florence Briggs Th...  female  38.0   \n",
       "3                                       Heikkinen, Miss. Laina  female  26.0   \n",
       "4                 Futrelle, Mrs. Jacques Heath (Lily May Peel)  female  35.0   \n",
       "5                                     Allen, Mr. William Henry    male  35.0   \n",
       "\n",
       "             SibSp  Parch            Ticket     Fare Cabin Embarked  \n",
       "PassengerId                                                          \n",
       "1                1      0         A/5 21171   7.2500   NaN        S  \n",
       "2                1      0          PC 17599  71.2833   C85        C  \n",
       "3                0      0  STON/O2. 3101282   7.9250   NaN        S  \n",
       "4                1      0            113803  53.1000  C123        S  \n",
       "5                0      0            373450   8.0500   NaN        S  "
      ]
     },
     "execution_count": 313,
     "metadata": {},
     "output_type": "execute_result"
    }
   ],
   "source": [
    "train = pd.read_csv('./data/train.csv',index_col= 'PassengerId')\n",
    "train.head()"
   ]
  },
  {
   "cell_type": "code",
   "execution_count": 314,
   "metadata": {},
   "outputs": [
    {
     "data": {
      "text/html": [
       "<div>\n",
       "<style scoped>\n",
       "    .dataframe tbody tr th:only-of-type {\n",
       "        vertical-align: middle;\n",
       "    }\n",
       "\n",
       "    .dataframe tbody tr th {\n",
       "        vertical-align: top;\n",
       "    }\n",
       "\n",
       "    .dataframe thead th {\n",
       "        text-align: right;\n",
       "    }\n",
       "</style>\n",
       "<table border=\"1\" class=\"dataframe\">\n",
       "  <thead>\n",
       "    <tr style=\"text-align: right;\">\n",
       "      <th></th>\n",
       "      <th>Pclass</th>\n",
       "      <th>Name</th>\n",
       "      <th>Sex</th>\n",
       "      <th>Age</th>\n",
       "      <th>SibSp</th>\n",
       "      <th>Parch</th>\n",
       "      <th>Ticket</th>\n",
       "      <th>Fare</th>\n",
       "      <th>Cabin</th>\n",
       "      <th>Embarked</th>\n",
       "    </tr>\n",
       "    <tr>\n",
       "      <th>PassengerId</th>\n",
       "      <th></th>\n",
       "      <th></th>\n",
       "      <th></th>\n",
       "      <th></th>\n",
       "      <th></th>\n",
       "      <th></th>\n",
       "      <th></th>\n",
       "      <th></th>\n",
       "      <th></th>\n",
       "      <th></th>\n",
       "    </tr>\n",
       "  </thead>\n",
       "  <tbody>\n",
       "    <tr>\n",
       "      <th>892</th>\n",
       "      <td>3</td>\n",
       "      <td>Kelly, Mr. James</td>\n",
       "      <td>male</td>\n",
       "      <td>34.5</td>\n",
       "      <td>0</td>\n",
       "      <td>0</td>\n",
       "      <td>330911</td>\n",
       "      <td>7.8292</td>\n",
       "      <td>NaN</td>\n",
       "      <td>Q</td>\n",
       "    </tr>\n",
       "    <tr>\n",
       "      <th>893</th>\n",
       "      <td>3</td>\n",
       "      <td>Wilkes, Mrs. James (Ellen Needs)</td>\n",
       "      <td>female</td>\n",
       "      <td>47.0</td>\n",
       "      <td>1</td>\n",
       "      <td>0</td>\n",
       "      <td>363272</td>\n",
       "      <td>7.0000</td>\n",
       "      <td>NaN</td>\n",
       "      <td>S</td>\n",
       "    </tr>\n",
       "    <tr>\n",
       "      <th>894</th>\n",
       "      <td>2</td>\n",
       "      <td>Myles, Mr. Thomas Francis</td>\n",
       "      <td>male</td>\n",
       "      <td>62.0</td>\n",
       "      <td>0</td>\n",
       "      <td>0</td>\n",
       "      <td>240276</td>\n",
       "      <td>9.6875</td>\n",
       "      <td>NaN</td>\n",
       "      <td>Q</td>\n",
       "    </tr>\n",
       "    <tr>\n",
       "      <th>895</th>\n",
       "      <td>3</td>\n",
       "      <td>Wirz, Mr. Albert</td>\n",
       "      <td>male</td>\n",
       "      <td>27.0</td>\n",
       "      <td>0</td>\n",
       "      <td>0</td>\n",
       "      <td>315154</td>\n",
       "      <td>8.6625</td>\n",
       "      <td>NaN</td>\n",
       "      <td>S</td>\n",
       "    </tr>\n",
       "    <tr>\n",
       "      <th>896</th>\n",
       "      <td>3</td>\n",
       "      <td>Hirvonen, Mrs. Alexander (Helga E Lindqvist)</td>\n",
       "      <td>female</td>\n",
       "      <td>22.0</td>\n",
       "      <td>1</td>\n",
       "      <td>1</td>\n",
       "      <td>3101298</td>\n",
       "      <td>12.2875</td>\n",
       "      <td>NaN</td>\n",
       "      <td>S</td>\n",
       "    </tr>\n",
       "  </tbody>\n",
       "</table>\n",
       "</div>"
      ],
      "text/plain": [
       "             Pclass                                          Name     Sex  \\\n",
       "PassengerId                                                                 \n",
       "892               3                              Kelly, Mr. James    male   \n",
       "893               3              Wilkes, Mrs. James (Ellen Needs)  female   \n",
       "894               2                     Myles, Mr. Thomas Francis    male   \n",
       "895               3                              Wirz, Mr. Albert    male   \n",
       "896               3  Hirvonen, Mrs. Alexander (Helga E Lindqvist)  female   \n",
       "\n",
       "              Age  SibSp  Parch   Ticket     Fare Cabin Embarked  \n",
       "PassengerId                                                       \n",
       "892          34.5      0      0   330911   7.8292   NaN        Q  \n",
       "893          47.0      1      0   363272   7.0000   NaN        S  \n",
       "894          62.0      0      0   240276   9.6875   NaN        Q  \n",
       "895          27.0      0      0   315154   8.6625   NaN        S  \n",
       "896          22.0      1      1  3101298  12.2875   NaN        S  "
      ]
     },
     "execution_count": 314,
     "metadata": {},
     "output_type": "execute_result"
    }
   ],
   "source": [
    "test = pd.read_csv('./data/test.csv',index_col= 'PassengerId')\n",
    "test.head()"
   ]
  },
  {
   "cell_type": "code",
   "execution_count": 315,
   "metadata": {},
   "outputs": [
    {
     "name": "stdout",
     "output_type": "stream",
     "text": [
      "(891, 11)\n",
      "(418, 10)\n"
     ]
    }
   ],
   "source": [
    "# 크기 확인하기\n",
    "print(train.shape)\n",
    "print(test.shape)"
   ]
  },
  {
   "cell_type": "code",
   "execution_count": 316,
   "metadata": {},
   "outputs": [
    {
     "data": {
      "text/html": [
       "<div>\n",
       "<style scoped>\n",
       "    .dataframe tbody tr th:only-of-type {\n",
       "        vertical-align: middle;\n",
       "    }\n",
       "\n",
       "    .dataframe tbody tr th {\n",
       "        vertical-align: top;\n",
       "    }\n",
       "\n",
       "    .dataframe thead th {\n",
       "        text-align: right;\n",
       "    }\n",
       "</style>\n",
       "<table border=\"1\" class=\"dataframe\">\n",
       "  <thead>\n",
       "    <tr style=\"text-align: right;\">\n",
       "      <th></th>\n",
       "      <th>Pclass</th>\n",
       "      <th>Name</th>\n",
       "      <th>Sex</th>\n",
       "      <th>Age</th>\n",
       "      <th>SibSp</th>\n",
       "      <th>Parch</th>\n",
       "      <th>Ticket</th>\n",
       "      <th>Fare</th>\n",
       "      <th>Cabin</th>\n",
       "      <th>Embarked</th>\n",
       "    </tr>\n",
       "    <tr>\n",
       "      <th>PassengerId</th>\n",
       "      <th></th>\n",
       "      <th></th>\n",
       "      <th></th>\n",
       "      <th></th>\n",
       "      <th></th>\n",
       "      <th></th>\n",
       "      <th></th>\n",
       "      <th></th>\n",
       "      <th></th>\n",
       "      <th></th>\n",
       "    </tr>\n",
       "  </thead>\n",
       "  <tbody>\n",
       "    <tr>\n",
       "      <th>892</th>\n",
       "      <td>3</td>\n",
       "      <td>Kelly, Mr. James</td>\n",
       "      <td>male</td>\n",
       "      <td>34.5</td>\n",
       "      <td>0</td>\n",
       "      <td>0</td>\n",
       "      <td>330911</td>\n",
       "      <td>7.8292</td>\n",
       "      <td>NaN</td>\n",
       "      <td>Q</td>\n",
       "    </tr>\n",
       "    <tr>\n",
       "      <th>893</th>\n",
       "      <td>3</td>\n",
       "      <td>Wilkes, Mrs. James (Ellen Needs)</td>\n",
       "      <td>female</td>\n",
       "      <td>47.0</td>\n",
       "      <td>1</td>\n",
       "      <td>0</td>\n",
       "      <td>363272</td>\n",
       "      <td>7.0000</td>\n",
       "      <td>NaN</td>\n",
       "      <td>S</td>\n",
       "    </tr>\n",
       "  </tbody>\n",
       "</table>\n",
       "</div>"
      ],
      "text/plain": [
       "             Pclass                              Name     Sex   Age  SibSp  \\\n",
       "PassengerId                                                                  \n",
       "892               3                  Kelly, Mr. James    male  34.5      0   \n",
       "893               3  Wilkes, Mrs. James (Ellen Needs)  female  47.0      1   \n",
       "\n",
       "             Parch  Ticket    Fare Cabin Embarked  \n",
       "PassengerId                                        \n",
       "892              0  330911  7.8292   NaN        Q  \n",
       "893              0  363272  7.0000   NaN        S  "
      ]
     },
     "execution_count": 316,
     "metadata": {},
     "output_type": "execute_result"
    }
   ],
   "source": [
    "test.head(2)"
   ]
  },
  {
   "attachments": {},
   "cell_type": "markdown",
   "metadata": {},
   "source": [
    "## 데이터 전처리 및 데이터 탐색\n",
    "#### 결측치 확인"
   ]
  },
  {
   "cell_type": "code",
   "execution_count": 317,
   "metadata": {},
   "outputs": [
    {
     "data": {
      "text/plain": [
       "Index(['Survived', 'Pclass', 'Name', 'Sex', 'Age', 'SibSp', 'Parch', 'Ticket',\n",
       "       'Fare', 'Cabin', 'Embarked'],\n",
       "      dtype='object')"
      ]
     },
     "execution_count": 317,
     "metadata": {},
     "output_type": "execute_result"
    }
   ],
   "source": [
    "train.columns\n",
    "\n",
    "# Index(['Survived' : 생존/ 사망 여부, \n",
    "        # 'Pclass' : 승객등급 (1~3, 1이 상위층), \n",
    "        # 'Name': 이름, \n",
    "        # 'Sex' : 성별,\n",
    "        # 'Age' : 나이 , \n",
    "        # 'SibSp' : 형제자매, 배우자수, \n",
    "        # 'Parch' : 부모/자식 수 , \n",
    "        # 'Ticket' : 티켓 정보,\n",
    "        # 'Fare' : 요금 정보 , \n",
    "        # 'Cabin' : 객실, \n",
    "        # 'Embarked' : 승선항(S,C,Q)],\n",
    "        #   dtype='object')"
   ]
  },
  {
   "cell_type": "code",
   "execution_count": 318,
   "metadata": {},
   "outputs": [
    {
     "name": "stdout",
     "output_type": "stream",
     "text": [
      "<class 'pandas.core.frame.DataFrame'>\n",
      "Int64Index: 891 entries, 1 to 891\n",
      "Data columns (total 11 columns):\n",
      " #   Column    Non-Null Count  Dtype  \n",
      "---  ------    --------------  -----  \n",
      " 0   Survived  891 non-null    int64  \n",
      " 1   Pclass    891 non-null    int64  \n",
      " 2   Name      891 non-null    object \n",
      " 3   Sex       891 non-null    object \n",
      " 4   Age       714 non-null    float64\n",
      " 5   SibSp     891 non-null    int64  \n",
      " 6   Parch     891 non-null    int64  \n",
      " 7   Ticket    891 non-null    object \n",
      " 8   Fare      891 non-null    float64\n",
      " 9   Cabin     204 non-null    object \n",
      " 10  Embarked  889 non-null    object \n",
      "dtypes: float64(2), int64(4), object(5)\n",
      "memory usage: 83.5+ KB\n"
     ]
    }
   ],
   "source": [
    "# train의 정보를 확인해서 결측치가 있는지 확인하는 과정 \n",
    "train.info()  # 3개컬럼 결측치가 있음(891에 미달하는 친구들이 3개)\n",
    "            # 데이터 타입이 숫자가 아니면 안돌아감(문자형태 숫자로 바꿔주기)"
   ]
  },
  {
   "cell_type": "code",
   "execution_count": 319,
   "metadata": {},
   "outputs": [
    {
     "name": "stdout",
     "output_type": "stream",
     "text": [
      "<class 'pandas.core.frame.DataFrame'>\n",
      "Int64Index: 418 entries, 892 to 1309\n",
      "Data columns (total 10 columns):\n",
      " #   Column    Non-Null Count  Dtype  \n",
      "---  ------    --------------  -----  \n",
      " 0   Pclass    418 non-null    int64  \n",
      " 1   Name      418 non-null    object \n",
      " 2   Sex       418 non-null    object \n",
      " 3   Age       332 non-null    float64\n",
      " 4   SibSp     418 non-null    int64  \n",
      " 5   Parch     418 non-null    int64  \n",
      " 6   Ticket    418 non-null    object \n",
      " 7   Fare      417 non-null    float64\n",
      " 8   Cabin     91 non-null     object \n",
      " 9   Embarked  418 non-null    object \n",
      "dtypes: float64(2), int64(3), object(5)\n",
      "memory usage: 35.9+ KB\n"
     ]
    }
   ],
   "source": [
    "test.info()  # 418에 미달하는 아이들이 3개 정도 있음"
   ]
  },
  {
   "cell_type": "code",
   "execution_count": 320,
   "metadata": {},
   "outputs": [
    {
     "data": {
      "text/plain": [
       "Survived      0\n",
       "Pclass        0\n",
       "Name          0\n",
       "Sex           0\n",
       "Age         177\n",
       "SibSp         0\n",
       "Parch         0\n",
       "Ticket        0\n",
       "Fare          0\n",
       "Cabin       687\n",
       "Embarked      2\n",
       "dtype: int64"
      ]
     },
     "execution_count": 320,
     "metadata": {},
     "output_type": "execute_result"
    }
   ],
   "source": [
    "# 결측치 개수 확인\n",
    "train.isnull().sum()  # axis = 0 => 축(행 방향으로 연산) 비어있는 거를 다 더함()\n",
    "# Age , Cabin , Embarked 컬럼 결측치 有"
   ]
  },
  {
   "cell_type": "code",
   "execution_count": 321,
   "metadata": {},
   "outputs": [
    {
     "data": {
      "text/plain": [
       "Pclass        0\n",
       "Name          0\n",
       "Sex           0\n",
       "Age          86\n",
       "SibSp         0\n",
       "Parch         0\n",
       "Ticket        0\n",
       "Fare          1\n",
       "Cabin       327\n",
       "Embarked      0\n",
       "dtype: int64"
      ]
     },
     "execution_count": 321,
     "metadata": {},
     "output_type": "execute_result"
    }
   ],
   "source": [
    "test.isnull().sum()\n",
    "# Age, Cabin, Fare 결측치"
   ]
  },
  {
   "cell_type": "code",
   "execution_count": 322,
   "metadata": {},
   "outputs": [
    {
     "name": "stdout",
     "output_type": "stream",
     "text": [
      "Index(['Survived', 'Pclass', 'Name', 'Sex', 'Age', 'SibSp', 'Parch', 'Ticket',\n",
      "       'Fare', 'Cabin', 'Embarked'],\n",
      "      dtype='object')\n",
      "Index(['Age', 'Cabin', 'Embarked'], dtype='object')\n"
     ]
    }
   ],
   "source": [
    "# train 결측치 존재 및 컬럼당 결측치 개수 확인\n",
    "# null이 존재하는 컬럼 뽑기\n",
    "null_col = train.isnull().any()\n",
    "# any() --> 각 열(행방향)에 True 요소가 하나 이상 포함되어 있는지 여부(기본값)\n",
    "\n",
    "# Boolean 인덱싱\n",
    "print(train.columns)  # 전체 칼럼 중\n",
    "print(train.columns[null_col]) # 결측치가 있는 것만 나오게 해줌"
   ]
  },
  {
   "cell_type": "code",
   "execution_count": 323,
   "metadata": {},
   "outputs": [
    {
     "data": {
      "text/html": [
       "<div>\n",
       "<style scoped>\n",
       "    .dataframe tbody tr th:only-of-type {\n",
       "        vertical-align: middle;\n",
       "    }\n",
       "\n",
       "    .dataframe tbody tr th {\n",
       "        vertical-align: top;\n",
       "    }\n",
       "\n",
       "    .dataframe thead th {\n",
       "        text-align: right;\n",
       "    }\n",
       "</style>\n",
       "<table border=\"1\" class=\"dataframe\">\n",
       "  <thead>\n",
       "    <tr style=\"text-align: right;\">\n",
       "      <th></th>\n",
       "      <th>Age</th>\n",
       "      <th>Cabin</th>\n",
       "      <th>Embarked</th>\n",
       "    </tr>\n",
       "    <tr>\n",
       "      <th>PassengerId</th>\n",
       "      <th></th>\n",
       "      <th></th>\n",
       "      <th></th>\n",
       "    </tr>\n",
       "  </thead>\n",
       "  <tbody>\n",
       "    <tr>\n",
       "      <th>1</th>\n",
       "      <td>False</td>\n",
       "      <td>True</td>\n",
       "      <td>False</td>\n",
       "    </tr>\n",
       "    <tr>\n",
       "      <th>2</th>\n",
       "      <td>False</td>\n",
       "      <td>False</td>\n",
       "      <td>False</td>\n",
       "    </tr>\n",
       "    <tr>\n",
       "      <th>3</th>\n",
       "      <td>False</td>\n",
       "      <td>True</td>\n",
       "      <td>False</td>\n",
       "    </tr>\n",
       "    <tr>\n",
       "      <th>4</th>\n",
       "      <td>False</td>\n",
       "      <td>False</td>\n",
       "      <td>False</td>\n",
       "    </tr>\n",
       "    <tr>\n",
       "      <th>5</th>\n",
       "      <td>False</td>\n",
       "      <td>True</td>\n",
       "      <td>False</td>\n",
       "    </tr>\n",
       "    <tr>\n",
       "      <th>...</th>\n",
       "      <td>...</td>\n",
       "      <td>...</td>\n",
       "      <td>...</td>\n",
       "    </tr>\n",
       "    <tr>\n",
       "      <th>887</th>\n",
       "      <td>False</td>\n",
       "      <td>True</td>\n",
       "      <td>False</td>\n",
       "    </tr>\n",
       "    <tr>\n",
       "      <th>888</th>\n",
       "      <td>False</td>\n",
       "      <td>False</td>\n",
       "      <td>False</td>\n",
       "    </tr>\n",
       "    <tr>\n",
       "      <th>889</th>\n",
       "      <td>True</td>\n",
       "      <td>True</td>\n",
       "      <td>False</td>\n",
       "    </tr>\n",
       "    <tr>\n",
       "      <th>890</th>\n",
       "      <td>False</td>\n",
       "      <td>False</td>\n",
       "      <td>False</td>\n",
       "    </tr>\n",
       "    <tr>\n",
       "      <th>891</th>\n",
       "      <td>False</td>\n",
       "      <td>True</td>\n",
       "      <td>False</td>\n",
       "    </tr>\n",
       "  </tbody>\n",
       "</table>\n",
       "<p>891 rows × 3 columns</p>\n",
       "</div>"
      ],
      "text/plain": [
       "               Age  Cabin  Embarked\n",
       "PassengerId                        \n",
       "1            False   True     False\n",
       "2            False  False     False\n",
       "3            False   True     False\n",
       "4            False  False     False\n",
       "5            False   True     False\n",
       "...            ...    ...       ...\n",
       "887          False   True     False\n",
       "888          False  False     False\n",
       "889           True   True     False\n",
       "890          False  False     False\n",
       "891          False   True     False\n",
       "\n",
       "[891 rows x 3 columns]"
      ]
     },
     "execution_count": 323,
     "metadata": {},
     "output_type": "execute_result"
    }
   ],
   "source": [
    "# train 이렇게하면 결측치가 있는 열의 정보만 불러와짐\n",
    "null_col = train.columns[train.isnull().any()]\n",
    "train[null_col].isnull()  \n"
   ]
  },
  {
   "cell_type": "code",
   "execution_count": 324,
   "metadata": {},
   "outputs": [
    {
     "data": {
      "text/html": [
       "<div>\n",
       "<style scoped>\n",
       "    .dataframe tbody tr th:only-of-type {\n",
       "        vertical-align: middle;\n",
       "    }\n",
       "\n",
       "    .dataframe tbody tr th {\n",
       "        vertical-align: top;\n",
       "    }\n",
       "\n",
       "    .dataframe thead th {\n",
       "        text-align: right;\n",
       "    }\n",
       "</style>\n",
       "<table border=\"1\" class=\"dataframe\">\n",
       "  <thead>\n",
       "    <tr style=\"text-align: right;\">\n",
       "      <th></th>\n",
       "      <th>Age</th>\n",
       "      <th>Fare</th>\n",
       "      <th>Cabin</th>\n",
       "    </tr>\n",
       "    <tr>\n",
       "      <th>PassengerId</th>\n",
       "      <th></th>\n",
       "      <th></th>\n",
       "      <th></th>\n",
       "    </tr>\n",
       "  </thead>\n",
       "  <tbody>\n",
       "    <tr>\n",
       "      <th>892</th>\n",
       "      <td>False</td>\n",
       "      <td>False</td>\n",
       "      <td>True</td>\n",
       "    </tr>\n",
       "    <tr>\n",
       "      <th>893</th>\n",
       "      <td>False</td>\n",
       "      <td>False</td>\n",
       "      <td>True</td>\n",
       "    </tr>\n",
       "    <tr>\n",
       "      <th>894</th>\n",
       "      <td>False</td>\n",
       "      <td>False</td>\n",
       "      <td>True</td>\n",
       "    </tr>\n",
       "    <tr>\n",
       "      <th>895</th>\n",
       "      <td>False</td>\n",
       "      <td>False</td>\n",
       "      <td>True</td>\n",
       "    </tr>\n",
       "    <tr>\n",
       "      <th>896</th>\n",
       "      <td>False</td>\n",
       "      <td>False</td>\n",
       "      <td>True</td>\n",
       "    </tr>\n",
       "    <tr>\n",
       "      <th>...</th>\n",
       "      <td>...</td>\n",
       "      <td>...</td>\n",
       "      <td>...</td>\n",
       "    </tr>\n",
       "    <tr>\n",
       "      <th>1305</th>\n",
       "      <td>True</td>\n",
       "      <td>False</td>\n",
       "      <td>True</td>\n",
       "    </tr>\n",
       "    <tr>\n",
       "      <th>1306</th>\n",
       "      <td>False</td>\n",
       "      <td>False</td>\n",
       "      <td>False</td>\n",
       "    </tr>\n",
       "    <tr>\n",
       "      <th>1307</th>\n",
       "      <td>False</td>\n",
       "      <td>False</td>\n",
       "      <td>True</td>\n",
       "    </tr>\n",
       "    <tr>\n",
       "      <th>1308</th>\n",
       "      <td>True</td>\n",
       "      <td>False</td>\n",
       "      <td>True</td>\n",
       "    </tr>\n",
       "    <tr>\n",
       "      <th>1309</th>\n",
       "      <td>True</td>\n",
       "      <td>False</td>\n",
       "      <td>True</td>\n",
       "    </tr>\n",
       "  </tbody>\n",
       "</table>\n",
       "<p>418 rows × 3 columns</p>\n",
       "</div>"
      ],
      "text/plain": [
       "               Age   Fare  Cabin\n",
       "PassengerId                     \n",
       "892          False  False   True\n",
       "893          False  False   True\n",
       "894          False  False   True\n",
       "895          False  False   True\n",
       "896          False  False   True\n",
       "...            ...    ...    ...\n",
       "1305          True  False   True\n",
       "1306         False  False  False\n",
       "1307         False  False   True\n",
       "1308          True  False   True\n",
       "1309          True  False   True\n",
       "\n",
       "[418 rows x 3 columns]"
      ]
     },
     "execution_count": 324,
     "metadata": {},
     "output_type": "execute_result"
    }
   ],
   "source": [
    "# test\n",
    "null_col = test.columns[test.isnull().any()]\n",
    "test[null_col].isnull()  "
   ]
  },
  {
   "attachments": {},
   "cell_type": "markdown",
   "metadata": {},
   "source": [
    "#### 위에서 train 결측치 찾은 열인 --> Embarked 컬럼 결측치 채우기"
   ]
  },
  {
   "cell_type": "code",
   "execution_count": 325,
   "metadata": {},
   "outputs": [
    {
     "data": {
      "text/html": [
       "<div>\n",
       "<style scoped>\n",
       "    .dataframe tbody tr th:only-of-type {\n",
       "        vertical-align: middle;\n",
       "    }\n",
       "\n",
       "    .dataframe tbody tr th {\n",
       "        vertical-align: top;\n",
       "    }\n",
       "\n",
       "    .dataframe thead th {\n",
       "        text-align: right;\n",
       "    }\n",
       "</style>\n",
       "<table border=\"1\" class=\"dataframe\">\n",
       "  <thead>\n",
       "    <tr style=\"text-align: right;\">\n",
       "      <th></th>\n",
       "      <th>Survived</th>\n",
       "      <th>Pclass</th>\n",
       "      <th>Name</th>\n",
       "      <th>Sex</th>\n",
       "      <th>Age</th>\n",
       "      <th>SibSp</th>\n",
       "      <th>Parch</th>\n",
       "      <th>Ticket</th>\n",
       "      <th>Fare</th>\n",
       "      <th>Cabin</th>\n",
       "      <th>Embarked</th>\n",
       "    </tr>\n",
       "    <tr>\n",
       "      <th>PassengerId</th>\n",
       "      <th></th>\n",
       "      <th></th>\n",
       "      <th></th>\n",
       "      <th></th>\n",
       "      <th></th>\n",
       "      <th></th>\n",
       "      <th></th>\n",
       "      <th></th>\n",
       "      <th></th>\n",
       "      <th></th>\n",
       "      <th></th>\n",
       "    </tr>\n",
       "  </thead>\n",
       "  <tbody>\n",
       "    <tr>\n",
       "      <th>62</th>\n",
       "      <td>1</td>\n",
       "      <td>1</td>\n",
       "      <td>Icard, Miss. Amelie</td>\n",
       "      <td>female</td>\n",
       "      <td>38.0</td>\n",
       "      <td>0</td>\n",
       "      <td>0</td>\n",
       "      <td>113572</td>\n",
       "      <td>80.0</td>\n",
       "      <td>B28</td>\n",
       "      <td>NaN</td>\n",
       "    </tr>\n",
       "    <tr>\n",
       "      <th>830</th>\n",
       "      <td>1</td>\n",
       "      <td>1</td>\n",
       "      <td>Stone, Mrs. George Nelson (Martha Evelyn)</td>\n",
       "      <td>female</td>\n",
       "      <td>62.0</td>\n",
       "      <td>0</td>\n",
       "      <td>0</td>\n",
       "      <td>113572</td>\n",
       "      <td>80.0</td>\n",
       "      <td>B28</td>\n",
       "      <td>NaN</td>\n",
       "    </tr>\n",
       "  </tbody>\n",
       "</table>\n",
       "</div>"
      ],
      "text/plain": [
       "             Survived  Pclass                                       Name  \\\n",
       "PassengerId                                                                \n",
       "62                  1       1                        Icard, Miss. Amelie   \n",
       "830                 1       1  Stone, Mrs. George Nelson (Martha Evelyn)   \n",
       "\n",
       "                Sex   Age  SibSp  Parch  Ticket  Fare Cabin Embarked  \n",
       "PassengerId                                                           \n",
       "62           female  38.0      0      0  113572  80.0   B28      NaN  \n",
       "830          female  62.0      0      0  113572  80.0   B28      NaN  "
      ]
     },
     "execution_count": 325,
     "metadata": {},
     "output_type": "execute_result"
    }
   ],
   "source": [
    "# 단순하게 최빈값, 평균값, 중앙값 기술 통계량으로 채워버림\n",
    "# 특성의 상관관계를 확인하고 그걸 기반으로 기술 통계량 확ㅇ니 후 채움\n",
    "# 실제 데이터를 찾기위해서 인터넷 상에서 조사\n",
    "# train의 Embarked 결측치 행 확인하기\n",
    "train[train['Embarked'].isnull()]"
   ]
  },
  {
   "cell_type": "code",
   "execution_count": 326,
   "metadata": {},
   "outputs": [
    {
     "data": {
      "text/plain": [
       "S    644\n",
       "C    168\n",
       "Q     77\n",
       "Name: Embarked, dtype: int64"
      ]
     },
     "execution_count": 326,
     "metadata": {},
     "output_type": "execute_result"
    }
   ],
   "source": [
    "# train 데이터 기준으로 데이터 살피기\n",
    "# 학습에 도움이 되는 데이터가 ⭐⭐⭐train\n",
    "# train 데이터 기준으로 결측치 처리해야함\n",
    "train['Embarked'].value_counts()  # S로 많이 탔음"
   ]
  },
  {
   "cell_type": "code",
   "execution_count": 327,
   "metadata": {},
   "outputs": [],
   "source": [
    "# 결측치 존재하는 모든 행에 'S'로 채우기\n",
    "# 결측치가 있다면 해당 value 값으로 채워라! -> fillna()\n",
    "train['Embarked']= train['Embarked'].fillna('S')"
   ]
  },
  {
   "cell_type": "code",
   "execution_count": 328,
   "metadata": {},
   "outputs": [
    {
     "data": {
      "text/html": [
       "<div>\n",
       "<style scoped>\n",
       "    .dataframe tbody tr th:only-of-type {\n",
       "        vertical-align: middle;\n",
       "    }\n",
       "\n",
       "    .dataframe tbody tr th {\n",
       "        vertical-align: top;\n",
       "    }\n",
       "\n",
       "    .dataframe thead th {\n",
       "        text-align: right;\n",
       "    }\n",
       "</style>\n",
       "<table border=\"1\" class=\"dataframe\">\n",
       "  <thead>\n",
       "    <tr style=\"text-align: right;\">\n",
       "      <th></th>\n",
       "      <th>Survived</th>\n",
       "      <th>Pclass</th>\n",
       "      <th>Name</th>\n",
       "      <th>Sex</th>\n",
       "      <th>Age</th>\n",
       "      <th>SibSp</th>\n",
       "      <th>Parch</th>\n",
       "      <th>Ticket</th>\n",
       "      <th>Fare</th>\n",
       "      <th>Cabin</th>\n",
       "      <th>Embarked</th>\n",
       "    </tr>\n",
       "    <tr>\n",
       "      <th>PassengerId</th>\n",
       "      <th></th>\n",
       "      <th></th>\n",
       "      <th></th>\n",
       "      <th></th>\n",
       "      <th></th>\n",
       "      <th></th>\n",
       "      <th></th>\n",
       "      <th></th>\n",
       "      <th></th>\n",
       "      <th></th>\n",
       "      <th></th>\n",
       "    </tr>\n",
       "  </thead>\n",
       "  <tbody>\n",
       "  </tbody>\n",
       "</table>\n",
       "</div>"
      ],
      "text/plain": [
       "Empty DataFrame\n",
       "Columns: [Survived, Pclass, Name, Sex, Age, SibSp, Parch, Ticket, Fare, Cabin, Embarked]\n",
       "Index: []"
      ]
     },
     "execution_count": 328,
     "metadata": {},
     "output_type": "execute_result"
    }
   ],
   "source": [
    "#위에서는 있었던 결측치가 채워져서 지금 행이 출력이 안되고 있음\n",
    "train[train['Embarked'].isnull()] # 처리 확인용"
   ]
  },
  {
   "attachments": {},
   "cell_type": "markdown",
   "metadata": {},
   "source": [
    "#### test-Fare 채우기"
   ]
  },
  {
   "cell_type": "code",
   "execution_count": 329,
   "metadata": {},
   "outputs": [
    {
     "data": {
      "text/plain": [
       "count    891.000000\n",
       "mean      32.204208\n",
       "std       49.693429\n",
       "min        0.000000\n",
       "25%        7.910400\n",
       "50%       14.454200\n",
       "75%       31.000000\n",
       "max      512.329200\n",
       "Name: Fare, dtype: float64"
      ]
     },
     "execution_count": 329,
     "metadata": {},
     "output_type": "execute_result"
    }
   ],
   "source": [
    "# 요금 컬럼 기술 통계량 확인해보기\n",
    "# 머신러닝은 train을 기준으로 배우기 때문에 train을 보고 결측치를 채우는 것을 판단하면 된다.\n",
    "train['Fare'].describe()\n",
    "# 평균과 중앙값중에 요금 데이터의 대표성을 가지고 있는 건 중앙 값이라고 판단\n",
    "# median"
   ]
  },
  {
   "cell_type": "code",
   "execution_count": 330,
   "metadata": {},
   "outputs": [
    {
     "data": {
      "text/plain": [
       "Survived    1.000000\n",
       "Pclass      0.338481\n",
       "Fare        0.257307\n",
       "Parch       0.081629\n",
       "Age         0.077221\n",
       "SibSp       0.035322\n",
       "Name: Survived, dtype: float64"
      ]
     },
     "execution_count": 330,
     "metadata": {},
     "output_type": "execute_result"
    }
   ],
   "source": [
    "# 생존/사망에 영향을 줬을 것 같은 다른 컬럼 확인해보기\n",
    "# 상관관계 확인\n",
    "# -1 ~ 1 : -1,1에 가까울 수록 상관관계가 높음\n",
    "# 0 : 비교적 상관관계가 낮다\n",
    "# abs()-> 절대값으로 불러오기\n",
    "# sort_values(ascending=False) 내림차순 정렬\n",
    "train.corr()['Survived'].abs().sort_values(ascending=False)\n",
    "# Pclass 컬럼이 비교적 상관관계가 높음을 확인\n",
    "\n",
    "# 상관관계는 수치 값으로 이루어진 컬럼에 대해서만 적용하고 그에 대한 것만 결과를 출력해줌!\n",
    "# info()확인 해보면 알 수 있음 (int형만 지금 상관관계가 계산 되어짐) --> 그래서 아래서 문자열 형태로 되어있는 컬럼도 연관을 시켜봄"
   ]
  },
  {
   "cell_type": "code",
   "execution_count": 331,
   "metadata": {},
   "outputs": [
    {
     "data": {
      "text/plain": [
       "<Axes: >"
      ]
     },
     "execution_count": 331,
     "metadata": {},
     "output_type": "execute_result"
    },
    {
     "data": {
      "image/png": "[encoded data removed]",
      "text/plain": [
       "<Figure size 1000x800 with 2 Axes>"
      ]
     },
     "metadata": {},
     "output_type": "display_data"
    }
   ],
   "source": [
    "# 상관관계 시각화 >> 히트맵 그래프 그려보기\n",
    "plt.figure(figsize=(10,8))\n",
    "# sns.heatmap(train.corr(), annot = True =>  상관관계 계수값 출력, cmap = 'coolwarm' => 색 설정도 가능)\n",
    "sns.heatmap(train.corr(), annot = True , cmap = 'coolwarm' )"
   ]
  },
  {
   "cell_type": "code",
   "execution_count": 332,
   "metadata": {},
   "outputs": [
    {
     "data": {
      "text/html": [
       "<div>\n",
       "<style scoped>\n",
       "    .dataframe tbody tr th:only-of-type {\n",
       "        vertical-align: middle;\n",
       "    }\n",
       "\n",
       "    .dataframe tbody tr th {\n",
       "        vertical-align: top;\n",
       "    }\n",
       "\n",
       "    .dataframe thead th {\n",
       "        text-align: right;\n",
       "    }\n",
       "</style>\n",
       "<table border=\"1\" class=\"dataframe\">\n",
       "  <thead>\n",
       "    <tr style=\"text-align: right;\">\n",
       "      <th></th>\n",
       "      <th></th>\n",
       "      <th>Fare</th>\n",
       "    </tr>\n",
       "    <tr>\n",
       "      <th>Pclass</th>\n",
       "      <th>Sex</th>\n",
       "      <th></th>\n",
       "    </tr>\n",
       "  </thead>\n",
       "  <tbody>\n",
       "    <tr>\n",
       "      <th rowspan=\"2\" valign=\"top\">1</th>\n",
       "      <th>female</th>\n",
       "      <td>82.66455</td>\n",
       "    </tr>\n",
       "    <tr>\n",
       "      <th>male</th>\n",
       "      <td>41.26250</td>\n",
       "    </tr>\n",
       "    <tr>\n",
       "      <th rowspan=\"2\" valign=\"top\">2</th>\n",
       "      <th>female</th>\n",
       "      <td>22.00000</td>\n",
       "    </tr>\n",
       "    <tr>\n",
       "      <th>male</th>\n",
       "      <td>13.00000</td>\n",
       "    </tr>\n",
       "    <tr>\n",
       "      <th rowspan=\"2\" valign=\"top\">3</th>\n",
       "      <th>female</th>\n",
       "      <td>12.47500</td>\n",
       "    </tr>\n",
       "    <tr>\n",
       "      <th>male</th>\n",
       "      <td>7.92500</td>\n",
       "    </tr>\n",
       "  </tbody>\n",
       "</table>\n",
       "</div>"
      ],
      "text/plain": [
       "                   Fare\n",
       "Pclass Sex             \n",
       "1      female  82.66455\n",
       "       male    41.26250\n",
       "2      female  22.00000\n",
       "       male    13.00000\n",
       "3      female  12.47500\n",
       "       male     7.92500"
      ]
     },
     "execution_count": 332,
     "metadata": {},
     "output_type": "execute_result"
    }
   ],
   "source": [
    "# 문자열 형태로 되어있는 컬럼도 연관을 시켜보자!\n",
    "# 성별 데이터를 한번 연관 시켜보자!\n",
    "# Pclass, Sex, Fare\n",
    "\n",
    "# 1- 여성 요금 중앙값\n",
    "# 1- 남성 요금 중앙값\n",
    "# groupby(기준)--> 같은것 끼리 묶어주기\n",
    "# 승객의 등급 성별,요금 중에서 등급, 성별을 묶어서 평균값을 확인함\n",
    "train[['Pclass','Sex','Fare']].groupby(['Pclass','Sex']).median()"
   ]
  },
  {
   "cell_type": "code",
   "execution_count": 333,
   "metadata": {},
   "outputs": [
    {
     "name": "stdout",
     "output_type": "stream",
     "text": [
      "<class 'pandas.core.frame.DataFrame'>\n",
      "Int64Index: 418 entries, 892 to 1309\n",
      "Data columns (total 10 columns):\n",
      " #   Column    Non-Null Count  Dtype  \n",
      "---  ------    --------------  -----  \n",
      " 0   Pclass    418 non-null    int64  \n",
      " 1   Name      418 non-null    object \n",
      " 2   Sex       418 non-null    object \n",
      " 3   Age       332 non-null    float64\n",
      " 4   SibSp     418 non-null    int64  \n",
      " 5   Parch     418 non-null    int64  \n",
      " 6   Ticket    418 non-null    object \n",
      " 7   Fare      418 non-null    float64\n",
      " 8   Cabin     91 non-null     object \n",
      " 9   Embarked  418 non-null    object \n",
      "dtypes: float64(2), int64(3), object(5)\n",
      "memory usage: 35.9+ KB\n"
     ]
    }
   ],
   "source": [
    "# 결측치 맞게 채워주기\n",
    "test ['Fare'] = test['Fare'].fillna(7.92500)\n",
    "test.info() # 잘 채워진 것을 확인 할 수 있음"
   ]
  },
  {
   "attachments": {},
   "cell_type": "markdown",
   "metadata": {},
   "source": [
    "#### Age 결측치 채우기\n",
    "- 단순 기술 통계치로 채우지 않고 다른 컬럼과의 상관관게를 이용하여 결측치를 채워보자.\n",
    "- 생존/사망과 상관이 높은 컬럼 : Pclass\n",
    "- 범주형 데이터 중에서도 생존/사망 어느정도 영향을 주는 컬럼 : Sex"
   ]
  },
  {
   "cell_type": "code",
   "execution_count": 334,
   "metadata": {},
   "outputs": [
    {
     "data": {
      "text/html": [
       "<div>\n",
       "<style scoped>\n",
       "    .dataframe tbody tr th:only-of-type {\n",
       "        vertical-align: middle;\n",
       "    }\n",
       "\n",
       "    .dataframe tbody tr th {\n",
       "        vertical-align: top;\n",
       "    }\n",
       "\n",
       "    .dataframe thead th {\n",
       "        text-align: right;\n",
       "    }\n",
       "</style>\n",
       "<table border=\"1\" class=\"dataframe\">\n",
       "  <thead>\n",
       "    <tr style=\"text-align: right;\">\n",
       "      <th></th>\n",
       "      <th></th>\n",
       "      <th>Age</th>\n",
       "    </tr>\n",
       "    <tr>\n",
       "      <th>Pclass</th>\n",
       "      <th>Sex</th>\n",
       "      <th></th>\n",
       "    </tr>\n",
       "  </thead>\n",
       "  <tbody>\n",
       "    <tr>\n",
       "      <th rowspan=\"2\" valign=\"top\">1</th>\n",
       "      <th>female</th>\n",
       "      <td>34.611765</td>\n",
       "    </tr>\n",
       "    <tr>\n",
       "      <th>male</th>\n",
       "      <td>41.281386</td>\n",
       "    </tr>\n",
       "    <tr>\n",
       "      <th rowspan=\"2\" valign=\"top\">2</th>\n",
       "      <th>female</th>\n",
       "      <td>28.722973</td>\n",
       "    </tr>\n",
       "    <tr>\n",
       "      <th>male</th>\n",
       "      <td>30.740707</td>\n",
       "    </tr>\n",
       "    <tr>\n",
       "      <th rowspan=\"2\" valign=\"top\">3</th>\n",
       "      <th>female</th>\n",
       "      <td>21.750000</td>\n",
       "    </tr>\n",
       "    <tr>\n",
       "      <th>male</th>\n",
       "      <td>26.507589</td>\n",
       "    </tr>\n",
       "  </tbody>\n",
       "</table>\n",
       "</div>"
      ],
      "text/plain": [
       "                     Age\n",
       "Pclass Sex              \n",
       "1      female  34.611765\n",
       "       male    41.281386\n",
       "2      female  28.722973\n",
       "       male    30.740707\n",
       "3      female  21.750000\n",
       "       male    26.507589"
      ]
     },
     "execution_count": 334,
     "metadata": {},
     "output_type": "execute_result"
    }
   ],
   "source": [
    "# 승객의 등급, 성별을 묶어서 나이의 평균값을 확인\n",
    "# 승객의 등급 성별, 나이 중에서 등급, 성별을 묶어서 평균값을 확인함\n",
    "gb1 = train[['Pclass','Sex','Age']].groupby(['Pclass','Sex']).mean()\n",
    "gb1"
   ]
  },
  {
   "cell_type": "code",
   "execution_count": 335,
   "metadata": {},
   "outputs": [
    {
     "data": {
      "text/plain": [
       "Age    34.611765\n",
       "Name: (1, female), dtype: float64"
      ]
     },
     "execution_count": 335,
     "metadata": {},
     "output_type": "execute_result"
    }
   ],
   "source": [
    "# Pclass가 3등급이고, male인 사람의 나이 평균 접근해보기\n",
    "# 중복 인덱스, 멀티 인덱스를 사용\n",
    "gb1.loc[(3,'male')]\n",
    "\n",
    "# Pclass 1등급이고 female 접근하기\n",
    "gb1.loc[(1,'female')]"
   ]
  },
  {
   "cell_type": "code",
   "execution_count": 336,
   "metadata": {},
   "outputs": [
    {
     "data": {
      "text/html": [
       "<div>\n",
       "<style scoped>\n",
       "    .dataframe tbody tr th:only-of-type {\n",
       "        vertical-align: middle;\n",
       "    }\n",
       "\n",
       "    .dataframe tbody tr th {\n",
       "        vertical-align: top;\n",
       "    }\n",
       "\n",
       "    .dataframe thead th {\n",
       "        text-align: right;\n",
       "    }\n",
       "</style>\n",
       "<table border=\"1\" class=\"dataframe\">\n",
       "  <thead>\n",
       "    <tr style=\"text-align: right;\">\n",
       "      <th></th>\n",
       "      <th>Pclass</th>\n",
       "      <th>Name</th>\n",
       "      <th>Sex</th>\n",
       "      <th>Age</th>\n",
       "      <th>SibSp</th>\n",
       "      <th>Parch</th>\n",
       "      <th>Ticket</th>\n",
       "      <th>Fare</th>\n",
       "      <th>Cabin</th>\n",
       "      <th>Embarked</th>\n",
       "    </tr>\n",
       "    <tr>\n",
       "      <th>PassengerId</th>\n",
       "      <th></th>\n",
       "      <th></th>\n",
       "      <th></th>\n",
       "      <th></th>\n",
       "      <th></th>\n",
       "      <th></th>\n",
       "      <th></th>\n",
       "      <th></th>\n",
       "      <th></th>\n",
       "      <th></th>\n",
       "    </tr>\n",
       "  </thead>\n",
       "  <tbody>\n",
       "    <tr>\n",
       "      <th>902</th>\n",
       "      <td>3</td>\n",
       "      <td>Ilieff, Mr. Ylio</td>\n",
       "      <td>male</td>\n",
       "      <td>NaN</td>\n",
       "      <td>0</td>\n",
       "      <td>0</td>\n",
       "      <td>349220</td>\n",
       "      <td>7.8958</td>\n",
       "      <td>NaN</td>\n",
       "      <td>S</td>\n",
       "    </tr>\n",
       "    <tr>\n",
       "      <th>914</th>\n",
       "      <td>1</td>\n",
       "      <td>Flegenheim, Mrs. Alfred (Antoinette)</td>\n",
       "      <td>female</td>\n",
       "      <td>NaN</td>\n",
       "      <td>0</td>\n",
       "      <td>0</td>\n",
       "      <td>PC 17598</td>\n",
       "      <td>31.6833</td>\n",
       "      <td>NaN</td>\n",
       "      <td>S</td>\n",
       "    </tr>\n",
       "    <tr>\n",
       "      <th>921</th>\n",
       "      <td>3</td>\n",
       "      <td>Samaan, Mr. Elias</td>\n",
       "      <td>male</td>\n",
       "      <td>NaN</td>\n",
       "      <td>2</td>\n",
       "      <td>0</td>\n",
       "      <td>2662</td>\n",
       "      <td>21.6792</td>\n",
       "      <td>NaN</td>\n",
       "      <td>C</td>\n",
       "    </tr>\n",
       "    <tr>\n",
       "      <th>925</th>\n",
       "      <td>3</td>\n",
       "      <td>Johnston, Mrs. Andrew G (Elizabeth Lily\" Watson)\"</td>\n",
       "      <td>female</td>\n",
       "      <td>NaN</td>\n",
       "      <td>1</td>\n",
       "      <td>2</td>\n",
       "      <td>W./C. 6607</td>\n",
       "      <td>23.4500</td>\n",
       "      <td>NaN</td>\n",
       "      <td>S</td>\n",
       "    </tr>\n",
       "    <tr>\n",
       "      <th>928</th>\n",
       "      <td>3</td>\n",
       "      <td>Roth, Miss. Sarah A</td>\n",
       "      <td>female</td>\n",
       "      <td>NaN</td>\n",
       "      <td>0</td>\n",
       "      <td>0</td>\n",
       "      <td>342712</td>\n",
       "      <td>8.0500</td>\n",
       "      <td>NaN</td>\n",
       "      <td>S</td>\n",
       "    </tr>\n",
       "    <tr>\n",
       "      <th>...</th>\n",
       "      <td>...</td>\n",
       "      <td>...</td>\n",
       "      <td>...</td>\n",
       "      <td>...</td>\n",
       "      <td>...</td>\n",
       "      <td>...</td>\n",
       "      <td>...</td>\n",
       "      <td>...</td>\n",
       "      <td>...</td>\n",
       "      <td>...</td>\n",
       "    </tr>\n",
       "    <tr>\n",
       "      <th>1300</th>\n",
       "      <td>3</td>\n",
       "      <td>Riordan, Miss. Johanna Hannah\"\"</td>\n",
       "      <td>female</td>\n",
       "      <td>NaN</td>\n",
       "      <td>0</td>\n",
       "      <td>0</td>\n",
       "      <td>334915</td>\n",
       "      <td>7.7208</td>\n",
       "      <td>NaN</td>\n",
       "      <td>Q</td>\n",
       "    </tr>\n",
       "    <tr>\n",
       "      <th>1302</th>\n",
       "      <td>3</td>\n",
       "      <td>Naughton, Miss. Hannah</td>\n",
       "      <td>female</td>\n",
       "      <td>NaN</td>\n",
       "      <td>0</td>\n",
       "      <td>0</td>\n",
       "      <td>365237</td>\n",
       "      <td>7.7500</td>\n",
       "      <td>NaN</td>\n",
       "      <td>Q</td>\n",
       "    </tr>\n",
       "    <tr>\n",
       "      <th>1305</th>\n",
       "      <td>3</td>\n",
       "      <td>Spector, Mr. Woolf</td>\n",
       "      <td>male</td>\n",
       "      <td>NaN</td>\n",
       "      <td>0</td>\n",
       "      <td>0</td>\n",
       "      <td>A.5. 3236</td>\n",
       "      <td>8.0500</td>\n",
       "      <td>NaN</td>\n",
       "      <td>S</td>\n",
       "    </tr>\n",
       "    <tr>\n",
       "      <th>1308</th>\n",
       "      <td>3</td>\n",
       "      <td>Ware, Mr. Frederick</td>\n",
       "      <td>male</td>\n",
       "      <td>NaN</td>\n",
       "      <td>0</td>\n",
       "      <td>0</td>\n",
       "      <td>359309</td>\n",
       "      <td>8.0500</td>\n",
       "      <td>NaN</td>\n",
       "      <td>S</td>\n",
       "    </tr>\n",
       "    <tr>\n",
       "      <th>1309</th>\n",
       "      <td>3</td>\n",
       "      <td>Peter, Master. Michael J</td>\n",
       "      <td>male</td>\n",
       "      <td>NaN</td>\n",
       "      <td>1</td>\n",
       "      <td>1</td>\n",
       "      <td>2668</td>\n",
       "      <td>22.3583</td>\n",
       "      <td>NaN</td>\n",
       "      <td>C</td>\n",
       "    </tr>\n",
       "  </tbody>\n",
       "</table>\n",
       "<p>86 rows × 10 columns</p>\n",
       "</div>"
      ],
      "text/plain": [
       "             Pclass                                               Name  \\\n",
       "PassengerId                                                              \n",
       "902               3                                   Ilieff, Mr. Ylio   \n",
       "914               1               Flegenheim, Mrs. Alfred (Antoinette)   \n",
       "921               3                                  Samaan, Mr. Elias   \n",
       "925               3  Johnston, Mrs. Andrew G (Elizabeth Lily\" Watson)\"   \n",
       "928               3                                Roth, Miss. Sarah A   \n",
       "...             ...                                                ...   \n",
       "1300              3                    Riordan, Miss. Johanna Hannah\"\"   \n",
       "1302              3                             Naughton, Miss. Hannah   \n",
       "1305              3                                 Spector, Mr. Woolf   \n",
       "1308              3                                Ware, Mr. Frederick   \n",
       "1309              3                           Peter, Master. Michael J   \n",
       "\n",
       "                Sex  Age  SibSp  Parch      Ticket     Fare Cabin Embarked  \n",
       "PassengerId                                                                 \n",
       "902            male  NaN      0      0      349220   7.8958   NaN        S  \n",
       "914          female  NaN      0      0    PC 17598  31.6833   NaN        S  \n",
       "921            male  NaN      2      0        2662  21.6792   NaN        C  \n",
       "925          female  NaN      1      2  W./C. 6607  23.4500   NaN        S  \n",
       "928          female  NaN      0      0      342712   8.0500   NaN        S  \n",
       "...             ...  ...    ...    ...         ...      ...   ...      ...  \n",
       "1300         female  NaN      0      0      334915   7.7208   NaN        Q  \n",
       "1302         female  NaN      0      0      365237   7.7500   NaN        Q  \n",
       "1305           male  NaN      0      0   A.5. 3236   8.0500   NaN        S  \n",
       "1308           male  NaN      0      0      359309   8.0500   NaN        S  \n",
       "1309           male  NaN      1      1        2668  22.3583   NaN        C  \n",
       "\n",
       "[86 rows x 10 columns]"
      ]
     },
     "execution_count": 336,
     "metadata": {},
     "output_type": "execute_result"
    }
   ],
   "source": [
    "# train Age 결측치 행 확인\n",
    "train[train['Age'].isnull()]\n",
    "\n",
    "# test Age 결측치 행 확인\n",
    "test[test['Age'].isnull()]"
   ]
  },
  {
   "cell_type": "code",
   "execution_count": 337,
   "metadata": {},
   "outputs": [
    {
     "data": {
      "text/plain": [
       "array([ 1.,  2., nan])"
      ]
     },
     "execution_count": 337,
     "metadata": {},
     "output_type": "execute_result"
    }
   ],
   "source": [
    "# np.isnan=> null인지 확인하는 함수\n",
    "a = np.array([1,2,np.nan])\n",
    "np.isnan(a)\n",
    "pd.isnull(a)\n",
    "a"
   ]
  },
  {
   "cell_type": "code",
   "execution_count": 338,
   "metadata": {},
   "outputs": [
    {
     "name": "stdout",
     "output_type": "stream",
     "text": [
      "22.0\n",
      "38.0\n",
      "26.0\n",
      "35.0\n",
      "35.0\n",
      "nan\n",
      "54.0\n",
      "2.0\n",
      "27.0\n",
      "14.0\n",
      "4.0\n",
      "58.0\n",
      "20.0\n",
      "39.0\n",
      "14.0\n",
      "55.0\n",
      "2.0\n",
      "nan\n",
      "31.0\n",
      "nan\n",
      "35.0\n",
      "34.0\n",
      "15.0\n",
      "28.0\n",
      "8.0\n",
      "38.0\n",
      "nan\n",
      "19.0\n",
      "nan\n",
      "nan\n",
      "40.0\n",
      "nan\n",
      "nan\n",
      "66.0\n",
      "28.0\n",
      "42.0\n",
      "nan\n",
      "21.0\n",
      "18.0\n",
      "14.0\n",
      "40.0\n",
      "27.0\n",
      "nan\n",
      "3.0\n",
      "19.0\n",
      "nan\n",
      "nan\n",
      "nan\n",
      "nan\n",
      "18.0\n",
      "7.0\n",
      "21.0\n",
      "49.0\n",
      "29.0\n",
      "65.0\n",
      "nan\n",
      "21.0\n",
      "28.5\n",
      "5.0\n",
      "11.0\n",
      "22.0\n",
      "38.0\n",
      "45.0\n",
      "4.0\n",
      "nan\n",
      "nan\n",
      "29.0\n",
      "19.0\n",
      "17.0\n",
      "26.0\n",
      "32.0\n",
      "16.0\n",
      "21.0\n",
      "26.0\n",
      "32.0\n",
      "25.0\n",
      "nan\n",
      "nan\n",
      "0.83\n",
      "30.0\n",
      "22.0\n",
      "29.0\n",
      "nan\n",
      "28.0\n",
      "17.0\n",
      "33.0\n",
      "16.0\n",
      "nan\n",
      "23.0\n",
      "24.0\n",
      "29.0\n",
      "20.0\n",
      "46.0\n",
      "26.0\n",
      "59.0\n",
      "nan\n",
      "71.0\n",
      "23.0\n",
      "34.0\n",
      "34.0\n",
      "28.0\n",
      "nan\n",
      "21.0\n",
      "33.0\n",
      "37.0\n",
      "28.0\n",
      "21.0\n",
      "nan\n",
      "38.0\n",
      "nan\n",
      "47.0\n",
      "14.5\n",
      "22.0\n",
      "20.0\n",
      "17.0\n",
      "21.0\n",
      "70.5\n",
      "29.0\n",
      "24.0\n",
      "2.0\n",
      "21.0\n",
      "nan\n",
      "32.5\n",
      "32.5\n",
      "54.0\n",
      "12.0\n",
      "nan\n",
      "24.0\n",
      "nan\n",
      "45.0\n",
      "33.0\n",
      "20.0\n",
      "47.0\n",
      "29.0\n",
      "25.0\n",
      "23.0\n",
      "19.0\n",
      "37.0\n",
      "16.0\n",
      "24.0\n",
      "nan\n",
      "22.0\n",
      "24.0\n",
      "19.0\n",
      "18.0\n",
      "19.0\n",
      "27.0\n",
      "9.0\n",
      "36.5\n",
      "42.0\n",
      "51.0\n",
      "22.0\n",
      "55.5\n",
      "40.5\n",
      "nan\n",
      "51.0\n",
      "16.0\n",
      "30.0\n",
      "nan\n",
      "nan\n",
      "44.0\n",
      "40.0\n",
      "26.0\n",
      "17.0\n",
      "1.0\n",
      "9.0\n",
      "nan\n",
      "45.0\n",
      "nan\n",
      "28.0\n",
      "61.0\n",
      "4.0\n",
      "1.0\n",
      "21.0\n",
      "56.0\n",
      "18.0\n",
      "nan\n",
      "50.0\n",
      "30.0\n",
      "36.0\n",
      "nan\n",
      "nan\n",
      "9.0\n",
      "1.0\n",
      "4.0\n",
      "nan\n",
      "nan\n",
      "45.0\n",
      "40.0\n",
      "36.0\n",
      "32.0\n",
      "19.0\n",
      "19.0\n",
      "3.0\n",
      "44.0\n",
      "58.0\n",
      "nan\n",
      "42.0\n",
      "nan\n",
      "24.0\n",
      "28.0\n",
      "nan\n",
      "34.0\n",
      "45.5\n",
      "18.0\n",
      "2.0\n",
      "32.0\n",
      "26.0\n",
      "16.0\n",
      "40.0\n",
      "24.0\n",
      "35.0\n",
      "22.0\n",
      "30.0\n",
      "nan\n",
      "31.0\n",
      "27.0\n",
      "42.0\n",
      "32.0\n",
      "30.0\n",
      "16.0\n",
      "27.0\n",
      "51.0\n",
      "nan\n",
      "38.0\n",
      "22.0\n",
      "19.0\n",
      "20.5\n",
      "18.0\n",
      "nan\n",
      "35.0\n",
      "29.0\n",
      "59.0\n",
      "5.0\n",
      "24.0\n",
      "nan\n",
      "44.0\n",
      "8.0\n",
      "19.0\n",
      "33.0\n",
      "nan\n",
      "nan\n",
      "29.0\n",
      "22.0\n",
      "30.0\n",
      "44.0\n",
      "25.0\n",
      "24.0\n",
      "37.0\n",
      "54.0\n",
      "nan\n",
      "29.0\n",
      "62.0\n",
      "30.0\n",
      "41.0\n",
      "29.0\n",
      "nan\n",
      "30.0\n",
      "35.0\n",
      "50.0\n",
      "nan\n",
      "3.0\n",
      "52.0\n",
      "40.0\n",
      "nan\n",
      "36.0\n",
      "16.0\n",
      "25.0\n",
      "58.0\n",
      "35.0\n",
      "nan\n",
      "25.0\n",
      "41.0\n",
      "37.0\n",
      "nan\n",
      "63.0\n",
      "45.0\n",
      "nan\n",
      "7.0\n",
      "35.0\n",
      "65.0\n",
      "28.0\n",
      "16.0\n",
      "19.0\n",
      "nan\n",
      "33.0\n",
      "30.0\n",
      "22.0\n",
      "42.0\n",
      "22.0\n",
      "26.0\n",
      "19.0\n",
      "36.0\n",
      "24.0\n",
      "24.0\n",
      "nan\n",
      "23.5\n",
      "2.0\n",
      "nan\n",
      "50.0\n",
      "nan\n",
      "nan\n",
      "19.0\n",
      "nan\n",
      "nan\n",
      "0.92\n",
      "nan\n",
      "17.0\n",
      "30.0\n",
      "30.0\n",
      "24.0\n",
      "18.0\n",
      "26.0\n",
      "28.0\n",
      "43.0\n",
      "26.0\n",
      "24.0\n",
      "54.0\n",
      "31.0\n",
      "40.0\n",
      "22.0\n",
      "27.0\n",
      "30.0\n",
      "22.0\n",
      "nan\n",
      "36.0\n",
      "61.0\n",
      "36.0\n",
      "31.0\n",
      "16.0\n",
      "nan\n",
      "45.5\n",
      "38.0\n",
      "16.0\n",
      "nan\n",
      "nan\n",
      "29.0\n",
      "41.0\n",
      "45.0\n",
      "45.0\n",
      "2.0\n",
      "24.0\n",
      "28.0\n",
      "25.0\n",
      "36.0\n",
      "24.0\n",
      "40.0\n",
      "nan\n",
      "3.0\n",
      "42.0\n",
      "23.0\n",
      "nan\n",
      "15.0\n",
      "25.0\n",
      "nan\n",
      "28.0\n",
      "22.0\n",
      "38.0\n",
      "nan\n",
      "nan\n",
      "40.0\n",
      "29.0\n",
      "45.0\n",
      "35.0\n",
      "nan\n",
      "30.0\n",
      "60.0\n",
      "nan\n",
      "nan\n",
      "24.0\n",
      "25.0\n",
      "18.0\n",
      "19.0\n",
      "22.0\n",
      "3.0\n",
      "nan\n",
      "22.0\n",
      "27.0\n",
      "20.0\n",
      "19.0\n",
      "42.0\n",
      "1.0\n",
      "32.0\n",
      "35.0\n",
      "nan\n",
      "18.0\n",
      "1.0\n",
      "36.0\n",
      "nan\n",
      "17.0\n",
      "36.0\n",
      "21.0\n",
      "28.0\n",
      "23.0\n",
      "24.0\n",
      "22.0\n",
      "31.0\n",
      "46.0\n",
      "23.0\n",
      "28.0\n",
      "39.0\n",
      "26.0\n",
      "21.0\n",
      "28.0\n",
      "20.0\n",
      "34.0\n",
      "51.0\n",
      "3.0\n",
      "21.0\n",
      "nan\n",
      "nan\n",
      "nan\n",
      "33.0\n",
      "nan\n",
      "44.0\n",
      "nan\n",
      "34.0\n",
      "18.0\n",
      "30.0\n",
      "10.0\n",
      "nan\n",
      "21.0\n",
      "29.0\n",
      "28.0\n",
      "18.0\n",
      "nan\n",
      "28.0\n",
      "19.0\n",
      "nan\n",
      "32.0\n",
      "28.0\n",
      "nan\n",
      "42.0\n",
      "17.0\n",
      "50.0\n",
      "14.0\n",
      "21.0\n",
      "24.0\n",
      "64.0\n",
      "31.0\n",
      "45.0\n",
      "20.0\n",
      "25.0\n",
      "28.0\n",
      "nan\n",
      "4.0\n",
      "13.0\n",
      "34.0\n",
      "5.0\n",
      "52.0\n",
      "36.0\n",
      "nan\n",
      "30.0\n",
      "49.0\n",
      "nan\n",
      "29.0\n",
      "65.0\n",
      "nan\n",
      "50.0\n",
      "nan\n",
      "48.0\n",
      "34.0\n",
      "47.0\n",
      "48.0\n",
      "nan\n",
      "38.0\n",
      "nan\n",
      "56.0\n",
      "nan\n",
      "0.75\n",
      "nan\n",
      "38.0\n",
      "33.0\n",
      "23.0\n",
      "22.0\n",
      "nan\n",
      "34.0\n",
      "29.0\n",
      "22.0\n",
      "2.0\n",
      "9.0\n",
      "nan\n",
      "50.0\n",
      "63.0\n",
      "25.0\n",
      "nan\n",
      "35.0\n",
      "58.0\n",
      "30.0\n",
      "9.0\n",
      "nan\n",
      "21.0\n",
      "55.0\n",
      "71.0\n",
      "21.0\n",
      "nan\n",
      "54.0\n",
      "nan\n",
      "25.0\n",
      "24.0\n",
      "17.0\n",
      "21.0\n",
      "nan\n",
      "37.0\n",
      "16.0\n",
      "18.0\n",
      "33.0\n",
      "nan\n",
      "28.0\n",
      "26.0\n",
      "29.0\n",
      "nan\n",
      "36.0\n",
      "54.0\n",
      "24.0\n",
      "47.0\n",
      "34.0\n",
      "nan\n",
      "36.0\n",
      "32.0\n",
      "30.0\n",
      "22.0\n",
      "nan\n",
      "44.0\n",
      "nan\n",
      "40.5\n",
      "50.0\n",
      "nan\n",
      "39.0\n",
      "23.0\n",
      "2.0\n",
      "nan\n",
      "17.0\n",
      "nan\n",
      "30.0\n",
      "7.0\n",
      "45.0\n",
      "30.0\n",
      "nan\n",
      "22.0\n",
      "36.0\n",
      "9.0\n",
      "11.0\n",
      "32.0\n",
      "50.0\n",
      "64.0\n",
      "19.0\n",
      "nan\n",
      "33.0\n",
      "8.0\n",
      "17.0\n",
      "27.0\n",
      "nan\n",
      "22.0\n",
      "22.0\n",
      "62.0\n",
      "48.0\n",
      "nan\n",
      "39.0\n",
      "36.0\n",
      "nan\n",
      "40.0\n",
      "28.0\n",
      "nan\n",
      "nan\n",
      "24.0\n",
      "19.0\n",
      "29.0\n",
      "nan\n",
      "32.0\n",
      "62.0\n",
      "53.0\n",
      "36.0\n",
      "nan\n",
      "16.0\n",
      "19.0\n",
      "34.0\n",
      "39.0\n",
      "nan\n",
      "32.0\n",
      "25.0\n",
      "39.0\n",
      "54.0\n",
      "36.0\n",
      "nan\n",
      "18.0\n",
      "47.0\n",
      "60.0\n",
      "22.0\n",
      "nan\n",
      "35.0\n",
      "52.0\n",
      "47.0\n",
      "nan\n",
      "37.0\n",
      "36.0\n",
      "nan\n",
      "49.0\n",
      "nan\n",
      "49.0\n",
      "24.0\n",
      "nan\n",
      "nan\n",
      "44.0\n",
      "35.0\n",
      "36.0\n",
      "30.0\n",
      "27.0\n",
      "22.0\n",
      "40.0\n",
      "39.0\n",
      "nan\n",
      "nan\n",
      "nan\n",
      "35.0\n",
      "24.0\n",
      "34.0\n",
      "26.0\n",
      "4.0\n",
      "26.0\n",
      "27.0\n",
      "42.0\n",
      "20.0\n",
      "21.0\n",
      "21.0\n",
      "61.0\n",
      "57.0\n",
      "21.0\n",
      "26.0\n",
      "nan\n",
      "80.0\n",
      "51.0\n",
      "32.0\n",
      "nan\n",
      "9.0\n",
      "28.0\n",
      "32.0\n",
      "31.0\n",
      "41.0\n",
      "nan\n",
      "20.0\n",
      "24.0\n",
      "2.0\n",
      "nan\n",
      "0.75\n",
      "48.0\n",
      "19.0\n",
      "56.0\n",
      "nan\n",
      "23.0\n",
      "nan\n",
      "18.0\n",
      "21.0\n",
      "nan\n",
      "18.0\n",
      "24.0\n",
      "nan\n",
      "32.0\n",
      "23.0\n",
      "58.0\n",
      "50.0\n",
      "40.0\n",
      "47.0\n",
      "36.0\n",
      "20.0\n",
      "32.0\n",
      "25.0\n",
      "nan\n",
      "43.0\n",
      "nan\n",
      "40.0\n",
      "31.0\n",
      "70.0\n",
      "31.0\n",
      "nan\n",
      "18.0\n",
      "24.5\n",
      "18.0\n",
      "43.0\n",
      "36.0\n",
      "nan\n",
      "27.0\n",
      "20.0\n",
      "14.0\n",
      "60.0\n",
      "25.0\n",
      "14.0\n",
      "19.0\n",
      "18.0\n",
      "15.0\n",
      "31.0\n",
      "4.0\n",
      "nan\n",
      "25.0\n",
      "60.0\n",
      "52.0\n",
      "44.0\n",
      "nan\n",
      "49.0\n",
      "42.0\n",
      "18.0\n",
      "35.0\n",
      "18.0\n",
      "25.0\n",
      "26.0\n",
      "39.0\n",
      "45.0\n",
      "42.0\n",
      "22.0\n",
      "nan\n",
      "24.0\n",
      "nan\n",
      "48.0\n",
      "29.0\n",
      "52.0\n",
      "19.0\n",
      "38.0\n",
      "27.0\n",
      "nan\n",
      "33.0\n",
      "6.0\n",
      "17.0\n",
      "34.0\n",
      "50.0\n",
      "27.0\n",
      "20.0\n",
      "30.0\n",
      "nan\n",
      "25.0\n",
      "25.0\n",
      "29.0\n",
      "11.0\n",
      "nan\n",
      "23.0\n",
      "23.0\n",
      "28.5\n",
      "48.0\n",
      "35.0\n",
      "nan\n",
      "nan\n",
      "nan\n",
      "36.0\n",
      "21.0\n",
      "24.0\n",
      "31.0\n",
      "70.0\n",
      "16.0\n",
      "30.0\n",
      "19.0\n",
      "31.0\n",
      "4.0\n",
      "6.0\n",
      "33.0\n",
      "23.0\n",
      "48.0\n",
      "0.67\n",
      "28.0\n",
      "18.0\n",
      "34.0\n",
      "33.0\n",
      "nan\n",
      "41.0\n",
      "20.0\n",
      "36.0\n",
      "16.0\n",
      "51.0\n",
      "nan\n",
      "30.5\n",
      "nan\n",
      "32.0\n",
      "24.0\n",
      "48.0\n",
      "57.0\n",
      "nan\n",
      "54.0\n",
      "18.0\n",
      "nan\n",
      "5.0\n",
      "nan\n",
      "43.0\n",
      "13.0\n",
      "17.0\n",
      "29.0\n",
      "nan\n",
      "25.0\n",
      "25.0\n",
      "18.0\n",
      "8.0\n",
      "1.0\n",
      "46.0\n",
      "nan\n",
      "16.0\n",
      "nan\n",
      "nan\n",
      "25.0\n",
      "39.0\n",
      "49.0\n",
      "31.0\n",
      "30.0\n",
      "30.0\n",
      "34.0\n",
      "31.0\n",
      "11.0\n",
      "0.42\n",
      "27.0\n",
      "31.0\n",
      "39.0\n",
      "18.0\n",
      "39.0\n",
      "33.0\n",
      "26.0\n",
      "39.0\n",
      "35.0\n",
      "6.0\n",
      "30.5\n",
      "nan\n",
      "23.0\n",
      "31.0\n",
      "43.0\n",
      "10.0\n",
      "52.0\n",
      "27.0\n",
      "38.0\n",
      "27.0\n",
      "2.0\n",
      "nan\n",
      "nan\n",
      "1.0\n",
      "nan\n",
      "62.0\n",
      "15.0\n",
      "0.83\n",
      "nan\n",
      "23.0\n",
      "18.0\n",
      "39.0\n",
      "21.0\n",
      "nan\n",
      "32.0\n",
      "nan\n",
      "20.0\n",
      "16.0\n",
      "30.0\n",
      "34.5\n",
      "17.0\n",
      "42.0\n",
      "nan\n",
      "35.0\n",
      "28.0\n",
      "nan\n",
      "4.0\n",
      "74.0\n",
      "9.0\n",
      "16.0\n",
      "44.0\n",
      "18.0\n",
      "45.0\n",
      "51.0\n",
      "24.0\n",
      "nan\n",
      "41.0\n",
      "21.0\n",
      "48.0\n",
      "nan\n",
      "24.0\n",
      "42.0\n",
      "27.0\n",
      "31.0\n",
      "nan\n",
      "4.0\n",
      "26.0\n",
      "47.0\n",
      "33.0\n",
      "47.0\n",
      "28.0\n",
      "15.0\n",
      "20.0\n",
      "19.0\n",
      "nan\n",
      "56.0\n",
      "25.0\n",
      "33.0\n",
      "22.0\n",
      "28.0\n",
      "25.0\n",
      "39.0\n",
      "27.0\n",
      "19.0\n",
      "nan\n",
      "26.0\n",
      "32.0\n"
     ]
    },
    {
     "data": {
      "text/plain": [
       "PassengerId\n",
       "1      None\n",
       "2      None\n",
       "3      None\n",
       "4      None\n",
       "5      None\n",
       "       ... \n",
       "887    None\n",
       "888    None\n",
       "889    None\n",
       "890    None\n",
       "891    None\n",
       "Length: 891, dtype: object"
      ]
     },
     "execution_count": 338,
     "metadata": {},
     "output_type": "execute_result"
    }
   ],
   "source": [
    "\n",
    "# pd.apply() : 사용자가 정의한 복잡한 기능을 하는 함수를 판다스 객체에 적용할때 사용하는 함수\n",
    "def test_print(data) : \n",
    "    print(data[\"Age\"])\n",
    "# axis = 0 은 행방향으로 확인 / axis = 1은 열 방향으로 확인\n",
    "train[['Pclass','Age']].apply(test_print,axis = 1)\n"
   ]
  },
  {
   "cell_type": "code",
   "execution_count": 339,
   "metadata": {},
   "outputs": [],
   "source": [
    "# 나이 결측치 채워주는 자동화 코드 생성하기!!! \n",
    "def fill_age(row) : \n",
    "    # 만약에 나이가 결측치라면 gb1에서 나이 평균값 가져와서 반환하기\n",
    "    # 1인 데이터를 확인하려면 행단위 처리, 열방향으로 데이터 확인\n",
    "    if np.isnan(row['Age']):\n",
    "        age = gb1.loc[(row['Pclass'],row['Sex'])]\n",
    "        return age\n",
    "    # 결측치가 아니라면 원래 나이 값을 반환하기\n",
    "    else : \n",
    "        return row['Age']"
   ]
  },
  {
   "cell_type": "code",
   "execution_count": 340,
   "metadata": {},
   "outputs": [
    {
     "data": {
      "text/plain": [
       "0"
      ]
     },
     "execution_count": 340,
     "metadata": {},
     "output_type": "execute_result"
    }
   ],
   "source": [
    "# train age 결측치 채우기\n",
    "train['Age'] = train.apply(fill_age,axis = 1).astype('int64')\n",
    "# train['Age'].isnull().sum()\n",
    "train['Age'].isnull().sum() # 결측치 x, 처리 완료"
   ]
  },
  {
   "cell_type": "code",
   "execution_count": 341,
   "metadata": {},
   "outputs": [
    {
     "data": {
      "text/plain": [
       "0"
      ]
     },
     "execution_count": 341,
     "metadata": {},
     "output_type": "execute_result"
    }
   ],
   "source": [
    "# test age 결측치 채우기\n",
    "test['Age'] = test.apply(fill_age,axis = 1).astype('int64')\n",
    "\n",
    "test['Age'].isnull().sum()  # 결측치 잘 채워졌는지 확인하기"
   ]
  },
  {
   "attachments": {},
   "cell_type": "markdown",
   "metadata": {},
   "source": [
    "#### Cabin 결측치 채우기"
   ]
  },
  {
   "cell_type": "code",
   "execution_count": 342,
   "metadata": {},
   "outputs": [],
   "source": [
    "# 요소 데이터 확인해보기\n",
    "train['Cabin'].unique()\n",
    "\n",
    "# nan 값을 임의의 알파벳으로 채우기 => 'M'\n",
    "train['Deck'] = train['Cabin'].fillna('M')\n",
    "test['Deck'] = test['Cabin'].fillna('M')"
   ]
  },
  {
   "cell_type": "code",
   "execution_count": 343,
   "metadata": {},
   "outputs": [],
   "source": [
    "# 알파벳만 추출하기, 문제열의 인덱스 번호 0번째\n",
    "train['Deck']= train['Deck'].str[0]  # 0번째 알파벳만 뺌\n",
    "test['Deck'] = test['Deck'].str[0]"
   ]
  },
  {
   "cell_type": "code",
   "execution_count": 344,
   "metadata": {},
   "outputs": [],
   "source": [
    "# Cabin컬럼은 삭제 train, test 동일하게 적용 !\n",
    "# drop(컬럼명.axix = 1)\n",
    "train.drop('Cabin',axis = 1,inplace = True)  \n",
    "#요걸 실행을 시켜주려면 train변수에 담거나 inplace = True로 해주면 바로 반영이된다\n"
   ]
  },
  {
   "cell_type": "code",
   "execution_count": 345,
   "metadata": {},
   "outputs": [
    {
     "name": "stdout",
     "output_type": "stream",
     "text": [
      "<class 'pandas.core.frame.DataFrame'>\n",
      "Int64Index: 891 entries, 1 to 891\n",
      "Data columns (total 11 columns):\n",
      " #   Column    Non-Null Count  Dtype  \n",
      "---  ------    --------------  -----  \n",
      " 0   Survived  891 non-null    int64  \n",
      " 1   Pclass    891 non-null    int64  \n",
      " 2   Name      891 non-null    object \n",
      " 3   Sex       891 non-null    object \n",
      " 4   Age       891 non-null    int64  \n",
      " 5   SibSp     891 non-null    int64  \n",
      " 6   Parch     891 non-null    int64  \n",
      " 7   Ticket    891 non-null    object \n",
      " 8   Fare      891 non-null    float64\n",
      " 9   Embarked  891 non-null    object \n",
      " 10  Deck      891 non-null    object \n",
      "dtypes: float64(1), int64(5), object(5)\n",
      "memory usage: 83.5+ KB\n"
     ]
    }
   ],
   "source": [
    "train.info() # 11개"
   ]
  },
  {
   "cell_type": "code",
   "execution_count": 346,
   "metadata": {},
   "outputs": [],
   "source": [
    "test.drop('Cabin',axis = 1,inplace = True)"
   ]
  },
  {
   "cell_type": "code",
   "execution_count": 347,
   "metadata": {},
   "outputs": [
    {
     "name": "stdout",
     "output_type": "stream",
     "text": [
      "<class 'pandas.core.frame.DataFrame'>\n",
      "Int64Index: 418 entries, 892 to 1309\n",
      "Data columns (total 10 columns):\n",
      " #   Column    Non-Null Count  Dtype  \n",
      "---  ------    --------------  -----  \n",
      " 0   Pclass    418 non-null    int64  \n",
      " 1   Name      418 non-null    object \n",
      " 2   Sex       418 non-null    object \n",
      " 3   Age       418 non-null    int64  \n",
      " 4   SibSp     418 non-null    int64  \n",
      " 5   Parch     418 non-null    int64  \n",
      " 6   Ticket    418 non-null    object \n",
      " 7   Fare      418 non-null    float64\n",
      " 8   Embarked  418 non-null    object \n",
      " 9   Deck      418 non-null    object \n",
      "dtypes: float64(1), int64(4), object(5)\n",
      "memory usage: 35.9+ KB\n"
     ]
    }
   ],
   "source": [
    "test.info()# 10개"
   ]
  },
  {
   "attachments": {},
   "cell_type": "markdown",
   "metadata": {},
   "source": [
    "데이터 탐색\n",
    "- train 데이터를 이용해 탐색함\n",
    "- test를 탐색하는 것은 모델의 일반화에 도움이 되지 않기 때문에 탐색하지 않는다."
   ]
  },
  {
   "attachments": {},
   "cell_type": "markdown",
   "metadata": {},
   "source": [
    "2023.04.14"
   ]
  },
  {
   "attachments": {},
   "cell_type": "markdown",
   "metadata": {},
   "source": [
    "#### 범주형 데이터 살펴보기\n",
    "##### Deck 시각화"
   ]
  },
  {
   "cell_type": "code",
   "execution_count": 348,
   "metadata": {},
   "outputs": [
    {
     "data": {
      "text/html": [
       "<div>\n",
       "<style scoped>\n",
       "    .dataframe tbody tr th:only-of-type {\n",
       "        vertical-align: middle;\n",
       "    }\n",
       "\n",
       "    .dataframe tbody tr th {\n",
       "        vertical-align: top;\n",
       "    }\n",
       "\n",
       "    .dataframe thead th {\n",
       "        text-align: right;\n",
       "    }\n",
       "</style>\n",
       "<table border=\"1\" class=\"dataframe\">\n",
       "  <thead>\n",
       "    <tr style=\"text-align: right;\">\n",
       "      <th></th>\n",
       "      <th></th>\n",
       "      <th>Name</th>\n",
       "    </tr>\n",
       "    <tr>\n",
       "      <th>Deck</th>\n",
       "      <th>Survived</th>\n",
       "      <th></th>\n",
       "    </tr>\n",
       "  </thead>\n",
       "  <tbody>\n",
       "    <tr>\n",
       "      <th rowspan=\"2\" valign=\"top\">A</th>\n",
       "      <th>0</th>\n",
       "      <td>8</td>\n",
       "    </tr>\n",
       "    <tr>\n",
       "      <th>1</th>\n",
       "      <td>7</td>\n",
       "    </tr>\n",
       "    <tr>\n",
       "      <th rowspan=\"2\" valign=\"top\">B</th>\n",
       "      <th>0</th>\n",
       "      <td>12</td>\n",
       "    </tr>\n",
       "    <tr>\n",
       "      <th>1</th>\n",
       "      <td>35</td>\n",
       "    </tr>\n",
       "    <tr>\n",
       "      <th rowspan=\"2\" valign=\"top\">C</th>\n",
       "      <th>0</th>\n",
       "      <td>24</td>\n",
       "    </tr>\n",
       "    <tr>\n",
       "      <th>1</th>\n",
       "      <td>35</td>\n",
       "    </tr>\n",
       "    <tr>\n",
       "      <th rowspan=\"2\" valign=\"top\">D</th>\n",
       "      <th>0</th>\n",
       "      <td>8</td>\n",
       "    </tr>\n",
       "    <tr>\n",
       "      <th>1</th>\n",
       "      <td>25</td>\n",
       "    </tr>\n",
       "    <tr>\n",
       "      <th rowspan=\"2\" valign=\"top\">E</th>\n",
       "      <th>0</th>\n",
       "      <td>8</td>\n",
       "    </tr>\n",
       "    <tr>\n",
       "      <th>1</th>\n",
       "      <td>24</td>\n",
       "    </tr>\n",
       "    <tr>\n",
       "      <th rowspan=\"2\" valign=\"top\">F</th>\n",
       "      <th>0</th>\n",
       "      <td>5</td>\n",
       "    </tr>\n",
       "    <tr>\n",
       "      <th>1</th>\n",
       "      <td>8</td>\n",
       "    </tr>\n",
       "    <tr>\n",
       "      <th rowspan=\"2\" valign=\"top\">G</th>\n",
       "      <th>0</th>\n",
       "      <td>2</td>\n",
       "    </tr>\n",
       "    <tr>\n",
       "      <th>1</th>\n",
       "      <td>2</td>\n",
       "    </tr>\n",
       "    <tr>\n",
       "      <th rowspan=\"2\" valign=\"top\">M</th>\n",
       "      <th>0</th>\n",
       "      <td>481</td>\n",
       "    </tr>\n",
       "    <tr>\n",
       "      <th>1</th>\n",
       "      <td>206</td>\n",
       "    </tr>\n",
       "    <tr>\n",
       "      <th>T</th>\n",
       "      <th>0</th>\n",
       "      <td>1</td>\n",
       "    </tr>\n",
       "  </tbody>\n",
       "</table>\n",
       "</div>"
      ],
      "text/plain": [
       "               Name\n",
       "Deck Survived      \n",
       "A    0            8\n",
       "     1            7\n",
       "B    0           12\n",
       "     1           35\n",
       "C    0           24\n",
       "     1           35\n",
       "D    0            8\n",
       "     1           25\n",
       "E    0            8\n",
       "     1           24\n",
       "F    0            5\n",
       "     1            8\n",
       "G    0            2\n",
       "     1            2\n",
       "M    0          481\n",
       "     1          206\n",
       "T    0            1"
      ]
     },
     "execution_count": 348,
     "metadata": {},
     "output_type": "execute_result"
    }
   ],
   "source": [
    "# M에 대한 의미를 살펴보자\n",
    "# Deck 기준으로 생존/사망한 사람 숫자 세어보기 => groupby\n",
    "train_deck = train[['Deck','Survived','Name']].groupby(['Deck','Survived']).count()\n",
    "train_deck\n",
    "#0사망 ,1생존\n",
    "# M이라는 사망한 사람도 많고, 생존한 사람도 많지만 상대적으로 사망한 사람이 더 많음\n",
    "# M이라는 값은 생존/ 사망 나름대로 영향을 주지 않을까?"
   ]
  },
  {
   "cell_type": "code",
   "execution_count": 349,
   "metadata": {},
   "outputs": [
    {
     "data": {
      "image/png": "[encoded data removed]",
      "text/plain": [
       "<Figure size 500x300 with 1 Axes>"
      ]
     },
     "metadata": {},
     "output_type": "display_data"
    }
   ],
   "source": [
    "plt.figure(figsize= (5,3))\n",
    "sns.countplot(data = train ,x = 'Deck', hue = 'Survived')\n",
    "plt.show()"
   ]
  },
  {
   "cell_type": "code",
   "execution_count": 350,
   "metadata": {},
   "outputs": [
    {
     "data": {
      "image/png": "[encoded data removed]",
      "text/plain": [
       "<Figure size 640x480 with 1 Axes>"
      ]
     },
     "metadata": {},
     "output_type": "display_data"
    }
   ],
   "source": [
    "# Pclass 시각화\n",
    "sns.countplot(data = train, x = 'Pclass' , hue = 'Survived')\n",
    "plt.show()\n",
    "\n",
    "# 그래프 해석\n",
    "# 3등급 하위계층 사람들이 많이 사망함"
   ]
  },
  {
   "attachments": {},
   "cell_type": "markdown",
   "metadata": {},
   "source": [
    "##### Deck과 Pclass 시각화"
   ]
  },
  {
   "cell_type": "code",
   "execution_count": 351,
   "metadata": {},
   "outputs": [
    {
     "data": {
      "image/png": "[encoded data removed]",
      "text/plain": [
       "<Figure size 640x480 with 1 Axes>"
      ]
     },
     "metadata": {},
     "output_type": "display_data"
    }
   ],
   "source": [
    "sns.countplot(data = train, x= 'Deck' ,hue = 'Pclass')\n",
    "plt.show()\n"
   ]
  },
  {
   "cell_type": "code",
   "execution_count": 352,
   "metadata": {},
   "outputs": [],
   "source": [
    "# 그래프 해석\n",
    "# M에 대한 의미를 살펴보니\n",
    "# 3등급의 사람들이 많이 포함되엉 있어서 사망률이 높았음을 알 수 있음\n",
    "# M자체에는 생존/사망 결정하는 큰 요소가 없음(되지 않음)\n",
    "# M에 대한 의미를 더 파악해볼 필요가 없을듯 하다 전처리X"
   ]
  },
  {
   "attachments": {},
   "cell_type": "markdown",
   "metadata": {},
   "source": [
    "q2. 성별에 따른 생존, 사망 시각화 // 승선항에 따른 생존 사망 시각화"
   ]
  },
  {
   "cell_type": "code",
   "execution_count": 353,
   "metadata": {},
   "outputs": [
    {
     "data": {
      "image/png": "[encoded data removed]",
      "text/plain": [
       "<Figure size 640x480 with 1 Axes>"
      ]
     },
     "metadata": {},
     "output_type": "display_data"
    }
   ],
   "source": [
    "# countplot 사용해보기\n",
    "sns.countplot( data = train,x ='Sex' , hue ='Survived')\n",
    "plt.show()\n",
    "\n",
    "# 그래프 해석 (0이 사망 1이 생존)\n",
    "# 여성은 상대적으로 생존 비율이 높음\n",
    "# 남성은 상대적으로 사망 비율이 높음"
   ]
  },
  {
   "cell_type": "code",
   "execution_count": 354,
   "metadata": {},
   "outputs": [
    {
     "data": {
      "image/png": "[encoded data removed]",
      "text/plain": [
       "<Figure size 640x480 with 1 Axes>"
      ]
     },
     "metadata": {},
     "output_type": "display_data"
    }
   ],
   "source": [
    "sns.countplot( data = train,x ='Embarked' , hue ='Survived')\n",
    "plt.show()\n",
    "\n",
    "#S라는 배에서 사람들이 상대적으로 사람들이 많이 죽었다. 라는 것을 알 수 있음"
   ]
  },
  {
   "attachments": {},
   "cell_type": "markdown",
   "metadata": {},
   "source": [
    "#### 수치형 데이터 살펴보기\n",
    "##### Age 시각화 - 성별 데이터도 생존/ 사망 확인"
   ]
  },
  {
   "cell_type": "code",
   "execution_count": 355,
   "metadata": {},
   "outputs": [
    {
     "data": {
      "text/plain": [
       "(0.0, 85.0)"
      ]
     },
     "execution_count": 355,
     "metadata": {},
     "output_type": "execute_result"
    },
    {
     "data": {
      "image/png": "[encoded data removed]",
      "text/plain": [
       "<Figure size 1500x500 with 1 Axes>"
      ]
     },
     "metadata": {},
     "output_type": "display_data"
    }
   ],
   "source": [
    "# violinplot() : 바이올린 모양과 비슷, 데이터의 분포를 확인할때 사용하는 그래프\n",
    "# y축에 age, x sex, 분포되는 값은 survived\n",
    "plt.figure(figsize=(15,5 ))\n",
    "sns.violinplot(data = train , x = 'Sex',y = 'Age' , hue = 'Survived', split = True)\n",
    "plt.ylim (0,85) #y축 범위 제한 -> 0부터 85까지 볼꺼다 그거 제한 해줌\n",
    "\n",
    "# 남성의 파란색이 넓게 퍼지고 있으니까 사망률이 높다는 것을 알 수 있음\n",
    "# 여성의 그래프를 보면 오렌지 색이 더 많고 20대에서 40대까지 살아내려고 노력했구나"
   ]
  },
  {
   "cell_type": "code",
   "execution_count": 356,
   "metadata": {},
   "outputs": [],
   "source": [
    "# 어린아이들의 생존률은?\n",
    "# 상대적으로 남자아이가 여자 아이에 비해서 많이 살았음"
   ]
  },
  {
   "attachments": {},
   "cell_type": "markdown",
   "metadata": {},
   "source": [
    "##### Fare 시각화"
   ]
  },
  {
   "cell_type": "code",
   "execution_count": 357,
   "metadata": {},
   "outputs": [
    {
     "data": {
      "image/png": "[encoded data removed]",
      "text/plain": [
       "<Figure size 640x480 with 1 Axes>"
      ]
     },
     "metadata": {},
     "output_type": "display_data"
    }
   ],
   "source": [
    "# 요금별 사망자수/생존자수\n",
    "sns.violinplot(data = train , x = 'Sex', y ='Fare', hue ='Survived' , split  = True)\n",
    "\n",
    "plt.ylim(0,530)\n",
    "plt.show()\n",
    "# 요금이 낮은 사람은 상대적으로 많이 사망함"
   ]
  },
  {
   "attachments": {},
   "cell_type": "markdown",
   "metadata": {},
   "source": [
    "#### Parch, Sibsp - 부모자식, 형제 배우자수\n",
    "- 특성공학 : 가족의 수라는 컬럼 생성 (Parch + Sibsp +1)\n",
    "- train에 적용했으면 test에도 적용함!!"
   ]
  },
  {
   "cell_type": "code",
   "execution_count": 358,
   "metadata": {},
   "outputs": [
    {
     "data": {
      "text/plain": [
       "Index(['Survived', 'Pclass', 'Name', 'Sex', 'Age', 'SibSp', 'Parch', 'Ticket',\n",
       "       'Fare', 'Embarked', 'Deck'],\n",
       "      dtype='object')"
      ]
     },
     "execution_count": 358,
     "metadata": {},
     "output_type": "execute_result"
    }
   ],
   "source": [
    "train.columns"
   ]
  },
  {
   "cell_type": "code",
   "execution_count": 359,
   "metadata": {},
   "outputs": [],
   "source": [
    "train['Family_size'] = train['Parch'] + train['SibSp']+1\n",
    "test['Family_size'] = test['Parch'] + test['SibSp']+1"
   ]
  },
  {
   "cell_type": "code",
   "execution_count": 360,
   "metadata": {},
   "outputs": [
    {
     "data": {
      "image/png": "[encoded data removed]",
      "text/plain": [
       "<Figure size 640x480 with 1 Axes>"
      ]
     },
     "metadata": {},
     "output_type": "display_data"
    }
   ],
   "source": [
    "# 시각화 연결하기\n",
    "# 가족의 수에 따른 생존/ 사망 확인\n",
    "train['Family_size'].unique()\n",
    "sns.countplot(data = train , x = 'Family_size' , hue = 'Survived')\n",
    "plt.show()"
   ]
  },
  {
   "cell_type": "code",
   "execution_count": 361,
   "metadata": {},
   "outputs": [],
   "source": [
    "# 3개의 범주로 좁힐 수 있음!\n",
    "# 같은 의미를 내포한다면 범위(카테고리)를 줄여보자 => binning(사소한 관찰의 오류를 줄일 수 있다.)\n",
    "# 1명일때는 사망비율이 높음, 2~4 일대는 생존비율이 높음, 5명~ 일떄는 사망비율이 높음"
   ]
  },
  {
   "cell_type": "code",
   "execution_count": 362,
   "metadata": {},
   "outputs": [],
   "source": [
    "# pd.cut : 카테고리(범주)형식으로 데이터 정리할때 사용하는 기능\n",
    "# 데이터 구간화\n",
    "# Alone, Small, Large 3개 범주(구간) 설정\n",
    "bins = [0, 1, 4, 11]  # 앞에있는 숫자 값을 포함 x , 뒤에 있는 숫자값을 포함 o\n",
    "labels  = ['Alone' ,'Small' ,'Large']\n",
    "train['Family_group'] = pd.cut(train['Family_size'], bins =bins , labels = labels)\n",
    "test['Family_group'] = pd.cut(test['Family_size'], bins =bins , labels = labels)\n",
    "\n"
   ]
  },
  {
   "cell_type": "code",
   "execution_count": 363,
   "metadata": {},
   "outputs": [
    {
     "data": {
      "text/plain": [
       "PassengerId\n",
       "1      Small\n",
       "2      Small\n",
       "3      Alone\n",
       "4      Small\n",
       "5      Alone\n",
       "       ...  \n",
       "887    Alone\n",
       "888    Alone\n",
       "889    Small\n",
       "890    Alone\n",
       "891    Alone\n",
       "Name: Family_group, Length: 891, dtype: category\n",
       "Categories (3, object): ['Alone' < 'Small' < 'Large']"
      ]
     },
     "execution_count": 363,
     "metadata": {},
     "output_type": "execute_result"
    }
   ],
   "source": [
    "train['Family_group']"
   ]
  },
  {
   "cell_type": "code",
   "execution_count": 364,
   "metadata": {},
   "outputs": [
    {
     "name": "stdout",
     "output_type": "stream",
     "text": [
      "['Small', 'Alone', 'Large']\n",
      "Categories (3, object): ['Alone' < 'Small' < 'Large']\n"
     ]
    },
    {
     "data": {
      "image/png": "[encoded data removed]",
      "text/plain": [
       "<Figure size 640x480 with 1 Axes>"
      ]
     },
     "metadata": {},
     "output_type": "display_data"
    }
   ],
   "source": [
    "print(train['Family_group'].unique())\n",
    "sns.countplot(data = train , x = 'Family_group' , hue = 'Survived')\n",
    "plt.show()"
   ]
  },
  {
   "attachments": {},
   "cell_type": "markdown",
   "metadata": {},
   "source": [
    "#### Text 데이터 다루기\n",
    "##### 중간 호칭 추출해보기"
   ]
  },
  {
   "cell_type": "code",
   "execution_count": 365,
   "metadata": {},
   "outputs": [
    {
     "data": {
      "text/plain": [
       "'Mr'"
      ]
     },
     "execution_count": 365,
     "metadata": {},
     "output_type": "execute_result"
    }
   ],
   "source": [
    "# 이름 컬럼 접근해서 내용확인해보기\n",
    "# train 기준으로 탐색 \n",
    "# 호칭 접근 해보기\n",
    "# 문자열 관련 함수split() => 곡백을 기준으로 문자열 분리\n",
    "# strip () => 문자 앞뒤로 공백을 제고하는 함수\n",
    "# lstrip() => 문장 왼쪽(처음) 공백 제거하는 함수\n",
    "# rstrip() => 문장 오른쪽(끝) 공백 제거하는 함수\n",
    "train['Name'][1].split(',')[1].split('.')[0].strip()"
   ]
  },
  {
   "cell_type": "code",
   "execution_count": 366,
   "metadata": {},
   "outputs": [],
   "source": [
    "# 호칭 추출하는 함수 정의(사용자 정의함수)\n",
    "def split_title(row) :\n",
    "    return row.split(',')[1].split('.')[0].strip()\n",
    "\n",
    "# apply \n",
    "# 데이터 1차원이라서 axis 설정 안해도된다 > 방향적용 필요x\n",
    "train['Title'] = train['Name'].apply(split_title)\n",
    "test['Title'] = test['Name'].apply(split_title)"
   ]
  },
  {
   "cell_type": "code",
   "execution_count": 367,
   "metadata": {},
   "outputs": [
    {
     "data": {
      "text/plain": [
       "array(['Mr', 'Mrs', 'Miss', 'Master', 'Don', 'Rev', 'Dr', 'Mme', 'Ms',\n",
       "       'Major', 'Lady', 'Sir', 'Mlle', 'Col', 'Capt', 'the Countess',\n",
       "       'Jonkheer'], dtype=object)"
      ]
     },
     "execution_count": 367,
     "metadata": {},
     "output_type": "execute_result"
    }
   ],
   "source": [
    "# Train 카테고리 중복 없이 확인해보기\n",
    "train['Title'].unique().size\n",
    "train['Title'].unique()\n",
    "\n",
    "# Mr 미스터 : 남성, 결혼 유무 상관 없음\n",
    "# Master 마스터 : 결혼하지 않음 남성, 주로 청소년 이하 \n",
    "# Ms 미즈 : 여성 결혼하지 않음, 상관없음\n",
    "# Miss 미스 : 결혼을 하지 않은 여성\n",
    "# Mrs 미시즈 : 결혼한 여성\n",
    "# Don : 기부자\n",
    "# Rev : 목사님\n",
    "# Dr : 의사 or 박사"
   ]
  },
  {
   "cell_type": "code",
   "execution_count": 368,
   "metadata": {},
   "outputs": [
    {
     "data": {
      "image/png": "[encoded data removed]",
      "text/plain": [
       "<Figure size 1700x800 with 1 Axes>"
      ]
     },
     "metadata": {},
     "output_type": "display_data"
    }
   ],
   "source": [
    "# 호칭에 따른 생존/ 사망 그래프 시각화\n",
    "plt.figure(figsize=(17,8))\n",
    "sns.countplot(data = train , x = 'Title', hue = 'Survived')\n",
    "plt.ylim(0,15)\n",
    "plt.show()"
   ]
  },
  {
   "cell_type": "code",
   "execution_count": 369,
   "metadata": {},
   "outputs": [
    {
     "data": {
      "text/plain": [
       "17"
      ]
     },
     "execution_count": 369,
     "metadata": {},
     "output_type": "execute_result"
    }
   ],
   "source": [
    "# Mr,Mrs, Miss , Master, Rev, Other(앞의 5개를 제외한 나머지)\n",
    "title = ['Mr', 'Mrs', 'Miss', 'Master','Rev','Don','Dr', 'Mme', 'Ms',\n",
    "        'Major', 'Lady', 'Sir', 'Mlle', 'Col', 'Capt', 'the Countess',\n",
    "        'Jonkheer']\n",
    "len(title)\n",
    "cvt_title = ['Mr', 'Mrs', 'Miss', 'Master','Rev'] +['Other']*12\n",
    "len(cvt_title)"
   ]
  },
  {
   "attachments": {},
   "cell_type": "markdown",
   "metadata": {},
   "source": [
    "train"
   ]
  },
  {
   "cell_type": "code",
   "execution_count": 370,
   "metadata": {},
   "outputs": [
    {
     "data": {
      "text/plain": [
       "array(['Mr', 'Mrs', 'Miss', 'Master', 'Don', 'Rev', 'Dr', 'Mme', 'Ms',\n",
       "       'Major', 'Lady', 'Sir', 'Mlle', 'Col', 'Capt', 'the Countess',\n",
       "       'Jonkheer'], dtype=object)"
      ]
     },
     "execution_count": 370,
     "metadata": {},
     "output_type": "execute_result"
    }
   ],
   "source": [
    "train['Title'].unique()"
   ]
  },
  {
   "cell_type": "code",
   "execution_count": 371,
   "metadata": {},
   "outputs": [],
   "source": [
    "# dict\n",
    "title_dict = dict(zip(title,cvt_title))\n",
    "train['Title'].map(title_dict).unique()  # 주요한 것이 아닌 것들은 모두 Other로 담김\n",
    "train['Title'] = train['Title'].map(title_dict)  # 주요한 것이 아닌 것들은 모두 Other로 담김"
   ]
  },
  {
   "attachments": {},
   "cell_type": "markdown",
   "metadata": {},
   "source": [
    "test"
   ]
  },
  {
   "cell_type": "code",
   "execution_count": 372,
   "metadata": {},
   "outputs": [
    {
     "data": {
      "text/plain": [
       "array(['Mr', 'Mrs', 'Miss', 'Master', 'Ms', 'Col', 'Rev', 'Dr', 'Dona'],\n",
       "      dtype=object)"
      ]
     },
     "execution_count": 372,
     "metadata": {},
     "output_type": "execute_result"
    }
   ],
   "source": [
    "# title 데이터 확인\n",
    "test['Title'].unique()"
   ]
  },
  {
   "cell_type": "code",
   "execution_count": 373,
   "metadata": {},
   "outputs": [
    {
     "data": {
      "text/plain": [
       "'Other'"
      ]
     },
     "execution_count": 373,
     "metadata": {},
     "output_type": "execute_result"
    }
   ],
   "source": [
    "# test데이터에 있는 Dona를 추가 해줌, title_dict 추가\n",
    "title_dict['Dona'] = 'Other'\n",
    "title_dict['Dona']"
   ]
  },
  {
   "cell_type": "code",
   "execution_count": 374,
   "metadata": {},
   "outputs": [
    {
     "data": {
      "text/plain": [
       "array(['Mr', 'Mrs', 'Miss', 'Master', 'Ms', 'Col', 'Rev', 'Dr', 'Dona'],\n",
       "      dtype=object)"
      ]
     },
     "execution_count": 374,
     "metadata": {},
     "output_type": "execute_result"
    }
   ],
   "source": [
    "test['Title'].unique()\n"
   ]
  },
  {
   "cell_type": "code",
   "execution_count": 375,
   "metadata": {},
   "outputs": [
    {
     "data": {
      "text/plain": [
       "array(['Mr', 'Mrs', 'Miss', 'Master', 'Other', 'Rev'], dtype=object)"
      ]
     },
     "execution_count": 375,
     "metadata": {},
     "output_type": "execute_result"
    }
   ],
   "source": [
    "# test - Titel 정리해보기!\n",
    "test['Title'] = test['Title'].map(title_dict)\n",
    "test['Title'].unique()"
   ]
  },
  {
   "attachments": {},
   "cell_type": "markdown",
   "metadata": {},
   "source": [
    "#### 불필요한 컬럼 삭제\n",
    "- drop 버리기!\n",
    "- 전처리에서 제외된 컬럼과 특성공학 후 불필요해진 컬럼 삭제"
   ]
  },
  {
   "cell_type": "code",
   "execution_count": 376,
   "metadata": {},
   "outputs": [],
   "source": [
    "train.columns  # Name, Family_size, Ticket 삭제 해보기\n",
    "\n",
    "test.drop(['Name','Family_size','Ticket'],axis = 1,inplace = True)"
   ]
  },
  {
   "cell_type": "code",
   "execution_count": 377,
   "metadata": {},
   "outputs": [
    {
     "ename": "KeyError",
     "evalue": "\"['Name', 'Family_size', 'Ticket'] not found in axis\"",
     "output_type": "error",
     "traceback": [
      "\u001b[1;31m---------------------------------------------------------------------------\u001b[0m",
      "\u001b[1;31mKeyError\u001b[0m                                  Traceback (most recent call last)",
      "Cell \u001b[1;32mIn[377], line 3\u001b[0m\n\u001b[0;32m      1\u001b[0m \u001b[39m# 삭제 후 train 데이터 반영해보기\u001b[39;00m\n\u001b[0;32m      2\u001b[0m train\u001b[39m.\u001b[39mdrop([\u001b[39m'\u001b[39m\u001b[39mName\u001b[39m\u001b[39m'\u001b[39m,\u001b[39m'\u001b[39m\u001b[39mFamily_size\u001b[39m\u001b[39m'\u001b[39m,\u001b[39m'\u001b[39m\u001b[39mTicket\u001b[39m\u001b[39m'\u001b[39m],axis \u001b[39m=\u001b[39m \u001b[39m1\u001b[39m,inplace \u001b[39m=\u001b[39m \u001b[39mTrue\u001b[39;00m)\n\u001b[1;32m----> 3\u001b[0m test\u001b[39m.\u001b[39;49mdrop([\u001b[39m'\u001b[39;49m\u001b[39mName\u001b[39;49m\u001b[39m'\u001b[39;49m,\u001b[39m'\u001b[39;49m\u001b[39mFamily_size\u001b[39;49m\u001b[39m'\u001b[39;49m,\u001b[39m'\u001b[39;49m\u001b[39mTicket\u001b[39;49m\u001b[39m'\u001b[39;49m],axis \u001b[39m=\u001b[39;49m \u001b[39m1\u001b[39;49m,inplace \u001b[39m=\u001b[39;49m \u001b[39mTrue\u001b[39;49;00m)\n",
      "File \u001b[1;32mc:\\Users\\smhrd\\AppData\\Local\\Programs\\Python\\Python311\\Lib\\site-packages\\pandas\\util\\_decorators.py:331\u001b[0m, in \u001b[0;36mdeprecate_nonkeyword_arguments.<locals>.decorate.<locals>.wrapper\u001b[1;34m(*args, **kwargs)\u001b[0m\n\u001b[0;32m    325\u001b[0m \u001b[39mif\u001b[39;00m \u001b[39mlen\u001b[39m(args) \u001b[39m>\u001b[39m num_allow_args:\n\u001b[0;32m    326\u001b[0m     warnings\u001b[39m.\u001b[39mwarn(\n\u001b[0;32m    327\u001b[0m         msg\u001b[39m.\u001b[39mformat(arguments\u001b[39m=\u001b[39m_format_argument_list(allow_args)),\n\u001b[0;32m    328\u001b[0m         \u001b[39mFutureWarning\u001b[39;00m,\n\u001b[0;32m    329\u001b[0m         stacklevel\u001b[39m=\u001b[39mfind_stack_level(),\n\u001b[0;32m    330\u001b[0m     )\n\u001b[1;32m--> 331\u001b[0m \u001b[39mreturn\u001b[39;00m func(\u001b[39m*\u001b[39;49margs, \u001b[39m*\u001b[39;49m\u001b[39m*\u001b[39;49mkwargs)\n",
      "File \u001b[1;32mc:\\Users\\smhrd\\AppData\\Local\\Programs\\Python\\Python311\\Lib\\site-packages\\pandas\\core\\frame.py:5399\u001b[0m, in \u001b[0;36mDataFrame.drop\u001b[1;34m(self, labels, axis, index, columns, level, inplace, errors)\u001b[0m\n\u001b[0;32m   5251\u001b[0m \u001b[39m@deprecate_nonkeyword_arguments\u001b[39m(version\u001b[39m=\u001b[39m\u001b[39mNone\u001b[39;00m, allowed_args\u001b[39m=\u001b[39m[\u001b[39m\"\u001b[39m\u001b[39mself\u001b[39m\u001b[39m\"\u001b[39m, \u001b[39m\"\u001b[39m\u001b[39mlabels\u001b[39m\u001b[39m\"\u001b[39m])\n\u001b[0;32m   5252\u001b[0m \u001b[39mdef\u001b[39;00m \u001b[39mdrop\u001b[39m(  \u001b[39m# type: ignore[override]\u001b[39;00m\n\u001b[0;32m   5253\u001b[0m     \u001b[39mself\u001b[39m,\n\u001b[1;32m   (...)\u001b[0m\n\u001b[0;32m   5260\u001b[0m     errors: IgnoreRaise \u001b[39m=\u001b[39m \u001b[39m\"\u001b[39m\u001b[39mraise\u001b[39m\u001b[39m\"\u001b[39m,\n\u001b[0;32m   5261\u001b[0m ) \u001b[39m-\u001b[39m\u001b[39m>\u001b[39m DataFrame \u001b[39m|\u001b[39m \u001b[39mNone\u001b[39;00m:\n\u001b[0;32m   5262\u001b[0m \u001b[39m    \u001b[39m\u001b[39m\"\"\"\u001b[39;00m\n\u001b[0;32m   5263\u001b[0m \u001b[39m    Drop specified labels from rows or columns.\u001b[39;00m\n\u001b[0;32m   5264\u001b[0m \n\u001b[1;32m   (...)\u001b[0m\n\u001b[0;32m   5397\u001b[0m \u001b[39m            weight  1.0     0.8\u001b[39;00m\n\u001b[0;32m   5398\u001b[0m \u001b[39m    \"\"\"\u001b[39;00m\n\u001b[1;32m-> 5399\u001b[0m     \u001b[39mreturn\u001b[39;00m \u001b[39msuper\u001b[39;49m()\u001b[39m.\u001b[39;49mdrop(\n\u001b[0;32m   5400\u001b[0m         labels\u001b[39m=\u001b[39;49mlabels,\n\u001b[0;32m   5401\u001b[0m         axis\u001b[39m=\u001b[39;49maxis,\n\u001b[0;32m   5402\u001b[0m         index\u001b[39m=\u001b[39;49mindex,\n\u001b[0;32m   5403\u001b[0m         columns\u001b[39m=\u001b[39;49mcolumns,\n\u001b[0;32m   5404\u001b[0m         level\u001b[39m=\u001b[39;49mlevel,\n\u001b[0;32m   5405\u001b[0m         inplace\u001b[39m=\u001b[39;49minplace,\n\u001b[0;32m   5406\u001b[0m         errors\u001b[39m=\u001b[39;49merrors,\n\u001b[0;32m   5407\u001b[0m     )\n",
      "File \u001b[1;32mc:\\Users\\smhrd\\AppData\\Local\\Programs\\Python\\Python311\\Lib\\site-packages\\pandas\\util\\_decorators.py:331\u001b[0m, in \u001b[0;36mdeprecate_nonkeyword_arguments.<locals>.decorate.<locals>.wrapper\u001b[1;34m(*args, **kwargs)\u001b[0m\n\u001b[0;32m    325\u001b[0m \u001b[39mif\u001b[39;00m \u001b[39mlen\u001b[39m(args) \u001b[39m>\u001b[39m num_allow_args:\n\u001b[0;32m    326\u001b[0m     warnings\u001b[39m.\u001b[39mwarn(\n\u001b[0;32m    327\u001b[0m         msg\u001b[39m.\u001b[39mformat(arguments\u001b[39m=\u001b[39m_format_argument_list(allow_args)),\n\u001b[0;32m    328\u001b[0m         \u001b[39mFutureWarning\u001b[39;00m,\n\u001b[0;32m    329\u001b[0m         stacklevel\u001b[39m=\u001b[39mfind_stack_level(),\n\u001b[0;32m    330\u001b[0m     )\n\u001b[1;32m--> 331\u001b[0m \u001b[39mreturn\u001b[39;00m func(\u001b[39m*\u001b[39;49margs, \u001b[39m*\u001b[39;49m\u001b[39m*\u001b[39;49mkwargs)\n",
      "File \u001b[1;32mc:\\Users\\smhrd\\AppData\\Local\\Programs\\Python\\Python311\\Lib\\site-packages\\pandas\\core\\generic.py:4505\u001b[0m, in \u001b[0;36mNDFrame.drop\u001b[1;34m(self, labels, axis, index, columns, level, inplace, errors)\u001b[0m\n\u001b[0;32m   4503\u001b[0m \u001b[39mfor\u001b[39;00m axis, labels \u001b[39min\u001b[39;00m axes\u001b[39m.\u001b[39mitems():\n\u001b[0;32m   4504\u001b[0m     \u001b[39mif\u001b[39;00m labels \u001b[39mis\u001b[39;00m \u001b[39mnot\u001b[39;00m \u001b[39mNone\u001b[39;00m:\n\u001b[1;32m-> 4505\u001b[0m         obj \u001b[39m=\u001b[39m obj\u001b[39m.\u001b[39;49m_drop_axis(labels, axis, level\u001b[39m=\u001b[39;49mlevel, errors\u001b[39m=\u001b[39;49merrors)\n\u001b[0;32m   4507\u001b[0m \u001b[39mif\u001b[39;00m inplace:\n\u001b[0;32m   4508\u001b[0m     \u001b[39mself\u001b[39m\u001b[39m.\u001b[39m_update_inplace(obj)\n",
      "File \u001b[1;32mc:\\Users\\smhrd\\AppData\\Local\\Programs\\Python\\Python311\\Lib\\site-packages\\pandas\\core\\generic.py:4546\u001b[0m, in \u001b[0;36mNDFrame._drop_axis\u001b[1;34m(self, labels, axis, level, errors, only_slice)\u001b[0m\n\u001b[0;32m   4544\u001b[0m         new_axis \u001b[39m=\u001b[39m axis\u001b[39m.\u001b[39mdrop(labels, level\u001b[39m=\u001b[39mlevel, errors\u001b[39m=\u001b[39merrors)\n\u001b[0;32m   4545\u001b[0m     \u001b[39melse\u001b[39;00m:\n\u001b[1;32m-> 4546\u001b[0m         new_axis \u001b[39m=\u001b[39m axis\u001b[39m.\u001b[39;49mdrop(labels, errors\u001b[39m=\u001b[39;49merrors)\n\u001b[0;32m   4547\u001b[0m     indexer \u001b[39m=\u001b[39m axis\u001b[39m.\u001b[39mget_indexer(new_axis)\n\u001b[0;32m   4549\u001b[0m \u001b[39m# Case for non-unique axis\u001b[39;00m\n\u001b[0;32m   4550\u001b[0m \u001b[39melse\u001b[39;00m:\n",
      "File \u001b[1;32mc:\\Users\\smhrd\\AppData\\Local\\Programs\\Python\\Python311\\Lib\\site-packages\\pandas\\core\\indexes\\base.py:6934\u001b[0m, in \u001b[0;36mIndex.drop\u001b[1;34m(self, labels, errors)\u001b[0m\n\u001b[0;32m   6932\u001b[0m \u001b[39mif\u001b[39;00m mask\u001b[39m.\u001b[39many():\n\u001b[0;32m   6933\u001b[0m     \u001b[39mif\u001b[39;00m errors \u001b[39m!=\u001b[39m \u001b[39m\"\u001b[39m\u001b[39mignore\u001b[39m\u001b[39m\"\u001b[39m:\n\u001b[1;32m-> 6934\u001b[0m         \u001b[39mraise\u001b[39;00m \u001b[39mKeyError\u001b[39;00m(\u001b[39mf\u001b[39m\u001b[39m\"\u001b[39m\u001b[39m{\u001b[39;00m\u001b[39mlist\u001b[39m(labels[mask])\u001b[39m}\u001b[39;00m\u001b[39m not found in axis\u001b[39m\u001b[39m\"\u001b[39m)\n\u001b[0;32m   6935\u001b[0m     indexer \u001b[39m=\u001b[39m indexer[\u001b[39m~\u001b[39mmask]\n\u001b[0;32m   6936\u001b[0m \u001b[39mreturn\u001b[39;00m \u001b[39mself\u001b[39m\u001b[39m.\u001b[39mdelete(indexer)\n",
      "\u001b[1;31mKeyError\u001b[0m: \"['Name', 'Family_size', 'Ticket'] not found in axis\""
     ]
    }
   ],
   "source": [
    "# 삭제 후 train 데이터 반영해보기\n",
    "train.drop(['Name','Family_size','Ticket'],axis = 1,inplace = True)\n",
    "test.drop(['Name','Family_size','Ticket'],axis = 1,inplace = True)"
   ]
  },
  {
   "cell_type": "code",
   "execution_count": 378,
   "metadata": {},
   "outputs": [
    {
     "name": "stdout",
     "output_type": "stream",
     "text": [
      "<class 'pandas.core.frame.DataFrame'>\n",
      "Int64Index: 891 entries, 1 to 891\n",
      "Data columns (total 11 columns):\n",
      " #   Column        Non-Null Count  Dtype   \n",
      "---  ------        --------------  -----   \n",
      " 0   Survived      891 non-null    int64   \n",
      " 1   Pclass        891 non-null    int64   \n",
      " 2   Sex           891 non-null    object  \n",
      " 3   Age           891 non-null    int64   \n",
      " 4   SibSp         891 non-null    int64   \n",
      " 5   Parch         891 non-null    int64   \n",
      " 6   Fare          891 non-null    float64 \n",
      " 7   Embarked      891 non-null    object  \n",
      " 8   Deck          891 non-null    object  \n",
      " 9   Family_group  891 non-null    category\n",
      " 10  Title         891 non-null    object  \n",
      "dtypes: category(1), float64(1), int64(5), object(4)\n",
      "memory usage: 109.9+ KB\n",
      "None\n"
     ]
    }
   ],
   "source": [
    "# train, test info() 확인해보기\n",
    "print(train.info()) # 891,11\n"
   ]
  },
  {
   "cell_type": "code",
   "execution_count": 379,
   "metadata": {},
   "outputs": [
    {
     "name": "stdout",
     "output_type": "stream",
     "text": [
      "<class 'pandas.core.frame.DataFrame'>\n",
      "Int64Index: 418 entries, 892 to 1309\n",
      "Data columns (total 10 columns):\n",
      " #   Column        Non-Null Count  Dtype   \n",
      "---  ------        --------------  -----   \n",
      " 0   Pclass        418 non-null    int64   \n",
      " 1   Sex           418 non-null    object  \n",
      " 2   Age           418 non-null    int64   \n",
      " 3   SibSp         418 non-null    int64   \n",
      " 4   Parch         418 non-null    int64   \n",
      " 5   Fare          418 non-null    float64 \n",
      " 6   Embarked      418 non-null    object  \n",
      " 7   Deck          418 non-null    object  \n",
      " 8   Family_group  418 non-null    category\n",
      " 9   Title         418 non-null    object  \n",
      "dtypes: category(1), float64(1), int64(4), object(4)\n",
      "memory usage: 33.2+ KB\n",
      "None\n"
     ]
    }
   ],
   "source": [
    "print(test.info()) # 418,10"
   ]
  },
  {
   "attachments": {},
   "cell_type": "markdown",
   "metadata": {},
   "source": [
    "#### 문제, 답 데이터 분리"
   ]
  },
  {
   "cell_type": "code",
   "execution_count": 380,
   "metadata": {},
   "outputs": [],
   "source": [
    "\n",
    "X_train = train.loc[ : ,'Pclass' : 'Title'] # 생존 사망 여부를 제외한 나머지 컬럼 \n",
    "y_train = train.loc[ : ,'Survived'] # 생존 사망 여부 컬럼 1개\n",
    "X_test = test\n"
   ]
  },
  {
   "cell_type": "code",
   "execution_count": 381,
   "metadata": {},
   "outputs": [],
   "source": [
    "X_train = train.drop('Survived',axis = 1) # 생존 사망 여부를 제외한 나머지 컬럼 \n",
    "y_train = train['Survived'] # 생존 사망 여부 컬럼 1개\n",
    "X_test = test"
   ]
  },
  {
   "cell_type": "code",
   "execution_count": 382,
   "metadata": {},
   "outputs": [
    {
     "name": "stdout",
     "output_type": "stream",
     "text": [
      "(891, 10) (891,)\n",
      "(418, 10)\n"
     ]
    }
   ],
   "source": [
    "print(X_train.shape , y_train.shape)\n",
    "print(X_test.shape) # y_test:kaggle이 알고 있음"
   ]
  },
  {
   "attachments": {},
   "cell_type": "markdown",
   "metadata": {},
   "source": [
    "#### 특성 선택 인코딩\n",
    "- 범주형 데이터 이코딩\n",
    "- 전체 컬럼 모두 활용해서 학습으로 연결"
   ]
  },
  {
   "cell_type": "code",
   "execution_count": 383,
   "metadata": {},
   "outputs": [
    {
     "data": {
      "text/plain": [
       "Index(['Sex', 'Embarked', 'Deck', 'Family_group', 'Title'], dtype='object')"
      ]
     },
     "execution_count": 383,
     "metadata": {},
     "output_type": "execute_result"
    }
   ],
   "source": [
    "# 인코딩해야하는 컬럼 찾기\n",
    "# X_train.info()\n",
    "cat_filter = (X_train.dtypes != 'int64') & (X_train.dtypes != 'float64')\n",
    "cat_choice = X_train.columns[cat_filter]\n",
    "cat_choice"
   ]
  },
  {
   "cell_type": "markdown",
   "metadata": {},
   "source": []
  },
  {
   "cell_type": "code",
   "execution_count": null,
   "metadata": {},
   "outputs": [
    {
     "data": {
      "text/html": [
       "<div>\n",
       "<style scoped>\n",
       "    .dataframe tbody tr th:only-of-type {\n",
       "        vertical-align: middle;\n",
       "    }\n",
       "\n",
       "    .dataframe tbody tr th {\n",
       "        vertical-align: top;\n",
       "    }\n",
       "\n",
       "    .dataframe thead th {\n",
       "        text-align: right;\n",
       "    }\n",
       "</style>\n",
       "<table border=\"1\" class=\"dataframe\">\n",
       "  <thead>\n",
       "    <tr style=\"text-align: right;\">\n",
       "      <th></th>\n",
       "      <th>Sex_female</th>\n",
       "      <th>Sex_male</th>\n",
       "    </tr>\n",
       "    <tr>\n",
       "      <th>PassengerId</th>\n",
       "      <th></th>\n",
       "      <th></th>\n",
       "    </tr>\n",
       "  </thead>\n",
       "  <tbody>\n",
       "    <tr>\n",
       "      <th>1</th>\n",
       "      <td>0</td>\n",
       "      <td>1</td>\n",
       "    </tr>\n",
       "    <tr>\n",
       "      <th>2</th>\n",
       "      <td>1</td>\n",
       "      <td>0</td>\n",
       "    </tr>\n",
       "    <tr>\n",
       "      <th>3</th>\n",
       "      <td>1</td>\n",
       "      <td>0</td>\n",
       "    </tr>\n",
       "    <tr>\n",
       "      <th>4</th>\n",
       "      <td>1</td>\n",
       "      <td>0</td>\n",
       "    </tr>\n",
       "    <tr>\n",
       "      <th>5</th>\n",
       "      <td>0</td>\n",
       "      <td>1</td>\n",
       "    </tr>\n",
       "    <tr>\n",
       "      <th>...</th>\n",
       "      <td>...</td>\n",
       "      <td>...</td>\n",
       "    </tr>\n",
       "    <tr>\n",
       "      <th>887</th>\n",
       "      <td>0</td>\n",
       "      <td>1</td>\n",
       "    </tr>\n",
       "    <tr>\n",
       "      <th>888</th>\n",
       "      <td>1</td>\n",
       "      <td>0</td>\n",
       "    </tr>\n",
       "    <tr>\n",
       "      <th>889</th>\n",
       "      <td>1</td>\n",
       "      <td>0</td>\n",
       "    </tr>\n",
       "    <tr>\n",
       "      <th>890</th>\n",
       "      <td>0</td>\n",
       "      <td>1</td>\n",
       "    </tr>\n",
       "    <tr>\n",
       "      <th>891</th>\n",
       "      <td>0</td>\n",
       "      <td>1</td>\n",
       "    </tr>\n",
       "  </tbody>\n",
       "</table>\n",
       "<p>891 rows × 2 columns</p>\n",
       "</div>"
      ],
      "text/plain": [
       "             Sex_female  Sex_male\n",
       "PassengerId                      \n",
       "1                     0         1\n",
       "2                     1         0\n",
       "3                     1         0\n",
       "4                     1         0\n",
       "5                     0         1\n",
       "...                 ...       ...\n",
       "887                   0         1\n",
       "888                   1         0\n",
       "889                   1         0\n",
       "890                   0         1\n",
       "891                   0         1\n",
       "\n",
       "[891 rows x 2 columns]"
      ]
     },
     "execution_count": 241,
     "metadata": {},
     "output_type": "execute_result"
    }
   ],
   "source": [
    "# prefix -> 접두사 붙혀주는친구\n",
    "pd.get_dummies(X_train['Sex'] , prefix='Sex')"
   ]
  },
  {
   "cell_type": "code",
   "execution_count": 384,
   "metadata": {},
   "outputs": [],
   "source": [
    "# X_train 원핫 인코딩\n",
    "for cat_name in cat_choice :\n",
    "    # 컬럼 1개 인코딩\n",
    "    dummy = pd.get_dummies(X_train[cat_name] , prefix=cat_name)\n",
    "    # 기존 X_train 추가(병합, concat)\n",
    "    X_train = pd.concat([X_train,dummy ], axis = 1)\n",
    "    # 기존의 인코딩 되지 않은 컬럼 X_train 삭제해보기\n",
    "    X_train.drop(cat_name, axis = 1 ,inplace = True)\n"
   ]
  },
  {
   "cell_type": "code",
   "execution_count": 385,
   "metadata": {},
   "outputs": [
    {
     "name": "stdout",
     "output_type": "stream",
     "text": [
      "<class 'pandas.core.frame.DataFrame'>\n",
      "Int64Index: 891 entries, 1 to 891\n",
      "Data columns (total 28 columns):\n",
      " #   Column              Non-Null Count  Dtype  \n",
      "---  ------              --------------  -----  \n",
      " 0   Pclass              891 non-null    int64  \n",
      " 1   Age                 891 non-null    int64  \n",
      " 2   SibSp               891 non-null    int64  \n",
      " 3   Parch               891 non-null    int64  \n",
      " 4   Fare                891 non-null    float64\n",
      " 5   Sex_female          891 non-null    uint8  \n",
      " 6   Sex_male            891 non-null    uint8  \n",
      " 7   Embarked_C          891 non-null    uint8  \n",
      " 8   Embarked_Q          891 non-null    uint8  \n",
      " 9   Embarked_S          891 non-null    uint8  \n",
      " 10  Deck_A              891 non-null    uint8  \n",
      " 11  Deck_B              891 non-null    uint8  \n",
      " 12  Deck_C              891 non-null    uint8  \n",
      " 13  Deck_D              891 non-null    uint8  \n",
      " 14  Deck_E              891 non-null    uint8  \n",
      " 15  Deck_F              891 non-null    uint8  \n",
      " 16  Deck_G              891 non-null    uint8  \n",
      " 17  Deck_M              891 non-null    uint8  \n",
      " 18  Deck_T              891 non-null    uint8  \n",
      " 19  Family_group_Alone  891 non-null    uint8  \n",
      " 20  Family_group_Small  891 non-null    uint8  \n",
      " 21  Family_group_Large  891 non-null    uint8  \n",
      " 22  Title_Master        891 non-null    uint8  \n",
      " 23  Title_Miss          891 non-null    uint8  \n",
      " 24  Title_Mr            891 non-null    uint8  \n",
      " 25  Title_Mrs           891 non-null    uint8  \n",
      " 26  Title_Other         891 non-null    uint8  \n",
      " 27  Title_Rev           891 non-null    uint8  \n",
      "dtypes: float64(1), int64(4), uint8(23)\n",
      "memory usage: 94.1 KB\n"
     ]
    }
   ],
   "source": [
    "X_train.info() # 891, 28"
   ]
  },
  {
   "cell_type": "code",
   "execution_count": 386,
   "metadata": {},
   "outputs": [],
   "source": [
    "# X_test 원핫 인코딩\n",
    "for cat_name in cat_choice :\n",
    "    # 컬럼 1개 인코딩\n",
    "    dummy = pd.get_dummies(X_test[cat_name] , prefix=cat_name)\n",
    "    # 기존 X_train 추가(병합, concat)\n",
    "    X_test = pd.concat([X_test,dummy ], axis = 1)\n",
    "    # 기존의 인코딩 되지 않은 컬럼 X_train 삭제해보기\n",
    "    X_test.drop(cat_name, axis = 1 ,inplace = True)"
   ]
  },
  {
   "cell_type": "code",
   "execution_count": 387,
   "metadata": {},
   "outputs": [
    {
     "name": "stdout",
     "output_type": "stream",
     "text": [
      "<class 'pandas.core.frame.DataFrame'>\n",
      "Int64Index: 418 entries, 892 to 1309\n",
      "Data columns (total 27 columns):\n",
      " #   Column              Non-Null Count  Dtype  \n",
      "---  ------              --------------  -----  \n",
      " 0   Pclass              418 non-null    int64  \n",
      " 1   Age                 418 non-null    int64  \n",
      " 2   SibSp               418 non-null    int64  \n",
      " 3   Parch               418 non-null    int64  \n",
      " 4   Fare                418 non-null    float64\n",
      " 5   Sex_female          418 non-null    uint8  \n",
      " 6   Sex_male            418 non-null    uint8  \n",
      " 7   Embarked_C          418 non-null    uint8  \n",
      " 8   Embarked_Q          418 non-null    uint8  \n",
      " 9   Embarked_S          418 non-null    uint8  \n",
      " 10  Deck_A              418 non-null    uint8  \n",
      " 11  Deck_B              418 non-null    uint8  \n",
      " 12  Deck_C              418 non-null    uint8  \n",
      " 13  Deck_D              418 non-null    uint8  \n",
      " 14  Deck_E              418 non-null    uint8  \n",
      " 15  Deck_F              418 non-null    uint8  \n",
      " 16  Deck_G              418 non-null    uint8  \n",
      " 17  Deck_M              418 non-null    uint8  \n",
      " 18  Family_group_Alone  418 non-null    uint8  \n",
      " 19  Family_group_Small  418 non-null    uint8  \n",
      " 20  Family_group_Large  418 non-null    uint8  \n",
      " 21  Title_Master        418 non-null    uint8  \n",
      " 22  Title_Miss          418 non-null    uint8  \n",
      " 23  Title_Mr            418 non-null    uint8  \n",
      " 24  Title_Mrs           418 non-null    uint8  \n",
      " 25  Title_Other         418 non-null    uint8  \n",
      " 26  Title_Rev           418 non-null    uint8  \n",
      "dtypes: float64(1), int64(4), uint8(22)\n",
      "memory usage: 28.6 KB\n"
     ]
    }
   ],
   "source": [
    "X_test.info() # 418, 27 >> 컬럼이 왜 1개가 부족할까(원핫 인코딩 할때 하나가 사라졌을꺼다)"
   ]
  },
  {
   "attachments": {},
   "cell_type": "markdown",
   "metadata": {},
   "source": [
    "#### 특성 개수 맞추기\n",
    "- set : 집합 자료형\n",
    "- 중복 허용 x , 순서 x\n",
    "- 중복을 허용하지 않는 set의 특징 덕분에 종종 데이터의 중복을 제거하기 위한 필터 역할로 사용됨\n",
    "- set 활용하다가 정렬, 인덱스 접근으로 활용하고 싶으면 tuple,list형으로 변환해서 사용"
   ]
  },
  {
   "cell_type": "code",
   "execution_count": 389,
   "metadata": {},
   "outputs": [
    {
     "data": {
      "text/plain": [
       "{'Deck_T'}"
      ]
     },
     "execution_count": 389,
     "metadata": {},
     "output_type": "execute_result"
    }
   ],
   "source": [
    "set(X_train.columns) - set(X_test.columns)"
   ]
  },
  {
   "cell_type": "code",
   "execution_count": 395,
   "metadata": {},
   "outputs": [],
   "source": [
    "# Deck_T컬럼 X_test에 추가하기\n",
    "X_test['Deck_T'] = 0"
   ]
  },
  {
   "cell_type": "code",
   "execution_count": 396,
   "metadata": {},
   "outputs": [
    {
     "data": {
      "text/plain": [
       "Index(['Pclass', 'Age', 'SibSp', 'Parch', 'Fare', 'Sex_female', 'Sex_male',\n",
       "       'Embarked_C', 'Embarked_Q', 'Embarked_S', 'Deck_A', 'Deck_B', 'Deck_C',\n",
       "       'Deck_D', 'Deck_E', 'Deck_F', 'Deck_G', 'Deck_M', 'Deck_T',\n",
       "       'Family_group_Alone', 'Family_group_Small', 'Family_group_Large',\n",
       "       'Title_Master', 'Title_Miss', 'Title_Mr', 'Title_Mrs', 'Title_Other',\n",
       "       'Title_Rev'],\n",
       "      dtype='object')"
      ]
     },
     "execution_count": 396,
     "metadata": {},
     "output_type": "execute_result"
    }
   ],
   "source": [
    "#X_train컬럼 순서에 X_test순서도 맞추\n",
    "X_test = X_test[X_train.columns]\n",
    "X_test.columns"
   ]
  },
  {
   "attachments": {},
   "cell_type": "markdown",
   "metadata": {},
   "source": [
    "#### 모델 선택 및 학습"
   ]
  },
  {
   "cell_type": "code",
   "execution_count": 409,
   "metadata": {},
   "outputs": [],
   "source": [
    "from sklearn.tree import DecisionTreeClassifier # tree 분류\n",
    "from sklearn.model_selection import cross_val_score # 교차 검증 도구"
   ]
  },
  {
   "attachments": {},
   "cell_type": "markdown",
   "metadata": {},
   "source": [
    "##### tree model1"
   ]
  },
  {
   "cell_type": "code",
   "execution_count": 397,
   "metadata": {},
   "outputs": [],
   "source": [
    "tree_model = DecisionTreeClassifier() # 객체 생성\n",
    "# 학습\n",
    "tree_model.fit(X_train,y_train) # 지도학습 => 분류\n",
    "# 예측\n",
    "pre = tree_model.predict(X_test)"
   ]
  },
  {
   "cell_type": "code",
   "execution_count": 424,
   "metadata": {},
   "outputs": [],
   "source": [
    "# 평가 진행 > y_test는 Kaggle에 올려보기\n",
    "result = pd.read_csv('./data/gender_submission.csv')\n",
    "result['Survived'] = pre\n",
    "# csv형식으로 파일 저장\n",
    "\n",
    "result.to_csv('sjy_submission01.csv' , index=False) #  index=False 인덱스는 저장하지 않겠다"
   ]
  },
  {
   "cell_type": "code",
   "execution_count": null,
   "metadata": {},
   "outputs": [],
   "source": [
    "# 모델의 성능이 생각보다 떨어짐\n",
    "# 1. 데이터적인 측면에서 노력 > 데이터 수정 (전처리), 데이터 수집, 데이터 탐색\n",
    "# 2. 모델 측면에서 노력 > 하이퍼 파라미터 제어(튜닝)\n"
   ]
  },
  {
   "attachments": {},
   "cell_type": "markdown",
   "metadata": {},
   "source": [
    "#### Tree model - 하이퍼 파라미터 조정"
   ]
  },
  {
   "cell_type": "code",
   "execution_count": 414,
   "metadata": {},
   "outputs": [
    {
     "name": "stdout",
     "output_type": "stream",
     "text": [
      "[0.79888268 0.80337079 0.83146067 0.76966292 0.85393258]\n",
      "0.8114619295712762\n"
     ]
    }
   ],
   "source": [
    "tree_model2 = DecisionTreeClassifier(max_depth= 5)\n",
    "# 교차 검증 -> 모델 객체 생성하고 어느정도의 성능을 내는 모델인지 확인할 때 사용\n",
    "cross_result = cross_val_score(tree_model2, X_train,y_train,cv= 5 ) # cv  = 5 5번 정도 교차검증 진행하겠다.\n",
    "print(cross_result)\n",
    "print(cross_result.mean())"
   ]
  },
  {
   "cell_type": "code",
   "execution_count": 418,
   "metadata": {},
   "outputs": [
    {
     "name": "stdout",
     "output_type": "stream",
     "text": [
      "1 : 0.7788964911179461\n",
      "2 : 0.7834285355596007\n",
      "3 : 0.8159249262444291\n",
      "4 : 0.8204067541271736\n",
      "5 : 0.8114619295712762\n",
      "6 : 0.8091770761408574\n",
      "7 : 0.799114933149206\n",
      "8 : 0.7979850605737242\n",
      "9 : 0.7991023790094783\n"
     ]
    }
   ],
   "source": [
    "# for문으로 max_depth 값 확인 후 정하기\n",
    "for md in range (1,10) :  # 교차검증한 평균 9개 출력해보기\n",
    "    tree_model2 = DecisionTreeClassifier(max_depth= md)\n",
    "    cross_result = cross_val_score(tree_model2,X_train,y_train,cv = 5).mean()  # 5번 교차검증한 평균\n",
    "    print(f'{md} : {cross_result}')"
   ]
  },
  {
   "cell_type": "code",
   "execution_count": 428,
   "metadata": {},
   "outputs": [],
   "source": [
    "# 4라고 설정하고 모델 설정, 학습, 예측, 답안지 저장 > kaggle 업로드!\n",
    "tree_model2 = DecisionTreeClassifier(max_depth= 4)\n",
    "# 학습\n",
    "tree_model2.fit(X_train,y_train) # 지도학습 => 분류\n",
    "# 예측\n",
    "pre = tree_model2.predict(X_test)\n",
    "\n",
    "result2 = pd.read_csv('./data/gender_submission.csv')\n",
    "result2['Survived'] = pre\n",
    "# csv형식으로 파일 저장\n",
    "+-\n",
    "result.to_csv('sjy_submission01.csv' , index=False)\n"
   ]
  },
  {
   "attachments": {
    "image.png": {
     "image/png": "[encoded data removed]"
    }
   },
   "cell_type": "markdown",
   "metadata": {},
   "source": [
    "![image.png](attachment:image.png)"
   ]
  },
  {
   "cell_type": "code",
   "execution_count": 429,
   "metadata": {},
   "outputs": [
    {
     "data": {
      "image/png": "[encoded data removed]",
      "text/plain": [
       "<Figure size 500x700 with 1 Axes>"
      ]
     },
     "metadata": {},
     "output_type": "display_data"
    }
   ],
   "source": [
    "fi = tree_model2.feature_importances_\n",
    "importance_df = pd.Series(fi, index = X_train.columns)\n",
    "plt.figure(figsize=(5,7))\n",
    "importance_df.sort_values(ascending=True).plot.barh()\n",
    "plt.show()"
   ]
  }
 ],
 "metadata": {
  "kernelspec": {
   "display_name": "Python 3",
   "language": "python",
   "name": "python3"
  },
  "language_info": {
   "codemirror_mode": {
    "name": "ipython",
    "version": 3
   },
   "file_extension": ".py",
   "mimetype": "text/x-python",
   "name": "python",
   "nbconvert_exporter": "python",
   "pygments_lexer": "ipython3",
   "version": "3.11.2"
  },
  "orig_nbformat": 4
 },
 "nbformat": 4,
 "nbformat_minor": 2
}
