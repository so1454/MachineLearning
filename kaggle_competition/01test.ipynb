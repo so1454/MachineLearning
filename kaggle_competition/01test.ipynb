{
 "cells": [
  {
   "attachments": {},
   "cell_type": "markdown",
   "metadata": {},
   "source": [
    "목표 설정\n",
    "- 어떤 사람이 일년에 개인 수입이 $50k 달러 초과인지 예측해보자."
   ]
  },
  {
   "cell_type": "code",
   "execution_count": 449,
   "metadata": {},
   "outputs": [],
   "source": [
    "import numpy as np\n",
    "import pandas as pd\n",
    "import matplotlib as plt\n",
    "from sklearn.model_selection import train_test_split\n",
    "from sklearn.metrics import accuracy_score"
   ]
  },
  {
   "cell_type": "code",
   "execution_count": 450,
   "metadata": {},
   "outputs": [
    {
     "name": "stdout",
     "output_type": "stream",
     "text": [
      "(29305, 16)\n"
     ]
    }
   ],
   "source": [
    "train = pd.read_csv('./train_null.csv')\n",
    "train\n",
    "\n",
    "print(train.shape)"
   ]
  },
  {
   "cell_type": "code",
   "execution_count": 451,
   "metadata": {},
   "outputs": [
    {
     "name": "stdout",
     "output_type": "stream",
     "text": [
      "(19537, 15)\n"
     ]
    }
   ],
   "source": [
    "test = pd.read_csv('./test_null.csv')\n",
    "test\n",
    "print(test.shape)"
   ]
  },
  {
   "attachments": {},
   "cell_type": "markdown",
   "metadata": {},
   "source": [
    "데이터 탐색"
   ]
  },
  {
   "cell_type": "code",
   "execution_count": 452,
   "metadata": {},
   "outputs": [],
   "source": [
    "# 'age', 'workclass', 'fnlwgt', 'education', 'education-num', 'marital-status', 'occupation' ,'relationship', 'race' ,'sex' ,'capital-gain', 'capital-loss', 'hours-per-week', 'native-country','income'\n",
    "\n",
    "# age : 나이\n",
    "# workclass : 고용 형태\n",
    "# fnlwgt : 사람 대표성을 나타내는 가중치 (final weight의 약자)\n",
    "# education : 교육 수준\n",
    "# education_num : 교육 수준 수치\n",
    "# marital_status: 결혼 상태\n",
    "# occupation : 업종\n",
    "# relationship : 가족 관계\n",
    "# race : 인종\n",
    "# sex : 성별\n",
    "# capital_gain : 양도 소득\n",
    "# capital_loss : 양도 손실\n",
    "# hours_per_week : 주당 근무 시간\n",
    "# native_country : 국적\n",
    "# income : 수익 (예측해야 하는 값)\n"
   ]
  },
  {
   "cell_type": "code",
   "execution_count": 453,
   "metadata": {},
   "outputs": [
    {
     "name": "stdout",
     "output_type": "stream",
     "text": [
      "<class 'pandas.core.frame.DataFrame'>\n",
      "RangeIndex: 29305 entries, 0 to 29304\n",
      "Data columns (total 16 columns):\n",
      " #   Column          Non-Null Count  Dtype \n",
      "---  ------          --------------  ----- \n",
      " 0   no              29305 non-null  int64 \n",
      " 1   age             29305 non-null  int64 \n",
      " 2   workclass       27642 non-null  object\n",
      " 3   fnlwgt          29305 non-null  int64 \n",
      " 4   education       29305 non-null  object\n",
      " 5   education-num   29305 non-null  int64 \n",
      " 6   marital-status  29305 non-null  object\n",
      " 7   occupation      27637 non-null  object\n",
      " 8   relationship    29305 non-null  object\n",
      " 9   race            29305 non-null  object\n",
      " 10  sex             29305 non-null  object\n",
      " 11  capital-gain    29305 non-null  int64 \n",
      " 12  capital-loss    29305 non-null  int64 \n",
      " 13  hours-per-week  29305 non-null  int64 \n",
      " 14  native-country  28810 non-null  object\n",
      " 15  income          29305 non-null  int64 \n",
      "dtypes: int64(8), object(8)\n",
      "memory usage: 3.6+ MB\n"
     ]
    }
   ],
   "source": [
    "train.info()"
   ]
  },
  {
   "cell_type": "code",
   "execution_count": 454,
   "metadata": {},
   "outputs": [
    {
     "name": "stdout",
     "output_type": "stream",
     "text": [
      "<class 'pandas.core.frame.DataFrame'>\n",
      "RangeIndex: 19537 entries, 0 to 19536\n",
      "Data columns (total 15 columns):\n",
      " #   Column          Non-Null Count  Dtype \n",
      "---  ------          --------------  ----- \n",
      " 0   no              19537 non-null  int64 \n",
      " 1   age             19537 non-null  int64 \n",
      " 2   workclass       18401 non-null  object\n",
      " 3   fnlwgt          19537 non-null  int64 \n",
      " 4   education       19537 non-null  object\n",
      " 5   education-num   19537 non-null  int64 \n",
      " 6   marital-status  19537 non-null  object\n",
      " 7   occupation      18396 non-null  object\n",
      " 8   relationship    19537 non-null  object\n",
      " 9   race            19537 non-null  object\n",
      " 10  sex             19537 non-null  object\n",
      " 11  capital-gain    19537 non-null  int64 \n",
      " 12  capital-loss    19537 non-null  int64 \n",
      " 13  hours-per-week  19537 non-null  int64 \n",
      " 14  native-country  19175 non-null  object\n",
      "dtypes: int64(7), object(8)\n",
      "memory usage: 2.2+ MB\n"
     ]
    }
   ],
   "source": [
    "test.info()"
   ]
  },
  {
   "cell_type": "code",
   "execution_count": 455,
   "metadata": {},
   "outputs": [
    {
     "data": {
      "text/plain": [
       "no                   0\n",
       "age                  0\n",
       "workclass         1136\n",
       "fnlwgt               0\n",
       "education            0\n",
       "education-num        0\n",
       "marital-status       0\n",
       "occupation        1141\n",
       "relationship         0\n",
       "race                 0\n",
       "sex                  0\n",
       "capital-gain         0\n",
       "capital-loss         0\n",
       "hours-per-week       0\n",
       "native-country     362\n",
       "dtype: int64"
      ]
     },
     "execution_count": 455,
     "metadata": {},
     "output_type": "execute_result"
    }
   ],
   "source": [
    "# 결측값이 문자열로 되어있어서 찾지 못함\n",
    "test.isnull().sum()\n"
   ]
  },
  {
   "cell_type": "code",
   "execution_count": 456,
   "metadata": {},
   "outputs": [
    {
     "data": {
      "text/plain": [
       "no                   0\n",
       "age                  0\n",
       "workclass         1663\n",
       "fnlwgt               0\n",
       "education            0\n",
       "education-num        0\n",
       "marital-status       0\n",
       "occupation        1668\n",
       "relationship         0\n",
       "race                 0\n",
       "sex                  0\n",
       "capital-gain         0\n",
       "capital-loss         0\n",
       "hours-per-week       0\n",
       "native-country     495\n",
       "income               0\n",
       "dtype: int64"
      ]
     },
     "execution_count": 456,
     "metadata": {},
     "output_type": "execute_result"
    }
   ],
   "source": [
    "train.isnull().sum()"
   ]
  },
  {
   "attachments": {},
   "cell_type": "markdown",
   "metadata": {},
   "source": [
    "결측치 채워주기"
   ]
  },
  {
   "cell_type": "code",
   "execution_count": 457,
   "metadata": {},
   "outputs": [
    {
     "name": "stdout",
     "output_type": "stream",
     "text": [
      "Index(['no', 'age', 'workclass', 'fnlwgt', 'education', 'education-num',\n",
      "       'marital-status', 'occupation', 'relationship', 'race', 'sex',\n",
      "       'capital-gain', 'capital-loss', 'hours-per-week', 'native-country',\n",
      "       'income'],\n",
      "      dtype='object')\n",
      "Index(['workclass', 'occupation', 'native-country'], dtype='object')\n"
     ]
    }
   ],
   "source": [
    "# train 결측 열\n",
    "null_col = train.isnull().any()\n",
    "print(train.columns)\n",
    "print(train.columns[null_col])"
   ]
  },
  {
   "cell_type": "code",
   "execution_count": 458,
   "metadata": {},
   "outputs": [
    {
     "name": "stdout",
     "output_type": "stream",
     "text": [
      "Index(['no', 'age', 'workclass', 'fnlwgt', 'education', 'education-num',\n",
      "       'marital-status', 'occupation', 'relationship', 'race', 'sex',\n",
      "       'capital-gain', 'capital-loss', 'hours-per-week', 'native-country'],\n",
      "      dtype='object')\n",
      "Index(['workclass', 'occupation', 'native-country'], dtype='object')\n"
     ]
    }
   ],
   "source": [
    "# test 결측 열\n",
    "null_col = test.isnull().any()\n",
    "print(test.columns)\n",
    "print(test.columns[null_col])"
   ]
  },
  {
   "cell_type": "code",
   "execution_count": 459,
   "metadata": {},
   "outputs": [],
   "source": [
    "# 결측값을 가진 열 \n",
    "# 'workclass', 'occupation', 'native-country'"
   ]
  },
  {
   "attachments": {},
   "cell_type": "markdown",
   "metadata": {},
   "source": [
    "workclass 수정해보기"
   ]
  },
  {
   "cell_type": "code",
   "execution_count": 460,
   "metadata": {},
   "outputs": [
    {
     "data": {
      "text/plain": [
       "Private             20410\n",
       "Self-emp-not-inc     2305\n",
       "Local-gov            1868\n",
       "State-gov            1201\n",
       "Self-emp-inc          987\n",
       "Federal-gov           854\n",
       "Without-pay            12\n",
       "Never-worked            5\n",
       "Name: workclass, dtype: int64"
      ]
     },
     "execution_count": 460,
     "metadata": {},
     "output_type": "execute_result"
    }
   ],
   "source": [
    "train[train['workclass'].isnull()]\n",
    "train['workclass'].value_counts()"
   ]
  },
  {
   "attachments": {},
   "cell_type": "markdown",
   "metadata": {},
   "source": [
    "workclass ==> 결측치가 존재하는 모든 행을 'private'으로 채우기\n",
    "- 젤많으니까"
   ]
  },
  {
   "cell_type": "code",
   "execution_count": 461,
   "metadata": {},
   "outputs": [],
   "source": [
    "train['workclass'] = train['workclass'].fillna('Private')"
   ]
  },
  {
   "cell_type": "code",
   "execution_count": 462,
   "metadata": {},
   "outputs": [
    {
     "data": {
      "text/html": [
       "<div>\n",
       "<style scoped>\n",
       "    .dataframe tbody tr th:only-of-type {\n",
       "        vertical-align: middle;\n",
       "    }\n",
       "\n",
       "    .dataframe tbody tr th {\n",
       "        vertical-align: top;\n",
       "    }\n",
       "\n",
       "    .dataframe thead th {\n",
       "        text-align: right;\n",
       "    }\n",
       "</style>\n",
       "<table border=\"1\" class=\"dataframe\">\n",
       "  <thead>\n",
       "    <tr style=\"text-align: right;\">\n",
       "      <th></th>\n",
       "      <th>no</th>\n",
       "      <th>age</th>\n",
       "      <th>workclass</th>\n",
       "      <th>fnlwgt</th>\n",
       "      <th>education</th>\n",
       "      <th>education-num</th>\n",
       "      <th>marital-status</th>\n",
       "      <th>occupation</th>\n",
       "      <th>relationship</th>\n",
       "      <th>race</th>\n",
       "      <th>sex</th>\n",
       "      <th>capital-gain</th>\n",
       "      <th>capital-loss</th>\n",
       "      <th>hours-per-week</th>\n",
       "      <th>native-country</th>\n",
       "      <th>income</th>\n",
       "    </tr>\n",
       "  </thead>\n",
       "  <tbody>\n",
       "  </tbody>\n",
       "</table>\n",
       "</div>"
      ],
      "text/plain": [
       "Empty DataFrame\n",
       "Columns: [no, age, workclass, fnlwgt, education, education-num, marital-status, occupation, relationship, race, sex, capital-gain, capital-loss, hours-per-week, native-country, income]\n",
       "Index: []"
      ]
     },
     "execution_count": 462,
     "metadata": {},
     "output_type": "execute_result"
    }
   ],
   "source": [
    "train[train['workclass'].isnull()]"
   ]
  },
  {
   "cell_type": "code",
   "execution_count": 463,
   "metadata": {},
   "outputs": [],
   "source": [
    "test['workclass'] = test['workclass'].fillna('Private')"
   ]
  },
  {
   "attachments": {},
   "cell_type": "markdown",
   "metadata": {},
   "source": [
    "occupation 결측값 채우기"
   ]
  },
  {
   "cell_type": "code",
   "execution_count": 464,
   "metadata": {},
   "outputs": [
    {
     "data": {
      "text/plain": [
       "Prof-specialty       3724\n",
       "Craft-repair         3632\n",
       "Exec-managerial      3609\n",
       "Adm-clerical         3440\n",
       "Sales                3292\n",
       "Other-service        2975\n",
       "Machine-op-inspct    1811\n",
       "Transport-moving     1393\n",
       "Handlers-cleaners    1249\n",
       "Farming-fishing       888\n",
       "Tech-support          865\n",
       "Protective-serv       603\n",
       "Priv-house-serv       146\n",
       "Armed-Forces           10\n",
       "Name: occupation, dtype: int64"
      ]
     },
     "execution_count": 464,
     "metadata": {},
     "output_type": "execute_result"
    }
   ],
   "source": [
    "train['occupation'].value_counts()"
   ]
  },
  {
   "cell_type": "code",
   "execution_count": 465,
   "metadata": {},
   "outputs": [
    {
     "data": {
      "text/html": [
       "<div>\n",
       "<style scoped>\n",
       "    .dataframe tbody tr th:only-of-type {\n",
       "        vertical-align: middle;\n",
       "    }\n",
       "\n",
       "    .dataframe tbody tr th {\n",
       "        vertical-align: top;\n",
       "    }\n",
       "\n",
       "    .dataframe thead th {\n",
       "        text-align: right;\n",
       "    }\n",
       "</style>\n",
       "<table border=\"1\" class=\"dataframe\">\n",
       "  <thead>\n",
       "    <tr style=\"text-align: right;\">\n",
       "      <th></th>\n",
       "      <th>no</th>\n",
       "      <th>age</th>\n",
       "      <th>workclass</th>\n",
       "      <th>fnlwgt</th>\n",
       "      <th>education</th>\n",
       "      <th>education-num</th>\n",
       "      <th>marital-status</th>\n",
       "      <th>occupation</th>\n",
       "      <th>relationship</th>\n",
       "      <th>race</th>\n",
       "      <th>sex</th>\n",
       "      <th>capital-gain</th>\n",
       "      <th>capital-loss</th>\n",
       "      <th>hours-per-week</th>\n",
       "      <th>native-country</th>\n",
       "      <th>income</th>\n",
       "    </tr>\n",
       "  </thead>\n",
       "  <tbody>\n",
       "    <tr>\n",
       "      <th>19</th>\n",
       "      <td>20</td>\n",
       "      <td>18</td>\n",
       "      <td>Private</td>\n",
       "      <td>220168</td>\n",
       "      <td>Some-college</td>\n",
       "      <td>10</td>\n",
       "      <td>Never-married</td>\n",
       "      <td>NaN</td>\n",
       "      <td>Own-child</td>\n",
       "      <td>White</td>\n",
       "      <td>Male</td>\n",
       "      <td>0</td>\n",
       "      <td>0</td>\n",
       "      <td>16</td>\n",
       "      <td>United-States</td>\n",
       "      <td>0</td>\n",
       "    </tr>\n",
       "    <tr>\n",
       "      <th>20</th>\n",
       "      <td>21</td>\n",
       "      <td>23</td>\n",
       "      <td>Private</td>\n",
       "      <td>194096</td>\n",
       "      <td>Some-college</td>\n",
       "      <td>10</td>\n",
       "      <td>Never-married</td>\n",
       "      <td>NaN</td>\n",
       "      <td>Own-child</td>\n",
       "      <td>White</td>\n",
       "      <td>Female</td>\n",
       "      <td>0</td>\n",
       "      <td>0</td>\n",
       "      <td>30</td>\n",
       "      <td>United-States</td>\n",
       "      <td>0</td>\n",
       "    </tr>\n",
       "    <tr>\n",
       "      <th>24</th>\n",
       "      <td>25</td>\n",
       "      <td>19</td>\n",
       "      <td>Private</td>\n",
       "      <td>50626</td>\n",
       "      <td>Some-college</td>\n",
       "      <td>10</td>\n",
       "      <td>Never-married</td>\n",
       "      <td>NaN</td>\n",
       "      <td>Own-child</td>\n",
       "      <td>Black</td>\n",
       "      <td>Female</td>\n",
       "      <td>0</td>\n",
       "      <td>0</td>\n",
       "      <td>20</td>\n",
       "      <td>United-States</td>\n",
       "      <td>0</td>\n",
       "    </tr>\n",
       "    <tr>\n",
       "      <th>37</th>\n",
       "      <td>38</td>\n",
       "      <td>24</td>\n",
       "      <td>Private</td>\n",
       "      <td>152719</td>\n",
       "      <td>Some-college</td>\n",
       "      <td>10</td>\n",
       "      <td>Never-married</td>\n",
       "      <td>NaN</td>\n",
       "      <td>Own-child</td>\n",
       "      <td>Black</td>\n",
       "      <td>Female</td>\n",
       "      <td>0</td>\n",
       "      <td>0</td>\n",
       "      <td>15</td>\n",
       "      <td>Haiti</td>\n",
       "      <td>0</td>\n",
       "    </tr>\n",
       "    <tr>\n",
       "      <th>47</th>\n",
       "      <td>48</td>\n",
       "      <td>23</td>\n",
       "      <td>Private</td>\n",
       "      <td>62507</td>\n",
       "      <td>Some-college</td>\n",
       "      <td>10</td>\n",
       "      <td>Never-married</td>\n",
       "      <td>NaN</td>\n",
       "      <td>Not-in-family</td>\n",
       "      <td>White</td>\n",
       "      <td>Female</td>\n",
       "      <td>0</td>\n",
       "      <td>0</td>\n",
       "      <td>12</td>\n",
       "      <td>United-States</td>\n",
       "      <td>0</td>\n",
       "    </tr>\n",
       "    <tr>\n",
       "      <th>...</th>\n",
       "      <td>...</td>\n",
       "      <td>...</td>\n",
       "      <td>...</td>\n",
       "      <td>...</td>\n",
       "      <td>...</td>\n",
       "      <td>...</td>\n",
       "      <td>...</td>\n",
       "      <td>...</td>\n",
       "      <td>...</td>\n",
       "      <td>...</td>\n",
       "      <td>...</td>\n",
       "      <td>...</td>\n",
       "      <td>...</td>\n",
       "      <td>...</td>\n",
       "      <td>...</td>\n",
       "      <td>...</td>\n",
       "    </tr>\n",
       "    <tr>\n",
       "      <th>29244</th>\n",
       "      <td>29245</td>\n",
       "      <td>28</td>\n",
       "      <td>Private</td>\n",
       "      <td>196630</td>\n",
       "      <td>Assoc-voc</td>\n",
       "      <td>11</td>\n",
       "      <td>Separated</td>\n",
       "      <td>NaN</td>\n",
       "      <td>Unmarried</td>\n",
       "      <td>White</td>\n",
       "      <td>Female</td>\n",
       "      <td>0</td>\n",
       "      <td>0</td>\n",
       "      <td>40</td>\n",
       "      <td>Mexico</td>\n",
       "      <td>0</td>\n",
       "    </tr>\n",
       "    <tr>\n",
       "      <th>29247</th>\n",
       "      <td>29248</td>\n",
       "      <td>50</td>\n",
       "      <td>Private</td>\n",
       "      <td>23780</td>\n",
       "      <td>Masters</td>\n",
       "      <td>14</td>\n",
       "      <td>Married-spouse-absent</td>\n",
       "      <td>NaN</td>\n",
       "      <td>Other-relative</td>\n",
       "      <td>White</td>\n",
       "      <td>Male</td>\n",
       "      <td>0</td>\n",
       "      <td>0</td>\n",
       "      <td>40</td>\n",
       "      <td>United-States</td>\n",
       "      <td>0</td>\n",
       "    </tr>\n",
       "    <tr>\n",
       "      <th>29280</th>\n",
       "      <td>29281</td>\n",
       "      <td>22</td>\n",
       "      <td>Private</td>\n",
       "      <td>110622</td>\n",
       "      <td>Bachelors</td>\n",
       "      <td>13</td>\n",
       "      <td>Never-married</td>\n",
       "      <td>NaN</td>\n",
       "      <td>Own-child</td>\n",
       "      <td>Asian-Pac-Islander</td>\n",
       "      <td>Female</td>\n",
       "      <td>0</td>\n",
       "      <td>0</td>\n",
       "      <td>15</td>\n",
       "      <td>Taiwan</td>\n",
       "      <td>0</td>\n",
       "    </tr>\n",
       "    <tr>\n",
       "      <th>29286</th>\n",
       "      <td>29287</td>\n",
       "      <td>21</td>\n",
       "      <td>Private</td>\n",
       "      <td>143995</td>\n",
       "      <td>Some-college</td>\n",
       "      <td>10</td>\n",
       "      <td>Never-married</td>\n",
       "      <td>NaN</td>\n",
       "      <td>Own-child</td>\n",
       "      <td>Black</td>\n",
       "      <td>Male</td>\n",
       "      <td>0</td>\n",
       "      <td>0</td>\n",
       "      <td>20</td>\n",
       "      <td>United-States</td>\n",
       "      <td>0</td>\n",
       "    </tr>\n",
       "    <tr>\n",
       "      <th>29304</th>\n",
       "      <td>29305</td>\n",
       "      <td>65</td>\n",
       "      <td>Private</td>\n",
       "      <td>94809</td>\n",
       "      <td>HS-grad</td>\n",
       "      <td>9</td>\n",
       "      <td>Widowed</td>\n",
       "      <td>NaN</td>\n",
       "      <td>Not-in-family</td>\n",
       "      <td>White</td>\n",
       "      <td>Female</td>\n",
       "      <td>0</td>\n",
       "      <td>0</td>\n",
       "      <td>40</td>\n",
       "      <td>United-States</td>\n",
       "      <td>0</td>\n",
       "    </tr>\n",
       "  </tbody>\n",
       "</table>\n",
       "<p>1668 rows × 16 columns</p>\n",
       "</div>"
      ],
      "text/plain": [
       "          no  age workclass  fnlwgt     education  education-num  \\\n",
       "19        20   18   Private  220168  Some-college             10   \n",
       "20        21   23   Private  194096  Some-college             10   \n",
       "24        25   19   Private   50626  Some-college             10   \n",
       "37        38   24   Private  152719  Some-college             10   \n",
       "47        48   23   Private   62507  Some-college             10   \n",
       "...      ...  ...       ...     ...           ...            ...   \n",
       "29244  29245   28   Private  196630     Assoc-voc             11   \n",
       "29247  29248   50   Private   23780       Masters             14   \n",
       "29280  29281   22   Private  110622     Bachelors             13   \n",
       "29286  29287   21   Private  143995  Some-college             10   \n",
       "29304  29305   65   Private   94809       HS-grad              9   \n",
       "\n",
       "              marital-status occupation    relationship                race  \\\n",
       "19             Never-married        NaN       Own-child               White   \n",
       "20             Never-married        NaN       Own-child               White   \n",
       "24             Never-married        NaN       Own-child               Black   \n",
       "37             Never-married        NaN       Own-child               Black   \n",
       "47             Never-married        NaN   Not-in-family               White   \n",
       "...                      ...        ...             ...                 ...   \n",
       "29244              Separated        NaN       Unmarried               White   \n",
       "29247  Married-spouse-absent        NaN  Other-relative               White   \n",
       "29280          Never-married        NaN       Own-child  Asian-Pac-Islander   \n",
       "29286          Never-married        NaN       Own-child               Black   \n",
       "29304                Widowed        NaN   Not-in-family               White   \n",
       "\n",
       "          sex  capital-gain  capital-loss  hours-per-week native-country  \\\n",
       "19       Male             0             0              16  United-States   \n",
       "20     Female             0             0              30  United-States   \n",
       "24     Female             0             0              20  United-States   \n",
       "37     Female             0             0              15          Haiti   \n",
       "47     Female             0             0              12  United-States   \n",
       "...       ...           ...           ...             ...            ...   \n",
       "29244  Female             0             0              40         Mexico   \n",
       "29247    Male             0             0              40  United-States   \n",
       "29280  Female             0             0              15         Taiwan   \n",
       "29286    Male             0             0              20  United-States   \n",
       "29304  Female             0             0              40  United-States   \n",
       "\n",
       "       income  \n",
       "19          0  \n",
       "20          0  \n",
       "24          0  \n",
       "37          0  \n",
       "47          0  \n",
       "...       ...  \n",
       "29244       0  \n",
       "29247       0  \n",
       "29280       0  \n",
       "29286       0  \n",
       "29304       0  \n",
       "\n",
       "[1668 rows x 16 columns]"
      ]
     },
     "execution_count": 465,
     "metadata": {},
     "output_type": "execute_result"
    }
   ],
   "source": [
    "train[train['occupation'].isnull()]"
   ]
  },
  {
   "cell_type": "code",
   "execution_count": 466,
   "metadata": {},
   "outputs": [],
   "source": [
    "train['occupation']= train['occupation'].fillna('Prof-specialty')"
   ]
  },
  {
   "cell_type": "code",
   "execution_count": 467,
   "metadata": {},
   "outputs": [
    {
     "data": {
      "text/html": [
       "<div>\n",
       "<style scoped>\n",
       "    .dataframe tbody tr th:only-of-type {\n",
       "        vertical-align: middle;\n",
       "    }\n",
       "\n",
       "    .dataframe tbody tr th {\n",
       "        vertical-align: top;\n",
       "    }\n",
       "\n",
       "    .dataframe thead th {\n",
       "        text-align: right;\n",
       "    }\n",
       "</style>\n",
       "<table border=\"1\" class=\"dataframe\">\n",
       "  <thead>\n",
       "    <tr style=\"text-align: right;\">\n",
       "      <th></th>\n",
       "      <th>no</th>\n",
       "      <th>age</th>\n",
       "      <th>workclass</th>\n",
       "      <th>fnlwgt</th>\n",
       "      <th>education</th>\n",
       "      <th>education-num</th>\n",
       "      <th>marital-status</th>\n",
       "      <th>occupation</th>\n",
       "      <th>relationship</th>\n",
       "      <th>race</th>\n",
       "      <th>sex</th>\n",
       "      <th>capital-gain</th>\n",
       "      <th>capital-loss</th>\n",
       "      <th>hours-per-week</th>\n",
       "      <th>native-country</th>\n",
       "      <th>income</th>\n",
       "    </tr>\n",
       "  </thead>\n",
       "  <tbody>\n",
       "  </tbody>\n",
       "</table>\n",
       "</div>"
      ],
      "text/plain": [
       "Empty DataFrame\n",
       "Columns: [no, age, workclass, fnlwgt, education, education-num, marital-status, occupation, relationship, race, sex, capital-gain, capital-loss, hours-per-week, native-country, income]\n",
       "Index: []"
      ]
     },
     "execution_count": 467,
     "metadata": {},
     "output_type": "execute_result"
    }
   ],
   "source": [
    "train[train['occupation'].isnull()]"
   ]
  },
  {
   "cell_type": "code",
   "execution_count": 468,
   "metadata": {},
   "outputs": [],
   "source": [
    "test['occupation']= test['occupation'].fillna('Prof-specialty')"
   ]
  },
  {
   "cell_type": "code",
   "execution_count": 469,
   "metadata": {},
   "outputs": [
    {
     "data": {
      "text/plain": [
       "0         Prof-specialty\n",
       "1          Other-service\n",
       "2           Tech-support\n",
       "3        Exec-managerial\n",
       "4        Exec-managerial\n",
       "              ...       \n",
       "19532       Craft-repair\n",
       "19533    Exec-managerial\n",
       "19534     Prof-specialty\n",
       "19535              Sales\n",
       "19536       Tech-support\n",
       "Name: occupation, Length: 19537, dtype: object"
      ]
     },
     "execution_count": 469,
     "metadata": {},
     "output_type": "execute_result"
    }
   ],
   "source": [
    "test['occupation']"
   ]
  },
  {
   "attachments": {},
   "cell_type": "markdown",
   "metadata": {},
   "source": [
    "native-country"
   ]
  },
  {
   "cell_type": "code",
   "execution_count": 470,
   "metadata": {},
   "outputs": [
    {
     "data": {
      "text/html": [
       "<div>\n",
       "<style scoped>\n",
       "    .dataframe tbody tr th:only-of-type {\n",
       "        vertical-align: middle;\n",
       "    }\n",
       "\n",
       "    .dataframe tbody tr th {\n",
       "        vertical-align: top;\n",
       "    }\n",
       "\n",
       "    .dataframe thead th {\n",
       "        text-align: right;\n",
       "    }\n",
       "</style>\n",
       "<table border=\"1\" class=\"dataframe\">\n",
       "  <thead>\n",
       "    <tr style=\"text-align: right;\">\n",
       "      <th></th>\n",
       "      <th>no</th>\n",
       "      <th>age</th>\n",
       "      <th>workclass</th>\n",
       "      <th>fnlwgt</th>\n",
       "      <th>education</th>\n",
       "      <th>education-num</th>\n",
       "      <th>marital-status</th>\n",
       "      <th>occupation</th>\n",
       "      <th>relationship</th>\n",
       "      <th>race</th>\n",
       "      <th>sex</th>\n",
       "      <th>capital-gain</th>\n",
       "      <th>capital-loss</th>\n",
       "      <th>hours-per-week</th>\n",
       "      <th>native-country</th>\n",
       "      <th>income</th>\n",
       "    </tr>\n",
       "  </thead>\n",
       "  <tbody>\n",
       "    <tr>\n",
       "      <th>25</th>\n",
       "      <td>26</td>\n",
       "      <td>45</td>\n",
       "      <td>Private</td>\n",
       "      <td>179048</td>\n",
       "      <td>12th</td>\n",
       "      <td>8</td>\n",
       "      <td>Married-civ-spouse</td>\n",
       "      <td>Adm-clerical</td>\n",
       "      <td>Husband</td>\n",
       "      <td>White</td>\n",
       "      <td>Male</td>\n",
       "      <td>0</td>\n",
       "      <td>0</td>\n",
       "      <td>35</td>\n",
       "      <td>NaN</td>\n",
       "      <td>1</td>\n",
       "    </tr>\n",
       "    <tr>\n",
       "      <th>296</th>\n",
       "      <td>297</td>\n",
       "      <td>47</td>\n",
       "      <td>Private</td>\n",
       "      <td>174525</td>\n",
       "      <td>HS-grad</td>\n",
       "      <td>9</td>\n",
       "      <td>Married-civ-spouse</td>\n",
       "      <td>Prof-specialty</td>\n",
       "      <td>Husband</td>\n",
       "      <td>White</td>\n",
       "      <td>Male</td>\n",
       "      <td>3942</td>\n",
       "      <td>0</td>\n",
       "      <td>40</td>\n",
       "      <td>NaN</td>\n",
       "      <td>0</td>\n",
       "    </tr>\n",
       "    <tr>\n",
       "      <th>305</th>\n",
       "      <td>306</td>\n",
       "      <td>25</td>\n",
       "      <td>Private</td>\n",
       "      <td>124111</td>\n",
       "      <td>Bachelors</td>\n",
       "      <td>13</td>\n",
       "      <td>Never-married</td>\n",
       "      <td>Sales</td>\n",
       "      <td>Own-child</td>\n",
       "      <td>White</td>\n",
       "      <td>Female</td>\n",
       "      <td>0</td>\n",
       "      <td>0</td>\n",
       "      <td>36</td>\n",
       "      <td>NaN</td>\n",
       "      <td>0</td>\n",
       "    </tr>\n",
       "    <tr>\n",
       "      <th>421</th>\n",
       "      <td>422</td>\n",
       "      <td>35</td>\n",
       "      <td>Private</td>\n",
       "      <td>103710</td>\n",
       "      <td>Bachelors</td>\n",
       "      <td>13</td>\n",
       "      <td>Divorced</td>\n",
       "      <td>Prof-specialty</td>\n",
       "      <td>Unmarried</td>\n",
       "      <td>White</td>\n",
       "      <td>Female</td>\n",
       "      <td>0</td>\n",
       "      <td>0</td>\n",
       "      <td>16</td>\n",
       "      <td>NaN</td>\n",
       "      <td>0</td>\n",
       "    </tr>\n",
       "    <tr>\n",
       "      <th>432</th>\n",
       "      <td>433</td>\n",
       "      <td>29</td>\n",
       "      <td>Private</td>\n",
       "      <td>112403</td>\n",
       "      <td>5th-6th</td>\n",
       "      <td>3</td>\n",
       "      <td>Married-civ-spouse</td>\n",
       "      <td>Machine-op-inspct</td>\n",
       "      <td>Husband</td>\n",
       "      <td>White</td>\n",
       "      <td>Male</td>\n",
       "      <td>0</td>\n",
       "      <td>0</td>\n",
       "      <td>40</td>\n",
       "      <td>NaN</td>\n",
       "      <td>0</td>\n",
       "    </tr>\n",
       "    <tr>\n",
       "      <th>...</th>\n",
       "      <td>...</td>\n",
       "      <td>...</td>\n",
       "      <td>...</td>\n",
       "      <td>...</td>\n",
       "      <td>...</td>\n",
       "      <td>...</td>\n",
       "      <td>...</td>\n",
       "      <td>...</td>\n",
       "      <td>...</td>\n",
       "      <td>...</td>\n",
       "      <td>...</td>\n",
       "      <td>...</td>\n",
       "      <td>...</td>\n",
       "      <td>...</td>\n",
       "      <td>...</td>\n",
       "      <td>...</td>\n",
       "    </tr>\n",
       "    <tr>\n",
       "      <th>28885</th>\n",
       "      <td>28886</td>\n",
       "      <td>48</td>\n",
       "      <td>Private</td>\n",
       "      <td>117310</td>\n",
       "      <td>Bachelors</td>\n",
       "      <td>13</td>\n",
       "      <td>Divorced</td>\n",
       "      <td>Adm-clerical</td>\n",
       "      <td>Unmarried</td>\n",
       "      <td>White</td>\n",
       "      <td>Female</td>\n",
       "      <td>0</td>\n",
       "      <td>0</td>\n",
       "      <td>60</td>\n",
       "      <td>NaN</td>\n",
       "      <td>0</td>\n",
       "    </tr>\n",
       "    <tr>\n",
       "      <th>28953</th>\n",
       "      <td>28954</td>\n",
       "      <td>33</td>\n",
       "      <td>Self-emp-not-inc</td>\n",
       "      <td>182926</td>\n",
       "      <td>Bachelors</td>\n",
       "      <td>13</td>\n",
       "      <td>Never-married</td>\n",
       "      <td>Transport-moving</td>\n",
       "      <td>Not-in-family</td>\n",
       "      <td>White</td>\n",
       "      <td>Male</td>\n",
       "      <td>0</td>\n",
       "      <td>0</td>\n",
       "      <td>40</td>\n",
       "      <td>NaN</td>\n",
       "      <td>0</td>\n",
       "    </tr>\n",
       "    <tr>\n",
       "      <th>29067</th>\n",
       "      <td>29068</td>\n",
       "      <td>45</td>\n",
       "      <td>Private</td>\n",
       "      <td>199058</td>\n",
       "      <td>Bachelors</td>\n",
       "      <td>13</td>\n",
       "      <td>Married-civ-spouse</td>\n",
       "      <td>Exec-managerial</td>\n",
       "      <td>Husband</td>\n",
       "      <td>White</td>\n",
       "      <td>Male</td>\n",
       "      <td>0</td>\n",
       "      <td>0</td>\n",
       "      <td>48</td>\n",
       "      <td>NaN</td>\n",
       "      <td>0</td>\n",
       "    </tr>\n",
       "    <tr>\n",
       "      <th>29230</th>\n",
       "      <td>29231</td>\n",
       "      <td>42</td>\n",
       "      <td>Private</td>\n",
       "      <td>157367</td>\n",
       "      <td>HS-grad</td>\n",
       "      <td>9</td>\n",
       "      <td>Never-married</td>\n",
       "      <td>Adm-clerical</td>\n",
       "      <td>Unmarried</td>\n",
       "      <td>Black</td>\n",
       "      <td>Female</td>\n",
       "      <td>0</td>\n",
       "      <td>0</td>\n",
       "      <td>35</td>\n",
       "      <td>NaN</td>\n",
       "      <td>0</td>\n",
       "    </tr>\n",
       "    <tr>\n",
       "      <th>29245</th>\n",
       "      <td>29246</td>\n",
       "      <td>68</td>\n",
       "      <td>State-gov</td>\n",
       "      <td>202699</td>\n",
       "      <td>Masters</td>\n",
       "      <td>14</td>\n",
       "      <td>Married-civ-spouse</td>\n",
       "      <td>Prof-specialty</td>\n",
       "      <td>Husband</td>\n",
       "      <td>White</td>\n",
       "      <td>Male</td>\n",
       "      <td>0</td>\n",
       "      <td>2377</td>\n",
       "      <td>42</td>\n",
       "      <td>NaN</td>\n",
       "      <td>1</td>\n",
       "    </tr>\n",
       "  </tbody>\n",
       "</table>\n",
       "<p>495 rows × 16 columns</p>\n",
       "</div>"
      ],
      "text/plain": [
       "          no  age         workclass  fnlwgt  education  education-num  \\\n",
       "25        26   45           Private  179048       12th              8   \n",
       "296      297   47           Private  174525    HS-grad              9   \n",
       "305      306   25           Private  124111  Bachelors             13   \n",
       "421      422   35           Private  103710  Bachelors             13   \n",
       "432      433   29           Private  112403    5th-6th              3   \n",
       "...      ...  ...               ...     ...        ...            ...   \n",
       "28885  28886   48           Private  117310  Bachelors             13   \n",
       "28953  28954   33  Self-emp-not-inc  182926  Bachelors             13   \n",
       "29067  29068   45           Private  199058  Bachelors             13   \n",
       "29230  29231   42           Private  157367    HS-grad              9   \n",
       "29245  29246   68         State-gov  202699    Masters             14   \n",
       "\n",
       "           marital-status         occupation   relationship   race     sex  \\\n",
       "25     Married-civ-spouse       Adm-clerical        Husband  White    Male   \n",
       "296    Married-civ-spouse     Prof-specialty        Husband  White    Male   \n",
       "305         Never-married              Sales      Own-child  White  Female   \n",
       "421              Divorced     Prof-specialty      Unmarried  White  Female   \n",
       "432    Married-civ-spouse  Machine-op-inspct        Husband  White    Male   \n",
       "...                   ...                ...            ...    ...     ...   \n",
       "28885            Divorced       Adm-clerical      Unmarried  White  Female   \n",
       "28953       Never-married   Transport-moving  Not-in-family  White    Male   \n",
       "29067  Married-civ-spouse    Exec-managerial        Husband  White    Male   \n",
       "29230       Never-married       Adm-clerical      Unmarried  Black  Female   \n",
       "29245  Married-civ-spouse     Prof-specialty        Husband  White    Male   \n",
       "\n",
       "       capital-gain  capital-loss  hours-per-week native-country  income  \n",
       "25                0             0              35            NaN       1  \n",
       "296            3942             0              40            NaN       0  \n",
       "305               0             0              36            NaN       0  \n",
       "421               0             0              16            NaN       0  \n",
       "432               0             0              40            NaN       0  \n",
       "...             ...           ...             ...            ...     ...  \n",
       "28885             0             0              60            NaN       0  \n",
       "28953             0             0              40            NaN       0  \n",
       "29067             0             0              48            NaN       0  \n",
       "29230             0             0              35            NaN       0  \n",
       "29245             0          2377              42            NaN       1  \n",
       "\n",
       "[495 rows x 16 columns]"
      ]
     },
     "execution_count": 470,
     "metadata": {},
     "output_type": "execute_result"
    }
   ],
   "source": [
    "train[train['native-country'].isnull()]"
   ]
  },
  {
   "cell_type": "code",
   "execution_count": 471,
   "metadata": {},
   "outputs": [
    {
     "data": {
      "text/plain": [
       "United-States                 26301\n",
       "Mexico                          579\n",
       "Philippines                     178\n",
       "Germany                         124\n",
       "Puerto-Rico                     117\n",
       "Canada                          111\n",
       "El-Salvador                      96\n",
       "Cuba                             94\n",
       "India                            90\n",
       "England                          75\n",
       "South                            74\n",
       "Jamaica                          68\n",
       "China                            68\n",
       "Dominican-Republic               61\n",
       "Italy                            60\n",
       "Japan                            54\n",
       "Columbia                         53\n",
       "Poland                           53\n",
       "Guatemala                        51\n",
       "Haiti                            51\n",
       "Vietnam                          50\n",
       "Portugal                         43\n",
       "Taiwan                           39\n",
       "Iran                             38\n",
       "Nicaragua                        28\n",
       "Peru                             25\n",
       "Greece                           25\n",
       "Ireland                          23\n",
       "Ecuador                          21\n",
       "France                           20\n",
       "Cambodia                         19\n",
       "Hong                             19\n",
       "Thailand                         15\n",
       "Outlying-US(Guam-USVI-etc)       15\n",
       "Trinadad&Tobago                  13\n",
       "Yugoslavia                       13\n",
       "Laos                             13\n",
       "Hungary                          12\n",
       "Honduras                         11\n",
       "Scotland                          9\n",
       "Holand-Netherlands                1\n",
       "Name: native-country, dtype: int64"
      ]
     },
     "execution_count": 471,
     "metadata": {},
     "output_type": "execute_result"
    }
   ],
   "source": [
    "train['native-country'].value_counts()"
   ]
  },
  {
   "cell_type": "code",
   "execution_count": 472,
   "metadata": {},
   "outputs": [],
   "source": [
    "train['native-country'] = train['native-country'].fillna('United-States')"
   ]
  },
  {
   "cell_type": "code",
   "execution_count": 473,
   "metadata": {},
   "outputs": [
    {
     "data": {
      "text/plain": [
       "0        United-States\n",
       "1        United-States\n",
       "2                Haiti\n",
       "3        United-States\n",
       "4        United-States\n",
       "             ...      \n",
       "29300      Puerto-Rico\n",
       "29301    United-States\n",
       "29302    United-States\n",
       "29303    United-States\n",
       "29304    United-States\n",
       "Name: native-country, Length: 29305, dtype: object"
      ]
     },
     "execution_count": 473,
     "metadata": {},
     "output_type": "execute_result"
    }
   ],
   "source": [
    "train['native-country']"
   ]
  },
  {
   "cell_type": "code",
   "execution_count": 486,
   "metadata": {},
   "outputs": [],
   "source": [
    "test['native-country'] = test['native-country'].fillna('United-States')"
   ]
  },
  {
   "cell_type": "code",
   "execution_count": null,
   "metadata": {},
   "outputs": [],
   "source": []
  },
  {
   "cell_type": "code",
   "execution_count": 487,
   "metadata": {},
   "outputs": [
    {
     "name": "stdout",
     "output_type": "stream",
     "text": [
      "x훈련 :  (29305, 15)\n",
      "y훈련 :  (29305, 1)\n",
      "테스트 :  (19537, 15)\n"
     ]
    }
   ],
   "source": [
    "X_train = train.iloc[  : , 0:15 ]\n",
    "y_train = train.iloc[ : , 15 :]\n",
    "X_test = test\n",
    "\n",
    "print('x훈련 : ',X_train.shape)\n",
    "print('y훈련 : ',y_train.shape)\n",
    "print('테스트 : ',X_test.shape)"
   ]
  },
  {
   "cell_type": "code",
   "execution_count": 488,
   "metadata": {},
   "outputs": [
    {
     "name": "stdout",
     "output_type": "stream",
     "text": [
      "x훈련 :  (29305, 15)\n",
      "y훈련 :  (29305, 1)\n",
      "테스트 :  (19537, 15)\n"
     ]
    }
   ],
   "source": [
    "X_train = train.iloc[  : , 0:15 ]\n",
    "y_train = train.iloc[ : , 15 :]\n",
    "X_test = test\n",
    "\n",
    "print('x훈련 : ',X_train.shape)\n",
    "print('y훈련 : ',y_train.shape)\n",
    "print('테스트 : ',X_test.shape)"
   ]
  },
  {
   "cell_type": "code",
   "execution_count": 489,
   "metadata": {},
   "outputs": [],
   "source": [
    "cat_filter = (X_train.dtypes != 'int64') & (X_train.dtypes != 'float64')\n",
    "cat_choice = X_train.columns[cat_filter]\n",
    "cat_choice"
   ]
  },
  {
   "cell_type": "code",
   "execution_count": 499,
   "metadata": {},
   "outputs": [],
   "source": [
    "for cat_name in cat_choice :\n",
    "    # 컬럼 1개 인코딩\n",
    "    dummy = pd.get_dummies(X_train[cat_name] , prefix=cat_name)\n",
    "    # 기존 X_train 추가(병합, concat)\n",
    "    X_train = pd.concat([X_train,dummy], axis = 1)\n",
    "    X_train.drop(cat_name, axis = 1 ,inplace = True)"
   ]
  },
  {
   "cell_type": "code",
   "execution_count": null,
   "metadata": {},
   "outputs": [],
   "source": []
  },
  {
   "cell_type": "code",
   "execution_count": 501,
   "metadata": {},
   "outputs": [
    {
     "name": "stdout",
     "output_type": "stream",
     "text": [
      "<class 'pandas.core.frame.DataFrame'>\n",
      "RangeIndex: 29305 entries, 0 to 29304\n",
      "Columns: 205 entries, no to native-country_Yugoslavia\n",
      "dtypes: int64(7), uint8(198)\n",
      "memory usage: 7.1 MB\n"
     ]
    }
   ],
   "source": [
    "X_train.info()"
   ]
  },
  {
   "cell_type": "code",
   "execution_count": 495,
   "metadata": {},
   "outputs": [],
   "source": [
    "# X_test 원핫 인코딩\n",
    "for cat_name in cat_choice :\n",
    "    # 컬럼 1개 인코딩\n",
    "    dummy = pd.get_dummies(X_test[cat_name] , prefix=cat_name)\n",
    "    # 기존 X_train 추가(병합, concat)\n",
    "    X_test = pd.concat([X_test,dummy], axis = 1)"
   ]
  },
  {
   "cell_type": "code",
   "execution_count": 496,
   "metadata": {},
   "outputs": [
    {
     "name": "stdout",
     "output_type": "stream",
     "text": [
      "<class 'pandas.core.frame.DataFrame'>\n",
      "RangeIndex: 29305 entries, 0 to 29304\n",
      "Columns: 205 entries, no to native-country_Yugoslavia\n",
      "dtypes: int64(7), uint8(198)\n",
      "memory usage: 7.1 MB\n"
     ]
    }
   ],
   "source": [
    "pd.get_dummies(X_train).info()"
   ]
  },
  {
   "cell_type": "code",
   "execution_count": 481,
   "metadata": {},
   "outputs": [
    {
     "data": {
      "text/plain": [
       "0        United-States\n",
       "1        United-States\n",
       "2                Haiti\n",
       "3        United-States\n",
       "4        United-States\n",
       "             ...      \n",
       "29300      Puerto-Rico\n",
       "29301    United-States\n",
       "29302    United-States\n",
       "29303    United-States\n",
       "29304    United-States\n",
       "Name: native-country, Length: 29305, dtype: object"
      ]
     },
     "execution_count": 481,
     "metadata": {},
     "output_type": "execute_result"
    }
   ],
   "source": [
    "X_train['native-country'] "
   ]
  },
  {
   "cell_type": "code",
   "execution_count": 482,
   "metadata": {},
   "outputs": [
    {
     "name": "stdout",
     "output_type": "stream",
     "text": [
      "<class 'pandas.core.frame.DataFrame'>\n",
      "RangeIndex: 19537 entries, 0 to 19536\n",
      "Data columns (total 15 columns):\n",
      " #   Column          Non-Null Count  Dtype \n",
      "---  ------          --------------  ----- \n",
      " 0   no              19537 non-null  int64 \n",
      " 1   age             19537 non-null  int64 \n",
      " 2   workclass       19537 non-null  object\n",
      " 3   fnlwgt          19537 non-null  int64 \n",
      " 4   education       19537 non-null  object\n",
      " 5   education-num   19537 non-null  int64 \n",
      " 6   marital-status  19537 non-null  object\n",
      " 7   occupation      19537 non-null  object\n",
      " 8   relationship    19537 non-null  object\n",
      " 9   race            19537 non-null  object\n",
      " 10  sex             19537 non-null  object\n",
      " 11  capital-gain    19537 non-null  int64 \n",
      " 12  capital-loss    19537 non-null  int64 \n",
      " 13  hours-per-week  19537 non-null  int64 \n",
      " 14  native-country  19175 non-null  object\n",
      "dtypes: int64(7), object(8)\n",
      "memory usage: 2.2+ MB\n"
     ]
    }
   ],
   "source": [
    "X_test.info()"
   ]
  },
  {
   "attachments": {},
   "cell_type": "markdown",
   "metadata": {},
   "source": [
    "\n",
    "\n"
   ]
  },
  {
   "cell_type": "code",
   "execution_count": 502,
   "metadata": {},
   "outputs": [],
   "source": [
    "from sklearn.tree import DecisionTreeClassifier\n",
    "from sklearn.model_selection import cross_val_score"
   ]
  },
  {
   "cell_type": "code",
   "execution_count": 503,
   "metadata": {},
   "outputs": [],
   "source": [
    "tree_model = DecisionTreeClassifier()\n"
   ]
  },
  {
   "cell_type": "code",
   "execution_count": 513,
   "metadata": {},
   "outputs": [
    {
     "data": {
      "text/html": [
       "<style>#sk-container-id-2 {color: black;background-color: white;}#sk-container-id-2 pre{padding: 0;}#sk-container-id-2 div.sk-toggleable {background-color: white;}#sk-container-id-2 label.sk-toggleable__label {cursor: pointer;display: block;width: 100%;margin-bottom: 0;padding: 0.3em;box-sizing: border-box;text-align: center;}#sk-container-id-2 label.sk-toggleable__label-arrow:before {content: \"▸\";float: left;margin-right: 0.25em;color: #696969;}#sk-container-id-2 label.sk-toggleable__label-arrow:hover:before {color: black;}#sk-container-id-2 div.sk-estimator:hover label.sk-toggleable__label-arrow:before {color: black;}#sk-container-id-2 div.sk-toggleable__content {max-height: 0;max-width: 0;overflow: hidden;text-align: left;background-color: #f0f8ff;}#sk-container-id-2 div.sk-toggleable__content pre {margin: 0.2em;color: black;border-radius: 0.25em;background-color: #f0f8ff;}#sk-container-id-2 input.sk-toggleable__control:checked~div.sk-toggleable__content {max-height: 200px;max-width: 100%;overflow: auto;}#sk-container-id-2 input.sk-toggleable__control:checked~label.sk-toggleable__label-arrow:before {content: \"▾\";}#sk-container-id-2 div.sk-estimator input.sk-toggleable__control:checked~label.sk-toggleable__label {background-color: #d4ebff;}#sk-container-id-2 div.sk-label input.sk-toggleable__control:checked~label.sk-toggleable__label {background-color: #d4ebff;}#sk-container-id-2 input.sk-hidden--visually {border: 0;clip: rect(1px 1px 1px 1px);clip: rect(1px, 1px, 1px, 1px);height: 1px;margin: -1px;overflow: hidden;padding: 0;position: absolute;width: 1px;}#sk-container-id-2 div.sk-estimator {font-family: monospace;background-color: #f0f8ff;border: 1px dotted black;border-radius: 0.25em;box-sizing: border-box;margin-bottom: 0.5em;}#sk-container-id-2 div.sk-estimator:hover {background-color: #d4ebff;}#sk-container-id-2 div.sk-parallel-item::after {content: \"\";width: 100%;border-bottom: 1px solid gray;flex-grow: 1;}#sk-container-id-2 div.sk-label:hover label.sk-toggleable__label {background-color: #d4ebff;}#sk-container-id-2 div.sk-serial::before {content: \"\";position: absolute;border-left: 1px solid gray;box-sizing: border-box;top: 0;bottom: 0;left: 50%;z-index: 0;}#sk-container-id-2 div.sk-serial {display: flex;flex-direction: column;align-items: center;background-color: white;padding-right: 0.2em;padding-left: 0.2em;position: relative;}#sk-container-id-2 div.sk-item {position: relative;z-index: 1;}#sk-container-id-2 div.sk-parallel {display: flex;align-items: stretch;justify-content: center;background-color: white;position: relative;}#sk-container-id-2 div.sk-item::before, #sk-container-id-2 div.sk-parallel-item::before {content: \"\";position: absolute;border-left: 1px solid gray;box-sizing: border-box;top: 0;bottom: 0;left: 50%;z-index: -1;}#sk-container-id-2 div.sk-parallel-item {display: flex;flex-direction: column;z-index: 1;position: relative;background-color: white;}#sk-container-id-2 div.sk-parallel-item:first-child::after {align-self: flex-end;width: 50%;}#sk-container-id-2 div.sk-parallel-item:last-child::after {align-self: flex-start;width: 50%;}#sk-container-id-2 div.sk-parallel-item:only-child::after {width: 0;}#sk-container-id-2 div.sk-dashed-wrapped {border: 1px dashed gray;margin: 0 0.4em 0.5em 0.4em;box-sizing: border-box;padding-bottom: 0.4em;background-color: white;}#sk-container-id-2 div.sk-label label {font-family: monospace;font-weight: bold;display: inline-block;line-height: 1.2em;}#sk-container-id-2 div.sk-label-container {text-align: center;}#sk-container-id-2 div.sk-container {/* jupyter's `normalize.less` sets `[hidden] { display: none; }` but bootstrap.min.css set `[hidden] { display: none !important; }` so we also need the `!important` here to be able to override the default hidden behavior on the sphinx rendered scikit-learn.org. See: https://github.com/scikit-learn/scikit-learn/issues/21755 */display: inline-block !important;position: relative;}#sk-container-id-2 div.sk-text-repr-fallback {display: none;}</style><div id=\"sk-container-id-2\" class=\"sk-top-container\"><div class=\"sk-text-repr-fallback\"><pre>DecisionTreeClassifier()</pre><b>In a Jupyter environment, please rerun this cell to show the HTML representation or trust the notebook. <br />On GitHub, the HTML representation is unable to render, please try loading this page with nbviewer.org.</b></div><div class=\"sk-container\" hidden><div class=\"sk-item\"><div class=\"sk-estimator sk-toggleable\"><input class=\"sk-toggleable__control sk-hidden--visually\" id=\"sk-estimator-id-2\" type=\"checkbox\" checked><label for=\"sk-estimator-id-2\" class=\"sk-toggleable__label sk-toggleable__label-arrow\">DecisionTreeClassifier</label><div class=\"sk-toggleable__content\"><pre>DecisionTreeClassifier()</pre></div></div></div></div></div>"
      ],
      "text/plain": [
       "DecisionTreeClassifier()"
      ]
     },
     "execution_count": 513,
     "metadata": {},
     "output_type": "execute_result"
    }
   ],
   "source": [
    "tree_model.fit(X_train,y_train)"
   ]
  },
  {
   "cell_type": "code",
   "execution_count": 511,
   "metadata": {},
   "outputs": [],
   "source": [
    "X_test['native-country_Holand-Netherlands'] = 0"
   ]
  },
  {
   "cell_type": "code",
   "execution_count": 512,
   "metadata": {},
   "outputs": [
    {
     "data": {
      "text/plain": [
       "Index(['no', 'age', 'fnlwgt', 'education-num', 'capital-gain', 'capital-loss',\n",
       "       'hours-per-week', 'workclass_Federal-gov', 'workclass_Local-gov',\n",
       "       'workclass_Never-worked',\n",
       "       ...\n",
       "       'native-country_Portugal', 'native-country_Puerto-Rico',\n",
       "       'native-country_Scotland', 'native-country_South',\n",
       "       'native-country_Taiwan', 'native-country_Thailand',\n",
       "       'native-country_Trinadad&Tobago', 'native-country_United-States',\n",
       "       'native-country_Vietnam', 'native-country_Yugoslavia'],\n",
       "      dtype='object', length=205)"
      ]
     },
     "execution_count": 512,
     "metadata": {},
     "output_type": "execute_result"
    }
   ],
   "source": [
    "X_test = X_test[X_train.columns]\n",
    "X_test.columns"
   ]
  },
  {
   "cell_type": "code",
   "execution_count": 514,
   "metadata": {},
   "outputs": [],
   "source": [
    "pre  = tree_model.predict(X_test)"
   ]
  },
  {
   "cell_type": "code",
   "execution_count": null,
   "metadata": {},
   "outputs": [],
   "source": [
    "# 평가 진행 > y_test는 Kaggle에 올려보기\n",
    "result = pd.read_csv('./sample_submission.csv')\n",
    "result['income'] = pre\n",
    "# csv형식으로 파일 저장\n",
    "\n",
    "result.to_csv('test.csv' , index=False)"
   ]
  },
  {
   "cell_type": "code",
   "execution_count": null,
   "metadata": {},
   "outputs": [],
   "source": []
  },
  {
   "cell_type": "code",
   "execution_count": null,
   "metadata": {},
   "outputs": [],
   "source": []
  }
 ],
 "metadata": {
  "kernelspec": {
   "display_name": "Python 3",
   "language": "python",
   "name": "python3"
  },
  "language_info": {
   "codemirror_mode": {
    "name": "ipython",
    "version": 3
   },
   "file_extension": ".py",
   "mimetype": "text/x-python",
   "name": "python",
   "nbconvert_exporter": "python",
   "pygments_lexer": "ipython3",
   "version": "3.11.2"
  },
  "orig_nbformat": 4
 },
 "nbformat": 4,
 "nbformat_minor": 2
}
