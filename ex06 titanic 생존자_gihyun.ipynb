{
 "cells": [
  {
   "attachments": {},
   "cell_type": "markdown",
   "metadata": {},
   "source": [
    "### 1.목표\n",
    "- 타이타닉 데이터를 학습해서 생존자/사망자를 예측해보자 -> 이진분류\n",
    "- 머신러닝 전체 과정을 이해해보자.\n",
    "\n",
    "#### 머신러닝 과정\n",
    "- 1. 문제 정의\n",
    "- 2. 데이터 수집\n",
    "- 3. 데이터 전처리\n",
    "- 4. 탐색적 데이터 분석 : 내용확인, 기술 통계량, 상관관계\n",
    "- 5. 머신러닝 모델 선택(하이퍼) 및 학습\n",
    "- 6. 모델 평가 및 예측\n",
    "- 7. 모델 서비스 "
   ]
  },
  {
   "attachments": {},
   "cell_type": "markdown",
   "metadata": {},
   "source": [
    "### 2.데이터 불러오기\n"
   ]
  },
  {
   "cell_type": "code",
   "execution_count": null,
   "metadata": {},
   "outputs": [],
   "source": [
    "# kaggle 에서 제공한 데이터 다운 받은 상태\n",
    "# train : 훈련용 데이터\n",
    "# test : 테스트용 데이터\n",
    "# submission : 답안지 파일\n",
    "\n",
    "# 환경 셋팅\n",
    "import numpy as np\n",
    "import pandas as pd\n",
    "import matplotlib.pyplot as plt\n",
    "import seaborn as sns\n",
    "import warnings\n",
    "warnings.filterwarnings(action=\"ignore\")"
   ]
  },
  {
   "attachments": {},
   "cell_type": "markdown",
   "metadata": {},
   "source": [
    "q1. 타이타닉 train 데이터와 test 데이터를 변수 train,test 저장하기\n",
    "(단, 인덱스는 승객번호를 사용할 것.)"
   ]
  },
  {
   "cell_type": "code",
   "execution_count": null,
   "metadata": {},
   "outputs": [],
   "source": [
    "# index_col : 컬럼이었던 값을 인덱스로 설정하는 키워드\n",
    "\n",
    "train = pd.read_csv(\"./data/train.csv\", index_col=\"PassengerId\")\n",
    "test = pd.read_csv(\"./data/test.csv\",index_col=\"PassengerId\")"
   ]
  },
  {
   "cell_type": "code",
   "execution_count": null,
   "metadata": {},
   "outputs": [],
   "source": [
    "# 크기 확인 하기\n",
    "print(train.shape)\n",
    "print(test.shape)"
   ]
  },
  {
   "cell_type": "code",
   "execution_count": null,
   "metadata": {},
   "outputs": [],
   "source": [
    "train.columns.unique()"
   ]
  },
  {
   "cell_type": "code",
   "execution_count": null,
   "metadata": {},
   "outputs": [],
   "source": [
    "test.columns.unique()"
   ]
  },
  {
   "attachments": {},
   "cell_type": "markdown",
   "metadata": {},
   "source": [
    "### 3.데이터 전처리 및 데이터 탐색\n",
    "#### 3.1 결측치 확인"
   ]
  },
  {
   "cell_type": "code",
   "execution_count": null,
   "metadata": {},
   "outputs": [],
   "source": [
    "# Survived : 생존 여부\n",
    "# Pclass : 승객 등급 (1~3 1이 상위층)\n",
    "# Name : 이름\n",
    "# Sex : 성별\n",
    "# Age : 나이\n",
    "# SibSp : 형제자매/ 배우자 수\n",
    "# Parch : 부모/ 자식 수\n",
    "# Ticket : 티켓 정보\n",
    "# Fare : 요금 정보\n",
    "# Cabin : 객실\n",
    "# Embarked : 승선항 (S,C,Q)"
   ]
  },
  {
   "cell_type": "code",
   "execution_count": null,
   "metadata": {},
   "outputs": [],
   "source": [
    "train.info() \n",
    "#3개 컬럼 결측치가 있다."
   ]
  },
  {
   "cell_type": "code",
   "execution_count": null,
   "metadata": {},
   "outputs": [],
   "source": [
    "test.info()"
   ]
  },
  {
   "cell_type": "code",
   "execution_count": null,
   "metadata": {},
   "outputs": [],
   "source": [
    "# 결측치 확인\n",
    "# axis = 0 => 행의 방향\n",
    "train.isnull().sum()\n",
    "\n",
    "# age, cabin, embarked 결측치 존재."
   ]
  },
  {
   "cell_type": "code",
   "execution_count": null,
   "metadata": {},
   "outputs": [],
   "source": [
    "test.isnull().sum()\n",
    "# Age, Cabin , Fare  결측치 존재"
   ]
  },
  {
   "cell_type": "code",
   "execution_count": null,
   "metadata": {},
   "outputs": [],
   "source": [
    "# train 결측치 존재 및 컬럼당 결측치 개수 확인\n",
    "# null 이 존재하는 컬럼 뽑기\n",
    "# any(): 각 열에 True 요소가 하나 이상 포함 되어 있는지 여부확인\n",
    "null_col = train.columns[train.isnull().any()]\n",
    "\n",
    "# 불리언 인덱싱\n",
    "\n",
    "\n",
    "# 개수까지 확인하고 싶을 때\n",
    "train[null_col].isnull().sum()\n"
   ]
  },
  {
   "cell_type": "code",
   "execution_count": null,
   "metadata": {},
   "outputs": [],
   "source": [
    "test_col = test.columns[test.isnull().any()]\n",
    "\n",
    "# 불리언 인덱싱\n",
    "\n",
    "\n",
    "# 개수까지 확인하고 싶을 때\n",
    "test[test_col].isnull().sum()"
   ]
  },
  {
   "attachments": {},
   "cell_type": "markdown",
   "metadata": {},
   "source": [
    "#### 3.2 Embarked 컬럼 결측치 채우기\n"
   ]
  },
  {
   "cell_type": "code",
   "execution_count": null,
   "metadata": {},
   "outputs": [],
   "source": [
    "# 단순하게 최빈값, 평균 값, 중앙값\n",
    "# 특성의 상관 관계를 확인하고 그걸 기반으로 기술 통계량 확인 후 채움\n",
    "# 실제 데이터를 찾기 위해서 인터넷 상에서 조사\n",
    "# train, Embarked 결측치 행 확인 하기\n",
    "train[train['Embarked'].isnull()]\n"
   ]
  },
  {
   "cell_type": "code",
   "execution_count": null,
   "metadata": {},
   "outputs": [],
   "source": [
    "# train 데이터 기준으로 데이터 살피기\n",
    "# 학습에 도움이 되는 데이터 : train\n",
    "# train 데이터 기준으로 결측치 처리해야한다.\n",
    "train['Embarked'].value_counts() #s"
   ]
  },
  {
   "cell_type": "code",
   "execution_count": null,
   "metadata": {},
   "outputs": [],
   "source": [
    "# 결측치 존재하는 모든 행에 'S'로 채우기\n",
    "# 결측치가 있다면 해당 value 값으로 채우기\n",
    "\n",
    "train['Embarked'] = train['Embarked'].fillna(\"S\")\n",
    "train[train['Embarked'].isnull()] # 처리 확인용"
   ]
  },
  {
   "attachments": {},
   "cell_type": "markdown",
   "metadata": {},
   "source": [
    "#### 3.3 Fare 채우기\n",
    "- test 데이터의 fare 1개의 결측치 존재\n",
    "  "
   ]
  },
  {
   "cell_type": "code",
   "execution_count": null,
   "metadata": {},
   "outputs": [],
   "source": [
    "# 요금 컬럼 기술 통계량 확인해보기\n",
    "\n",
    "train['Fare'].describe()\n",
    "\n",
    "# 평균과 중앙값 중에 요금 데이터의 대표성을 가지고 있는 건 중앙 값\n",
    "# median\n"
   ]
  },
  {
   "cell_type": "code",
   "execution_count": null,
   "metadata": {},
   "outputs": [],
   "source": [
    "# 생존/사망에 영향을 줬을 것 같은 다른 컬럼을 확인해보기\n",
    "# 상관 관계 확인\n",
    "\n",
    "# -1 ~1 : -1,1에 가까울 수록 상관 관계가 높다.\n",
    "# 0 : 0에 가까울 수록 비교적 상관 관계가 낮음\n",
    "train.corr()['Survived'].abs().sort_values(ascending=False)\n",
    "\n",
    "# Pclass 컬럼이 비교적 상관관계가 높음을 확인"
   ]
  },
  {
   "cell_type": "code",
   "execution_count": null,
   "metadata": {},
   "outputs": [],
   "source": [
    "# 상관관계 시각화 >> 히트맵 그래프 그려보기\n",
    "plt.figure(figsize=(10,8))\n",
    "sns.heatmap(train.corr(),annot=True, cmap='coolwarm')\n",
    "plt.show()"
   ]
  },
  {
   "cell_type": "code",
   "execution_count": null,
   "metadata": {},
   "outputs": [],
   "source": [
    "# test-fare 결측치 존재하는 행 확인\n",
    "test[test['Fare'].isnull()]"
   ]
  },
  {
   "cell_type": "code",
   "execution_count": null,
   "metadata": {},
   "outputs": [],
   "source": [
    "# 상관 관계는 수치 값으로 이루어진 컬럼에 대해서만 적용\n",
    "# 문자열 형태로 되어 있는 컬럼도 연관시켜보자\n",
    "# 성별 데이터를 연관 시켜보자.\n",
    "# Pclass, Sex, Fare\n",
    "# 1 - 여성 - 요금 중앙값\n",
    "# 1 - 남성 - 요금 중앙값\n",
    "# 3 - 여성\n",
    "train[['Pclass','Sex','Fare']].groupby(['Pclass','Sex']).median()"
   ]
  },
  {
   "cell_type": "code",
   "execution_count": null,
   "metadata": {},
   "outputs": [],
   "source": [
    "test['Fare'] = test['Fare'].fillna(7.92500)"
   ]
  },
  {
   "cell_type": "code",
   "execution_count": null,
   "metadata": {},
   "outputs": [],
   "source": [
    "test.info()"
   ]
  },
  {
   "attachments": {},
   "cell_type": "markdown",
   "metadata": {},
   "source": [
    "#### 3.4 Age 결측치 채우기\n",
    "- 단순 기술 통계치로 채우지 않고 다른 컬럼과의 상관관계를 이용하여 결측치를 채워보자\n",
    "- 생존 / 사망과 상관이 높은 컬럼 : Pclass\n",
    "- 범주형 데이터 중에서도 생존/사망 어느 정도 영향을 주는 컬럼 : Sex\n",
    "  "
   ]
  },
  {
   "cell_type": "code",
   "execution_count": null,
   "metadata": {},
   "outputs": [],
   "source": [
    "# 승객의 등급, 성별을 묶어서 나이의 평균값을 확인하기\n",
    "\n",
    "gb1 = train[['Pclass','Sex','Age']].groupby([\"Pclass\",\"Sex\"]).mean()\n",
    "gb1"
   ]
  },
  {
   "cell_type": "code",
   "execution_count": null,
   "metadata": {},
   "outputs": [],
   "source": [
    "# 3등급, male인 사람의 나이 평균 접근해보기\n",
    "# 중복 인덱스, 멀티인덱스\n",
    "\n",
    "gb1.loc[(3,'male')]\n",
    "\n",
    "# 1등급, female 접근하기\n",
    "gb1.loc[(1,'female')]"
   ]
  },
  {
   "cell_type": "code",
   "execution_count": null,
   "metadata": {},
   "outputs": [],
   "source": [
    "# train Age 결츶치 행 확인\n",
    "train[train['Age'].isnull()]\n",
    "test[test['Age'].isnull()]\n",
    "\n"
   ]
  },
  {
   "cell_type": "code",
   "execution_count": null,
   "metadata": {},
   "outputs": [],
   "source": [
    "# null인지 확인 하는 함수\n",
    "a = np.array([1,2,np.nan])\n",
    "np.isnan(a)\n",
    "# pd.isnull(a)\n"
   ]
  },
  {
   "cell_type": "code",
   "execution_count": null,
   "metadata": {},
   "outputs": [],
   "source": [
    "# pd.apply() : 사용자가 정의한 복잡한 기능을 하는 함수를 판다스 객체에 적용할 때 사용하는 함수\n",
    "def test_print(data):\n",
    "    print(data[\"Age\"])\n",
    "    \n",
    "# 행 방향으로 진행\n",
    "train[['Pclass','Age']].apply(test_print, axis=1)"
   ]
  },
  {
   "cell_type": "code",
   "execution_count": null,
   "metadata": {},
   "outputs": [],
   "source": [
    "# 나이 결측치 채워주는 자동화 코드 생성하기\n",
    "def fill_age(row):\n",
    "    # 만약 나이가 결측치 라면 gb1에서 나이 평균 값을 가져와보자\n",
    "    # 아니면 원래 나이 값을 사용하기\n",
    "    # 1인 데이터를 확인하려면 행단위 처리, 열방향으로 데이터 확인\n",
    "    if np.isnan(row['Age']):\n",
    "        age = gb1.loc[(row['Pclass'],row['Sex'])]\n",
    "        return age\n",
    "    else:\n",
    "        return row['Age']\n",
    "    \n"
   ]
  },
  {
   "cell_type": "code",
   "execution_count": null,
   "metadata": {},
   "outputs": [],
   "source": [
    "train['Age'] = train.apply(fill_age, axis=1).astype('int64')\n",
    "#train.info()\n",
    "train['Age'].isnull().sum()"
   ]
  },
  {
   "cell_type": "code",
   "execution_count": null,
   "metadata": {},
   "outputs": [],
   "source": [
    "#test age 결측치 채우기\n",
    "\n",
    "test['Age'] = test.apply(fill_age, axis=1).astype('int64')\n",
    "\n",
    "# 결측치 확인\n",
    "#test.info()\n",
    "test['Age'].isnull().sum()"
   ]
  },
  {
   "attachments": {},
   "cell_type": "markdown",
   "metadata": {},
   "source": [
    "#### 3.5 Cabin 결측치 채우기"
   ]
  },
  {
   "cell_type": "code",
   "execution_count": null,
   "metadata": {},
   "outputs": [],
   "source": [
    "# 요소 데이터 확인해보기\n",
    "train['Cabin'].unique()\n",
    "\n",
    "# nan 값을 임의의 알파벳으로 채우기\n",
    "\n",
    "train['Deck'] = train['Cabin'].fillna(\"M\")\n",
    "test['Deck'] = test['Cabin'].fillna(\"M\")"
   ]
  },
  {
   "cell_type": "code",
   "execution_count": null,
   "metadata": {},
   "outputs": [],
   "source": [
    "# 알파벳만 추출하기, 문자열의 인덱스 번호 0 번째\n",
    "train[\"Deck\"]=train[\"Deck\"].str[0]\n",
    "test[\"Deck\"]=test[\"Deck\"].str[0]"
   ]
  },
  {
   "cell_type": "code",
   "execution_count": null,
   "metadata": {},
   "outputs": [],
   "source": [
    "#Cabin 컬럼은 삭제 train, test\n",
    "\n",
    "train.drop(\"Cabin\", axis=1, inplace=True)\n",
    "test.drop(\"Cabin\", axis=1, inplace=True)"
   ]
  },
  {
   "cell_type": "code",
   "execution_count": null,
   "metadata": {},
   "outputs": [],
   "source": [
    "train.info()\n",
    "test.info()"
   ]
  },
  {
   "attachments": {},
   "cell_type": "markdown",
   "metadata": {},
   "source": [
    "#### 3.6 데이터 탐색\n",
    "- train데이터를 기준으로 탐색함\n",
    "- test를 탐색하는 것은 모델의 일반화에 도움이 x\n",
    "  "
   ]
  },
  {
   "attachments": {},
   "cell_type": "markdown",
   "metadata": {},
   "source": [
    "#### 3.7 범주형 데이터 살펴보기\n",
    "##### Deck 시각화"
   ]
  },
  {
   "cell_type": "code",
   "execution_count": null,
   "metadata": {},
   "outputs": [],
   "source": [
    "# M에 대한 의미를 살펴보기.\n",
    "# Deck 기준으로 생존/사망한 사람의 숫자 세어보기\n",
    "# \"Name\" 사람의 수를 체크하기 위해서 사용\n",
    "train_deck = train[['Deck','Survived','Name']].groupby(['Deck','Survived']).count()\n",
    "train_deck\n",
    "\n",
    "# 0 사망 , 1 생존\n",
    "\n",
    "# M에서는 사망한 사람도 많고, 생존한 사람도 많지만 상대적으로 사망한 사람이 더 많다\n",
    "# M이라는 값은 생존/사망 나름대로 영향을 주지 않았을까?\n"
   ]
  },
  {
   "cell_type": "code",
   "execution_count": null,
   "metadata": {},
   "outputs": [],
   "source": [
    "# 시각화\n",
    "plt.figure(figsize=(10,6))\n",
    "sns.countplot(data = train, x='Deck', hue='Survived')\n",
    "plt.show()"
   ]
  },
  {
   "attachments": {},
   "cell_type": "markdown",
   "metadata": {},
   "source": [
    "##### Pclass 시각화"
   ]
  },
  {
   "cell_type": "code",
   "execution_count": null,
   "metadata": {},
   "outputs": [],
   "source": [
    "sns.countplot(data=train, x='Pclass', hue = 'Survived')\n",
    "plt.show()\n",
    "\n",
    "# 3등급 하위계층 사람들이 많이 사망함"
   ]
  },
  {
   "attachments": {},
   "cell_type": "markdown",
   "metadata": {},
   "source": [
    "##### Pclass과 Deck 클래스 시각화"
   ]
  },
  {
   "cell_type": "code",
   "execution_count": null,
   "metadata": {},
   "outputs": [],
   "source": [
    "sns.countplot(data = train, x='Deck', hue=\"Pclass\")\n",
    "plt.show()\n",
    "\n",
    "# M위치에는 3등급에 대한 사람이 많다."
   ]
  },
  {
   "cell_type": "code",
   "execution_count": null,
   "metadata": {},
   "outputs": [],
   "source": [
    "# M에 대한 의미를 살펴보니 3등급의 사람들이 많이 포함되어 있어서 사망률이 높게 나옴\n",
    "# M 자체에는 생존/사망 결정하는 큰 요소가 없음\n",
    "# M에 대한 의미를 더 파악해볼 필요가 없다, 전처리 필요 x"
   ]
  },
  {
   "attachments": {},
   "cell_type": "markdown",
   "metadata": {},
   "source": [
    "q2. 성별에 따른 생존, 사망 시각화 // 승선항에 따른 생존, 사망 시각화"
   ]
  },
  {
   "cell_type": "code",
   "execution_count": null,
   "metadata": {},
   "outputs": [],
   "source": [
    "# 성별에 따른 생존자, 사망자 시각화\n",
    "sns.countplot(data=train, x='Sex', hue='Survived')\n",
    "plt.show()\n",
    "\n",
    "# 여성은 상대적으로 생존 비율이 높음\n",
    "# 남성은 상대적으로 사망 비율이 높음"
   ]
  },
  {
   "cell_type": "code",
   "execution_count": null,
   "metadata": {},
   "outputs": [],
   "source": [
    "# 승선항에 따른 생존자, 사망자 시각화\n",
    "sns.countplot(data=train, x='Embarked', hue='Survived')\n",
    "plt.show()"
   ]
  },
  {
   "attachments": {},
   "cell_type": "markdown",
   "metadata": {},
   "source": [
    "#### 3.8 수치형 데이터 살펴보기\n",
    "##### Age 시각화 - 성별 데이터도 연결 생존/사망 확인"
   ]
  },
  {
   "cell_type": "code",
   "execution_count": null,
   "metadata": {},
   "outputs": [],
   "source": [
    "# violinplot(): 바이올린 모양과 비슷, 데이터의 분포를 확인할 때 사용하는 그래프\n",
    "# y =age , x= sex 분포 : Survived\n",
    "plt.figure(figsize=(15,5))\n",
    "sns.violinplot(data = train, x='Sex',y='Age', hue ='Survived', split=True)\n",
    "plt.ylim(0,85) # y축 범위 제한\n",
    "plt.show()"
   ]
  },
  {
   "cell_type": "code",
   "execution_count": null,
   "metadata": {},
   "outputs": [],
   "source": [
    "# 어린 아이들의 생존율은?\n",
    "# 상대적으로 남자 아이가 여자 아이에 비해서 많이 살았다."
   ]
  },
  {
   "cell_type": "markdown",
   "metadata": {},
   "source": [
    "##### Fare 시각화 - 성별 데이터도 연결 생존/사망 확인"
   ]
  },
  {
   "cell_type": "code",
   "execution_count": null,
   "metadata": {},
   "outputs": [],
   "source": [
    "# violinplot(): 바이올린 모양과 비슷, 데이터의 분포를 확인할 때 사용하는 그래프\n",
    "# y =age , x= sex 분포 : Survived\n",
    "plt.figure(figsize=(15,5))\n",
    "sns.violinplot(data = train, x='Sex',y='Fare', hue ='Survived', split=True)\n",
    "plt.ylim(0,530) # y축 범위 제한\n",
    "plt.show()\n",
    "\n",
    "# 요금이 낮은 사람은 상대적으로 많이 사망함"
   ]
  },
  {
   "attachments": {},
   "cell_type": "markdown",
   "metadata": {},
   "source": [
    "#### 3.9 Parch, SibSp -부모자식, 형제 배우자수\n",
    "- 특성공학 : 가족의 수라는 컬럼 생성(Parents + Sibsp+1)\n",
    "- train에 적용했으면, test에도 적용한다."
   ]
  },
  {
   "cell_type": "code",
   "execution_count": null,
   "metadata": {},
   "outputs": [],
   "source": [
    "# 배열 연산\n",
    "train['Family_Size'] = train['Parch'] + train['SibSp'] +1\n",
    "test['Family_Size'] = test['Parch'] + test['SibSp'] +1"
   ]
  },
  {
   "cell_type": "code",
   "execution_count": null,
   "metadata": {},
   "outputs": [],
   "source": [
    "# 시각화 연결하기\n",
    "# 가족의 수에 따른 생존/사망 확인\n",
    "train['Family_Size'].value_counts()\n",
    "\n",
    "sns.countplot(data = train, x='Family_Size', hue=\"Survived\")\n",
    "plt.show()"
   ]
  },
  {
   "cell_type": "code",
   "execution_count": null,
   "metadata": {},
   "outputs": [],
   "source": [
    "# 3개의 범주로 좁힐 수 있음.\n",
    "# 같은 의미를 내포한다면 범위(카테고리) 를 줄여보자 \n",
    "# => binning(사소한 관찰의 오류를 줄일 수 있다.)\n",
    "\n",
    "# 1명일때는 사망비율이 높다\n",
    "# 2~4일때는 생존 비율이 높음\n",
    "# 5명 ~이상일 때는 사망비율이 높다."
   ]
  },
  {
   "cell_type": "code",
   "execution_count": null,
   "metadata": {},
   "outputs": [],
   "source": [
    "# pd.cut : 카테고리(범주)형식으로 데이터 정리할 때 사용하는 기능\n",
    "# 데이터 구간화\n",
    "# Alone, Small,Large 3개 범주 (구간 ) 설정\n",
    "\n",
    "bins = [0,1,4,11] # 앞에 있는 숫자값을 포함 x 뒤에 있는 숫자 값을 포함한다.\n",
    "labels = [\"Alone\", \"Small\", \"Large\"]\n",
    "train['Family_group'] = pd.cut(train['Family_Size'], bins=bins, labels=labels)\n",
    "test['Family_group'] = pd.cut(test['Family_Size'], bins=bins, labels=labels)"
   ]
  },
  {
   "cell_type": "code",
   "execution_count": null,
   "metadata": {},
   "outputs": [],
   "source": [
    "train['Family_group'].head()"
   ]
  },
  {
   "cell_type": "code",
   "execution_count": null,
   "metadata": {},
   "outputs": [],
   "source": [
    "# 시각화 연결하기\n",
    "train['Family_group'].value_counts()\n",
    "\n",
    "sns.countplot(data = train, x='Family_group', hue=\"Survived\")\n",
    "plt.show()"
   ]
  },
  {
   "attachments": {},
   "cell_type": "markdown",
   "metadata": {},
   "source": [
    "#### 3.10 Text 데이터 다루기\n",
    "##### 중간 호칭 추출해보기"
   ]
  },
  {
   "cell_type": "code",
   "execution_count": null,
   "metadata": {},
   "outputs": [],
   "source": [
    "# 이름 컬럼 접근해서 내용 확인\n",
    "# train 기준으로 탐색\n",
    "# strip() -> 문장 앞뒤로 공백을 제거하는 함수\n",
    "# lstrip() -> 문장 왼쪽 공백 제거하는 함수\n",
    "# rstrip() -> 문장 오른쪽 공백 제거하는 함수\n",
    "\n",
    "temp = train['Name'][1].split(\",\")[1].split(\".\")[0].strip()\n",
    "temp\n"
   ]
  },
  {
   "cell_type": "code",
   "execution_count": null,
   "metadata": {},
   "outputs": [],
   "source": [
    "# 호칭 추출하는 함수 정의하기 (사용자 정의 함수)\n",
    "\n",
    "def split_title(row):\n",
    "    return row.split(\",\")[1].split(\".\")[0].strip()\n",
    "\n",
    "# apply \n",
    "# 데이터 1차원 -> 방향 적용 필요 x\n",
    "train['Title'] = train['Name'].apply(split_title)\n",
    "test['Title'] = test['Name'].apply(split_title)\n",
    "train['Title']"
   ]
  },
  {
   "cell_type": "code",
   "execution_count": null,
   "metadata": {},
   "outputs": [],
   "source": [
    "train['Title'].value_counts()"
   ]
  },
  {
   "cell_type": "code",
   "execution_count": null,
   "metadata": {},
   "outputs": [],
   "source": [
    "# Title 카테고리 중복 없이 확인해보기\n",
    "train['Title'].unique()\n",
    "\n",
    "# Mr 미스터 : 남성, 결혼 유무 상관 없음\n",
    "# Master : 결혼하지 않은 남성, 주로 청소년 이하\n",
    "# Ms 미즈 : 여성, 결혼 유무에 상관 없다.\n",
    "# Miss : 결혼하지 않은 여성\n",
    "# Mrs : 결혼한 여성\n",
    "# Don : 기부자\n",
    "# Rev : 목사\n",
    "# Dr : 의사 or 박사"
   ]
  },
  {
   "cell_type": "code",
   "execution_count": null,
   "metadata": {},
   "outputs": [],
   "source": [
    "# 호칭에 따른 생존/사망 그래프 시각화\n",
    "plt.figure(figsize=(15,5))\n",
    "sns.countplot(data= train, x='Title',hue='Survived')\n",
    "plt.ylim(0,15)\n",
    "plt.show()"
   ]
  },
  {
   "cell_type": "code",
   "execution_count": null,
   "metadata": {},
   "outputs": [],
   "source": [
    "# Mr, Mrs, Miss, Master, Rev, Other(앞의 5개 제외한 나머지)\n",
    "\n",
    "title = ['Mr', 'Mrs', 'Miss', 'Master','Rev','Don', 'Dr', 'Mme', 'Ms',\n",
    "       'Major', 'Lady', 'Sir', 'Mlle', 'Col', 'Capt', 'the Countess',\n",
    "       'Jonkheer']\n",
    "cvt_title = ['Mr', 'Mrs', 'Miss', 'Master','Rev'] +['Other']*12\n",
    "cvt_title\n"
   ]
  },
  {
   "cell_type": "code",
   "execution_count": null,
   "metadata": {},
   "outputs": [],
   "source": [
    "# dict\n",
    "title_dict = dict(zip(title,cvt_title))\n",
    "train['Title'] = train['Title'].map(title_dict)"
   ]
  },
  {
   "cell_type": "code",
   "execution_count": null,
   "metadata": {},
   "outputs": [],
   "source": [
    "# test- dona 키값이 들어가 져 있어서 title_dict에 추가\n",
    "title_dict['Dona'] = \"Other\""
   ]
  },
  {
   "cell_type": "code",
   "execution_count": null,
   "metadata": {},
   "outputs": [],
   "source": [
    "# test 데이터 확인\n",
    "test['Title'].unique()"
   ]
  },
  {
   "cell_type": "code",
   "execution_count": null,
   "metadata": {},
   "outputs": [],
   "source": [
    "test['Title'] = test['Title'].map(title_dict)\n",
    "test['Title'].unique()"
   ]
  },
  {
   "cell_type": "code",
   "execution_count": null,
   "metadata": {},
   "outputs": [],
   "source": [
    "test['Title'].isnull()"
   ]
  },
  {
   "attachments": {},
   "cell_type": "markdown",
   "metadata": {},
   "source": [
    "#### 3.11 불필요한 컬럼 삭제\n",
    "- drop, 버리기!\n",
    "- 전처리에서 제외된 컬럼과 특성 공학후 불필요해진 원본 컬럼 삭제"
   ]
  },
  {
   "cell_type": "code",
   "execution_count": null,
   "metadata": {},
   "outputs": [],
   "source": [
    "train.columns\n",
    "\n",
    "# name, family_size, ticket 삭제\n",
    "\n",
    "# train.drop(\"Name\", axis=1, inplace=True)\n",
    "train.drop(\"Family_Size\", axis=1, inplace=True)\n",
    "train.drop(\"Ticket\", axis=1, inplace=True)"
   ]
  },
  {
   "cell_type": "code",
   "execution_count": null,
   "metadata": {},
   "outputs": [],
   "source": [
    "test.drop(\"Name\", axis=1, inplace=True)\n",
    "test.drop(\"Family_Size\", axis=1, inplace=True)\n",
    "test.drop(\"Ticket\", axis=1, inplace=True)"
   ]
  },
  {
   "cell_type": "code",
   "execution_count": null,
   "metadata": {},
   "outputs": [],
   "source": [
    "train.info()\n",
    "test.info()"
   ]
  },
  {
   "attachments": {},
   "cell_type": "markdown",
   "metadata": {},
   "source": [
    "#### 3.12 문제 답 데이터 분리"
   ]
  },
  {
   "cell_type": "code",
   "execution_count": null,
   "metadata": {},
   "outputs": [],
   "source": [
    "# X_train = train.loc[:,\"Pclass\":] #생존/사망 여부 제외한 나머지 컬럼\n",
    "y_train = train.iloc[:,0] # 생존 사망 여부 컬럼 1개 \n",
    "X_test = test\n",
    "\n",
    "X_train = train.drop([\"Survived\",\"Name\"],axis=1)\n",
    "#y_train = train.loc[:,\"Survived\"] # 생존 사망 여부 컬럼 1개 \n",
    "#X_test = test"
   ]
  },
  {
   "cell_type": "code",
   "execution_count": null,
   "metadata": {},
   "outputs": [],
   "source": [
    "print(\"훈련용 데이터 : \" ,X_train.shape, y_train.shape)\n",
    "print(\"테스트용 데이터 :\" ,X_test.shape)"
   ]
  },
  {
   "attachments": {},
   "cell_type": "markdown",
   "metadata": {},
   "source": [
    "#### 특성 선택 인코딩\n",
    "- 범주형 데이터 인코딩\n",
    "- 전체 컬럼 모두 활용해서 학습으로 연결"
   ]
  },
  {
   "cell_type": "code",
   "execution_count": null,
   "metadata": {},
   "outputs": [],
   "source": [
    "X_train.info()\n",
    "y_train.info()\n",
    "X_test.info()"
   ]
  },
  {
   "cell_type": "code",
   "execution_count": null,
   "metadata": {},
   "outputs": [],
   "source": [
    "# 인코딩 해야하는 컬럼 찾기\n",
    "cal_filter = (X_train.dtypes != 'int64') & (X_train.dtypes != 'float64')\n",
    "cal_choice = X_train.columns[cal_filter]\n",
    "cal_choice"
   ]
  },
  {
   "cell_type": "code",
   "execution_count": null,
   "metadata": {},
   "outputs": [],
   "source": [
    "# X_train 인코딩\n",
    "\n",
    "for cat_name in cal_choice:\n",
    "    # 컬럼 1개 인코딩\n",
    "    dummy = pd.get_dummies(train[cat_name], prefix=cat_name) \n",
    "    \n",
    "    # 기존 X_train추가 (병합)\n",
    "    # concat은 기본적으로 행방향으로 진행\n",
    "    # 열방향으로 지정해주기\n",
    "    X_train = pd.concat([X_train, dummy], axis=1)\n",
    "    \n",
    "    # 기존 컬럼 삭제\n",
    "    X_train.drop(cat_name, axis=1, inplace=True)"
   ]
  },
  {
   "cell_type": "code",
   "execution_count": null,
   "metadata": {},
   "outputs": [],
   "source": [
    "X_train.info()"
   ]
  },
  {
   "cell_type": "code",
   "execution_count": null,
   "metadata": {},
   "outputs": [],
   "source": [
    "# X_test 인코딩\n",
    "\n",
    "for cat_name in cal_choice:\n",
    "    # 컬럼 1개 인코딩\n",
    "    dummy = pd.get_dummies(test[cat_name], prefix=cat_name) \n",
    "    \n",
    "    # 기존 X_train추가 (병합)\n",
    "    # concat은 기본적으로 행방향으로 진행\n",
    "    # 열방향으로 지정해주기\n",
    "    X_test = pd.concat([X_test, dummy], axis=1)\n",
    "    \n",
    "    # 기존 컬럼 삭제\n",
    "    X_test.drop(cat_name, axis=1, inplace=True)"
   ]
  },
  {
   "cell_type": "code",
   "execution_count": null,
   "metadata": {},
   "outputs": [],
   "source": [
    "X_test.info()"
   ]
  },
  {
   "attachments": {},
   "cell_type": "markdown",
   "metadata": {},
   "source": [
    "#### 특성 개수 맞추기\n",
    "- set: 집합 자료형\n",
    "- 특징 : 중복허용 x, 순서x\n",
    "- 중복을 허용하지 않은 set의 특징 덕분에 종종 데이터의 중복을 제거하기 위한 필터 역할\n",
    "- set활요하다가 정렬, 인덱스 접근으로 활용하고 싶으면, tuple,list형으로 변환해서 사용"
   ]
  },
  {
   "cell_type": "code",
   "execution_count": null,
   "metadata": {},
   "outputs": [],
   "source": [
    "set(X_train.columns)-set(X_test.columns)"
   ]
  },
  {
   "cell_type": "code",
   "execution_count": null,
   "metadata": {},
   "outputs": [],
   "source": [
    "# Dect_T 컬럼 X_test에 추가하기\n",
    "\n",
    "X_test[\"Deck_T\"] = 0"
   ]
  },
  {
   "cell_type": "code",
   "execution_count": null,
   "metadata": {},
   "outputs": [],
   "source": [
    "X_test.info()"
   ]
  },
  {
   "cell_type": "code",
   "execution_count": null,
   "metadata": {},
   "outputs": [],
   "source": [
    "# X_train 컬럼 순서에 X_test 순서도 맞추기\n",
    "\n",
    "X_test = X_test[X_train.columns]"
   ]
  },
  {
   "attachments": {},
   "cell_type": "markdown",
   "metadata": {},
   "source": [
    "### 4.모델 선택 및 학습"
   ]
  },
  {
   "cell_type": "code",
   "execution_count": null,
   "metadata": {},
   "outputs": [],
   "source": [
    "from sklearn.tree import DecisionTreeClassifier # tree분류\n",
    "from sklearn.model_selection import cross_val_score # 교차 검증 도구"
   ]
  },
  {
   "attachments": {},
   "cell_type": "markdown",
   "metadata": {},
   "source": [
    "#### 1.tree model1"
   ]
  },
  {
   "cell_type": "code",
   "execution_count": null,
   "metadata": {},
   "outputs": [],
   "source": [
    "tree_model = DecisionTreeClassifier() # 객체 생성\n",
    "\n",
    "# 학습 \n",
    "tree_model.fit(X_train,y_train) # 지도학습 - 분류\n",
    "\n",
    "# 예측\n",
    "pre = tree_model.predict(X_test)\n"
   ]
  },
  {
   "cell_type": "code",
   "execution_count": null,
   "metadata": {},
   "outputs": [],
   "source": [
    "result = pd.read_csv(\"./data/gender_submission.csv\")\n",
    "result['Survived'] = pre\n",
    "result"
   ]
  },
  {
   "cell_type": "code",
   "execution_count": null,
   "metadata": {},
   "outputs": [],
   "source": [
    "result.to_csv(\"kkh_sumbission01.csv\", index=False)"
   ]
  },
  {
   "cell_type": "code",
   "execution_count": null,
   "metadata": {},
   "outputs": [],
   "source": [
    "# 모델의 성능이 생각보다 떨어진다.\n",
    "# 1. 데이터 측면에서 노력 > 데이터 수정, 전처리, 데이터 수집, 데이터 탐색\n",
    "# 2. 모델 측면에서 노력 > 하이퍼 파라미터 제어(튜닝)"
   ]
  },
  {
   "attachments": {},
   "cell_type": "markdown",
   "metadata": {},
   "source": [
    "#### Tree Model - 하이퍼 파라미터 조정"
   ]
  },
  {
   "cell_type": "code",
   "execution_count": null,
   "metadata": {},
   "outputs": [],
   "source": [
    "tree_model2 = DecisionTreeClassifier(max_depth=4)\n",
    "\n",
    "# 교차 검증 -> 모델 객체 생성하고 어느정도의 성능을 내는 모델인지 확인할 때 사용\n",
    "\n",
    "tree_model2.fit(X_train,y_train)\n",
    "cross_result = cross_val_score(tree_model2, X_train, y_train, cv=5)\n",
    "print(cross_result)\n",
    "print(cross_result.mean())"
   ]
  },
  {
   "cell_type": "code",
   "execution_count": null,
   "metadata": {},
   "outputs": [],
   "source": [
    "# for 문으로 max_depth 값 확인후 정하기\n",
    "\n",
    "for md in range(1,10):\n",
    "    tree_model2 = DecisionTreeClassifier(max_depth=md)\n",
    "    cross_result = cross_val_score(tree_model2, X_train, y_train, cv=5).mean()\n",
    "    print(f\"{md}번째 : \", cross_result)"
   ]
  },
  {
   "cell_type": "code",
   "execution_count": null,
   "metadata": {},
   "outputs": [],
   "source": [
    "# 4라고 설정 모델 생성\n",
    "tree_model3 = DecisionTreeClassifier(max_depth=4)\n",
    "tree_model3.fit(X_train, y_train)\n",
    "pre = tree_model3.predict(X_test)\n",
    "\n",
    "submission = pd.read_csv(\"./data/gender_submission.csv\")\n",
    "submission['Survived'] = pre\n",
    "submission.to_csv(\"./kkh_sumbission02.csv\", index=False)"
   ]
  },
  {
   "cell_type": "code",
   "execution_count": null,
   "metadata": {},
   "outputs": [],
   "source": [
    "# 특성 중요도\n",
    "fi = tree_model2.feature_importances_\n",
    "importance_df = pd.Series(fi, index=X_train.columns) \n",
    "plt.figure(figsize=(5,7))\n",
    "importance_df.sort_values(ascending=True).plot.barh()\n",
    "plt.show()"
   ]
  }
 ],
 "metadata": {
  "kernelspec": {
   "display_name": "Python 3",
   "language": "python",
   "name": "python3"
  },
  "language_info": {
   "codemirror_mode": {
    "name": "ipython",
    "version": 3
   },
   "file_extension": ".py",
   "mimetype": "text/x-python",
   "name": "python",
   "nbconvert_exporter": "python",
   "pygments_lexer": "ipython3",
   "version": "3.9.13"
  },
  "orig_nbformat": 4
 },
 "nbformat": 4,
 "nbformat_minor": 2
}
