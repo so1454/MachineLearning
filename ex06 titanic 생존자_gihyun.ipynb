{
 "cells": [
  {
   "attachments": {},
   "cell_type": "markdown",
   "metadata": {},
   "source": [
    "### 1.목표\n",
    "- 타이타닉 데이터를 학습해서 생존자/사망자를 예측해보자 -> 이진분류\n",
    "- 머신러닝 전체 과정을 이해해보자.\n",
    "\n",
    "#### 머신러닝 과정\n",
    "- 1. 문제 정의\n",
    "- 2. 데이터 수집\n",
    "- 3. 데이터 전처리\n",
    "- 4. 탐색적 데이터 분석 : 내용확인, 기술 통계량, 상관관계\n",
    "- 5. 머신러닝 모델 선택(하이퍼) 및 학습\n",
    "- 6. 모델 평가 및 예측\n",
    "- 7. 모델 서비스 "
   ]
  },
  {
   "attachments": {},
   "cell_type": "markdown",
   "metadata": {},
   "source": [
    "### 2.데이터 불러오기\n"
   ]
  },
  {
   "cell_type": "code",
   "execution_count": 116,
   "metadata": {},
   "outputs": [],
   "source": [
    "# kaggle 에서 제공한 데이터 다운 받은 상태\n",
    "# train : 훈련용 데이터\n",
    "# test : 테스트용 데이터\n",
    "# submission : 답안지 파일\n",
    "\n",
    "# 환경 셋팅\n",
    "import numpy as np\n",
    "import pandas as pd\n",
    "import matplotlib.pyplot as plt\n",
    "import seaborn as sns\n",
    "import warnings\n",
    "warnings.filterwarnings(action=\"ignore\")"
   ]
  },
  {
   "attachments": {},
   "cell_type": "markdown",
   "metadata": {},
   "source": [
    "q1. 타이타닉 train 데이터와 test 데이터를 변수 train,test 저장하기\n",
    "(단, 인덱스는 승객번호를 사용할 것.)"
   ]
  },
  {
   "cell_type": "code",
   "execution_count": 117,
   "metadata": {},
   "outputs": [],
   "source": [
    "# index_col : 컬럼이었던 값을 인덱스로 설정하는 키워드\n",
    "\n",
    "train = pd.read_csv(\"./data/train.csv\", index_col=\"PassengerId\")\n",
    "test = pd.read_csv(\"./data/test.csv\",index_col=\"PassengerId\")"
   ]
  },
  {
   "cell_type": "code",
   "execution_count": 118,
   "metadata": {},
   "outputs": [
    {
     "name": "stdout",
     "output_type": "stream",
     "text": [
      "(891, 11)\n",
      "(418, 10)\n"
     ]
    }
   ],
   "source": [
    "# 크기 확인 하기\n",
    "print(train.shape)\n",
    "print(test.shape)"
   ]
  },
  {
   "cell_type": "code",
   "execution_count": 119,
   "metadata": {},
   "outputs": [
    {
     "data": {
      "text/plain": [
       "Index(['Survived', 'Pclass', 'Name', 'Sex', 'Age', 'SibSp', 'Parch', 'Ticket',\n",
       "       'Fare', 'Cabin', 'Embarked'],\n",
       "      dtype='object')"
      ]
     },
     "execution_count": 119,
     "metadata": {},
     "output_type": "execute_result"
    }
   ],
   "source": [
    "train.columns.unique()"
   ]
  },
  {
   "cell_type": "code",
   "execution_count": 120,
   "metadata": {},
   "outputs": [
    {
     "data": {
      "text/plain": [
       "Index(['Pclass', 'Name', 'Sex', 'Age', 'SibSp', 'Parch', 'Ticket', 'Fare',\n",
       "       'Cabin', 'Embarked'],\n",
       "      dtype='object')"
      ]
     },
     "execution_count": 120,
     "metadata": {},
     "output_type": "execute_result"
    }
   ],
   "source": [
    "test.columns.unique()"
   ]
  },
  {
   "attachments": {},
   "cell_type": "markdown",
   "metadata": {},
   "source": [
    "### 3.데이터 전처리 및 데이터 탐색\n",
    "#### 3.1 결측치 확인"
   ]
  },
  {
   "cell_type": "code",
   "execution_count": 121,
   "metadata": {},
   "outputs": [],
   "source": [
    "# Survived : 생존 여부\n",
    "# Pclass : 승객 등급 (1~3 1이 상위층)\n",
    "# Name : 이름\n",
    "# Sex : 성별\n",
    "# Age : 나이\n",
    "# SibSp : 형제자매/ 배우자 수\n",
    "# Parch : 부모/ 자식 수\n",
    "# Ticket : 티켓 정보\n",
    "# Fare : 요금 정보\n",
    "# Cabin : 객실\n",
    "# Embarked : 승선항 (S,C,Q)"
   ]
  },
  {
   "cell_type": "code",
   "execution_count": 122,
   "metadata": {},
   "outputs": [
    {
     "name": "stdout",
     "output_type": "stream",
     "text": [
      "<class 'pandas.core.frame.DataFrame'>\n",
      "Int64Index: 891 entries, 1 to 891\n",
      "Data columns (total 11 columns):\n",
      " #   Column    Non-Null Count  Dtype  \n",
      "---  ------    --------------  -----  \n",
      " 0   Survived  891 non-null    int64  \n",
      " 1   Pclass    891 non-null    int64  \n",
      " 2   Name      891 non-null    object \n",
      " 3   Sex       891 non-null    object \n",
      " 4   Age       714 non-null    float64\n",
      " 5   SibSp     891 non-null    int64  \n",
      " 6   Parch     891 non-null    int64  \n",
      " 7   Ticket    891 non-null    object \n",
      " 8   Fare      891 non-null    float64\n",
      " 9   Cabin     204 non-null    object \n",
      " 10  Embarked  889 non-null    object \n",
      "dtypes: float64(2), int64(4), object(5)\n",
      "memory usage: 83.5+ KB\n"
     ]
    }
   ],
   "source": [
    "train.info() \n",
    "#3개 컬럼 결측치가 있다."
   ]
  },
  {
   "cell_type": "code",
   "execution_count": 123,
   "metadata": {},
   "outputs": [
    {
     "name": "stdout",
     "output_type": "stream",
     "text": [
      "<class 'pandas.core.frame.DataFrame'>\n",
      "Int64Index: 418 entries, 892 to 1309\n",
      "Data columns (total 10 columns):\n",
      " #   Column    Non-Null Count  Dtype  \n",
      "---  ------    --------------  -----  \n",
      " 0   Pclass    418 non-null    int64  \n",
      " 1   Name      418 non-null    object \n",
      " 2   Sex       418 non-null    object \n",
      " 3   Age       332 non-null    float64\n",
      " 4   SibSp     418 non-null    int64  \n",
      " 5   Parch     418 non-null    int64  \n",
      " 6   Ticket    418 non-null    object \n",
      " 7   Fare      417 non-null    float64\n",
      " 8   Cabin     91 non-null     object \n",
      " 9   Embarked  418 non-null    object \n",
      "dtypes: float64(2), int64(3), object(5)\n",
      "memory usage: 35.9+ KB\n"
     ]
    }
   ],
   "source": [
    "test.info()"
   ]
  },
  {
   "cell_type": "code",
   "execution_count": 124,
   "metadata": {},
   "outputs": [
    {
     "data": {
      "text/plain": [
       "Survived      0\n",
       "Pclass        0\n",
       "Name          0\n",
       "Sex           0\n",
       "Age         177\n",
       "SibSp         0\n",
       "Parch         0\n",
       "Ticket        0\n",
       "Fare          0\n",
       "Cabin       687\n",
       "Embarked      2\n",
       "dtype: int64"
      ]
     },
     "execution_count": 124,
     "metadata": {},
     "output_type": "execute_result"
    }
   ],
   "source": [
    "# 결측치 확인\n",
    "# axis = 0 => 행의 방향\n",
    "train.isnull().sum()\n",
    "\n",
    "# age, cabin, embarked 결측치 존재."
   ]
  },
  {
   "cell_type": "code",
   "execution_count": 125,
   "metadata": {},
   "outputs": [
    {
     "data": {
      "text/plain": [
       "Pclass        0\n",
       "Name          0\n",
       "Sex           0\n",
       "Age          86\n",
       "SibSp         0\n",
       "Parch         0\n",
       "Ticket        0\n",
       "Fare          1\n",
       "Cabin       327\n",
       "Embarked      0\n",
       "dtype: int64"
      ]
     },
     "execution_count": 125,
     "metadata": {},
     "output_type": "execute_result"
    }
   ],
   "source": [
    "test.isnull().sum()\n",
    "# Age, Cabin , Fare  결측치 존재"
   ]
  },
  {
   "cell_type": "code",
   "execution_count": 126,
   "metadata": {},
   "outputs": [
    {
     "data": {
      "text/plain": [
       "Age         177\n",
       "Cabin       687\n",
       "Embarked      2\n",
       "dtype: int64"
      ]
     },
     "execution_count": 126,
     "metadata": {},
     "output_type": "execute_result"
    }
   ],
   "source": [
    "# train 결측치 존재 및 컬럼당 결측치 개수 확인\n",
    "# null 이 존재하는 컬럼 뽑기\n",
    "# any(): 각 열에 True 요소가 하나 이상 포함 되어 있는지 여부확인\n",
    "null_col = train.columns[train.isnull().any()]\n",
    "\n",
    "# 불리언 인덱싱\n",
    "\n",
    "\n",
    "# 개수까지 확인하고 싶을 때\n",
    "train[null_col].isnull().sum()\n"
   ]
  },
  {
   "cell_type": "code",
   "execution_count": 127,
   "metadata": {},
   "outputs": [
    {
     "data": {
      "text/plain": [
       "Age       86\n",
       "Fare       1\n",
       "Cabin    327\n",
       "dtype: int64"
      ]
     },
     "execution_count": 127,
     "metadata": {},
     "output_type": "execute_result"
    }
   ],
   "source": [
    "test_col = test.columns[test.isnull().any()]\n",
    "\n",
    "# 불리언 인덱싱\n",
    "\n",
    "\n",
    "# 개수까지 확인하고 싶을 때\n",
    "test[test_col].isnull().sum()"
   ]
  },
  {
   "attachments": {},
   "cell_type": "markdown",
   "metadata": {},
   "source": [
    "#### 3.2 Embarked 컬럼 결측치 채우기\n"
   ]
  },
  {
   "cell_type": "code",
   "execution_count": 128,
   "metadata": {},
   "outputs": [
    {
     "data": {
      "text/html": [
       "<div>\n",
       "<style scoped>\n",
       "    .dataframe tbody tr th:only-of-type {\n",
       "        vertical-align: middle;\n",
       "    }\n",
       "\n",
       "    .dataframe tbody tr th {\n",
       "        vertical-align: top;\n",
       "    }\n",
       "\n",
       "    .dataframe thead th {\n",
       "        text-align: right;\n",
       "    }\n",
       "</style>\n",
       "<table border=\"1\" class=\"dataframe\">\n",
       "  <thead>\n",
       "    <tr style=\"text-align: right;\">\n",
       "      <th></th>\n",
       "      <th>Survived</th>\n",
       "      <th>Pclass</th>\n",
       "      <th>Name</th>\n",
       "      <th>Sex</th>\n",
       "      <th>Age</th>\n",
       "      <th>SibSp</th>\n",
       "      <th>Parch</th>\n",
       "      <th>Ticket</th>\n",
       "      <th>Fare</th>\n",
       "      <th>Cabin</th>\n",
       "      <th>Embarked</th>\n",
       "    </tr>\n",
       "    <tr>\n",
       "      <th>PassengerId</th>\n",
       "      <th></th>\n",
       "      <th></th>\n",
       "      <th></th>\n",
       "      <th></th>\n",
       "      <th></th>\n",
       "      <th></th>\n",
       "      <th></th>\n",
       "      <th></th>\n",
       "      <th></th>\n",
       "      <th></th>\n",
       "      <th></th>\n",
       "    </tr>\n",
       "  </thead>\n",
       "  <tbody>\n",
       "    <tr>\n",
       "      <th>62</th>\n",
       "      <td>1</td>\n",
       "      <td>1</td>\n",
       "      <td>Icard, Miss. Amelie</td>\n",
       "      <td>female</td>\n",
       "      <td>38.0</td>\n",
       "      <td>0</td>\n",
       "      <td>0</td>\n",
       "      <td>113572</td>\n",
       "      <td>80.0</td>\n",
       "      <td>B28</td>\n",
       "      <td>NaN</td>\n",
       "    </tr>\n",
       "    <tr>\n",
       "      <th>830</th>\n",
       "      <td>1</td>\n",
       "      <td>1</td>\n",
       "      <td>Stone, Mrs. George Nelson (Martha Evelyn)</td>\n",
       "      <td>female</td>\n",
       "      <td>62.0</td>\n",
       "      <td>0</td>\n",
       "      <td>0</td>\n",
       "      <td>113572</td>\n",
       "      <td>80.0</td>\n",
       "      <td>B28</td>\n",
       "      <td>NaN</td>\n",
       "    </tr>\n",
       "  </tbody>\n",
       "</table>\n",
       "</div>"
      ],
      "text/plain": [
       "             Survived  Pclass                                       Name  \\\n",
       "PassengerId                                                                \n",
       "62                  1       1                        Icard, Miss. Amelie   \n",
       "830                 1       1  Stone, Mrs. George Nelson (Martha Evelyn)   \n",
       "\n",
       "                Sex   Age  SibSp  Parch  Ticket  Fare Cabin Embarked  \n",
       "PassengerId                                                           \n",
       "62           female  38.0      0      0  113572  80.0   B28      NaN  \n",
       "830          female  62.0      0      0  113572  80.0   B28      NaN  "
      ]
     },
     "execution_count": 128,
     "metadata": {},
     "output_type": "execute_result"
    }
   ],
   "source": [
    "# 단순하게 최빈값, 평균 값, 중앙값\n",
    "# 특성의 상관 관계를 확인하고 그걸 기반으로 기술 통계량 확인 후 채움\n",
    "# 실제 데이터를 찾기 위해서 인터넷 상에서 조사\n",
    "# train, Embarked 결측치 행 확인 하기\n",
    "train[train['Embarked'].isnull()]\n"
   ]
  },
  {
   "cell_type": "code",
   "execution_count": 129,
   "metadata": {},
   "outputs": [
    {
     "data": {
      "text/plain": [
       "S    644\n",
       "C    168\n",
       "Q     77\n",
       "Name: Embarked, dtype: int64"
      ]
     },
     "execution_count": 129,
     "metadata": {},
     "output_type": "execute_result"
    }
   ],
   "source": [
    "# train 데이터 기준으로 데이터 살피기\n",
    "# 학습에 도움이 되는 데이터 : train\n",
    "# train 데이터 기준으로 결측치 처리해야한다.\n",
    "train['Embarked'].value_counts() #s"
   ]
  },
  {
   "cell_type": "code",
   "execution_count": 130,
   "metadata": {},
   "outputs": [
    {
     "data": {
      "text/html": [
       "<div>\n",
       "<style scoped>\n",
       "    .dataframe tbody tr th:only-of-type {\n",
       "        vertical-align: middle;\n",
       "    }\n",
       "\n",
       "    .dataframe tbody tr th {\n",
       "        vertical-align: top;\n",
       "    }\n",
       "\n",
       "    .dataframe thead th {\n",
       "        text-align: right;\n",
       "    }\n",
       "</style>\n",
       "<table border=\"1\" class=\"dataframe\">\n",
       "  <thead>\n",
       "    <tr style=\"text-align: right;\">\n",
       "      <th></th>\n",
       "      <th>Survived</th>\n",
       "      <th>Pclass</th>\n",
       "      <th>Name</th>\n",
       "      <th>Sex</th>\n",
       "      <th>Age</th>\n",
       "      <th>SibSp</th>\n",
       "      <th>Parch</th>\n",
       "      <th>Ticket</th>\n",
       "      <th>Fare</th>\n",
       "      <th>Cabin</th>\n",
       "      <th>Embarked</th>\n",
       "    </tr>\n",
       "    <tr>\n",
       "      <th>PassengerId</th>\n",
       "      <th></th>\n",
       "      <th></th>\n",
       "      <th></th>\n",
       "      <th></th>\n",
       "      <th></th>\n",
       "      <th></th>\n",
       "      <th></th>\n",
       "      <th></th>\n",
       "      <th></th>\n",
       "      <th></th>\n",
       "      <th></th>\n",
       "    </tr>\n",
       "  </thead>\n",
       "  <tbody>\n",
       "  </tbody>\n",
       "</table>\n",
       "</div>"
      ],
      "text/plain": [
       "Empty DataFrame\n",
       "Columns: [Survived, Pclass, Name, Sex, Age, SibSp, Parch, Ticket, Fare, Cabin, Embarked]\n",
       "Index: []"
      ]
     },
     "execution_count": 130,
     "metadata": {},
     "output_type": "execute_result"
    }
   ],
   "source": [
    "# 결측치 존재하는 모든 행에 'S'로 채우기\n",
    "# 결측치가 있다면 해당 value 값으로 채우기\n",
    "\n",
    "train['Embarked'] = train['Embarked'].fillna(\"S\")\n",
    "train[train['Embarked'].isnull()] # 처리 확인용"
   ]
  },
  {
   "attachments": {},
   "cell_type": "markdown",
   "metadata": {},
   "source": [
    "#### 3.3 Fare 채우기\n",
    "- test 데이터의 fare 1개의 결측치 존재\n",
    "  "
   ]
  },
  {
   "cell_type": "code",
   "execution_count": 131,
   "metadata": {},
   "outputs": [
    {
     "data": {
      "text/plain": [
       "count    891.000000\n",
       "mean      32.204208\n",
       "std       49.693429\n",
       "min        0.000000\n",
       "25%        7.910400\n",
       "50%       14.454200\n",
       "75%       31.000000\n",
       "max      512.329200\n",
       "Name: Fare, dtype: float64"
      ]
     },
     "execution_count": 131,
     "metadata": {},
     "output_type": "execute_result"
    }
   ],
   "source": [
    "# 요금 컬럼 기술 통계량 확인해보기\n",
    "\n",
    "train['Fare'].describe()\n",
    "\n",
    "# 평균과 중앙값 중에 요금 데이터의 대표성을 가지고 있는 건 중앙 값\n",
    "# median\n"
   ]
  },
  {
   "cell_type": "code",
   "execution_count": 132,
   "metadata": {},
   "outputs": [
    {
     "data": {
      "text/plain": [
       "Survived    1.000000\n",
       "Pclass      0.338481\n",
       "Fare        0.257307\n",
       "Parch       0.081629\n",
       "Age         0.077221\n",
       "SibSp       0.035322\n",
       "Name: Survived, dtype: float64"
      ]
     },
     "execution_count": 132,
     "metadata": {},
     "output_type": "execute_result"
    }
   ],
   "source": [
    "# 생존/사망에 영향을 줬을 것 같은 다른 컬럼을 확인해보기\n",
    "# 상관 관계 확인\n",
    "\n",
    "# -1 ~1 : -1,1에 가까울 수록 상관 관계가 높다.\n",
    "# 0 : 0에 가까울 수록 비교적 상관 관계가 낮음\n",
    "train.corr()['Survived'].abs().sort_values(ascending=False)\n",
    "\n",
    "# Pclass 컬럼이 비교적 상관관계가 높음을 확인"
   ]
  },
  {
   "cell_type": "code",
   "execution_count": 133,
   "metadata": {},
   "outputs": [
    {
     "data": {
      "image/png": "[encoded data removed]",
      "text/plain": [
       "<Figure size 1000x800 with 2 Axes>"
      ]
     },
     "metadata": {},
     "output_type": "display_data"
    }
   ],
   "source": [
    "# 상관관계 시각화 >> 히트맵 그래프 그려보기\n",
    "plt.figure(figsize=(10,8))\n",
    "sns.heatmap(train.corr(),annot=True, cmap='coolwarm')\n",
    "plt.show()"
   ]
  },
  {
   "cell_type": "code",
   "execution_count": 134,
   "metadata": {},
   "outputs": [
    {
     "data": {
      "text/html": [
       "<div>\n",
       "<style scoped>\n",
       "    .dataframe tbody tr th:only-of-type {\n",
       "        vertical-align: middle;\n",
       "    }\n",
       "\n",
       "    .dataframe tbody tr th {\n",
       "        vertical-align: top;\n",
       "    }\n",
       "\n",
       "    .dataframe thead th {\n",
       "        text-align: right;\n",
       "    }\n",
       "</style>\n",
       "<table border=\"1\" class=\"dataframe\">\n",
       "  <thead>\n",
       "    <tr style=\"text-align: right;\">\n",
       "      <th></th>\n",
       "      <th>Pclass</th>\n",
       "      <th>Name</th>\n",
       "      <th>Sex</th>\n",
       "      <th>Age</th>\n",
       "      <th>SibSp</th>\n",
       "      <th>Parch</th>\n",
       "      <th>Ticket</th>\n",
       "      <th>Fare</th>\n",
       "      <th>Cabin</th>\n",
       "      <th>Embarked</th>\n",
       "    </tr>\n",
       "    <tr>\n",
       "      <th>PassengerId</th>\n",
       "      <th></th>\n",
       "      <th></th>\n",
       "      <th></th>\n",
       "      <th></th>\n",
       "      <th></th>\n",
       "      <th></th>\n",
       "      <th></th>\n",
       "      <th></th>\n",
       "      <th></th>\n",
       "      <th></th>\n",
       "    </tr>\n",
       "  </thead>\n",
       "  <tbody>\n",
       "    <tr>\n",
       "      <th>1044</th>\n",
       "      <td>3</td>\n",
       "      <td>Storey, Mr. Thomas</td>\n",
       "      <td>male</td>\n",
       "      <td>60.5</td>\n",
       "      <td>0</td>\n",
       "      <td>0</td>\n",
       "      <td>3701</td>\n",
       "      <td>NaN</td>\n",
       "      <td>NaN</td>\n",
       "      <td>S</td>\n",
       "    </tr>\n",
       "  </tbody>\n",
       "</table>\n",
       "</div>"
      ],
      "text/plain": [
       "             Pclass                Name   Sex   Age  SibSp  Parch Ticket  \\\n",
       "PassengerId                                                                \n",
       "1044              3  Storey, Mr. Thomas  male  60.5      0      0   3701   \n",
       "\n",
       "             Fare Cabin Embarked  \n",
       "PassengerId                       \n",
       "1044          NaN   NaN        S  "
      ]
     },
     "execution_count": 134,
     "metadata": {},
     "output_type": "execute_result"
    }
   ],
   "source": [
    "# test-fare 결측치 존재하는 행 확인\n",
    "test[test['Fare'].isnull()]"
   ]
  },
  {
   "cell_type": "code",
   "execution_count": 135,
   "metadata": {},
   "outputs": [
    {
     "data": {
      "text/html": [
       "<div>\n",
       "<style scoped>\n",
       "    .dataframe tbody tr th:only-of-type {\n",
       "        vertical-align: middle;\n",
       "    }\n",
       "\n",
       "    .dataframe tbody tr th {\n",
       "        vertical-align: top;\n",
       "    }\n",
       "\n",
       "    .dataframe thead th {\n",
       "        text-align: right;\n",
       "    }\n",
       "</style>\n",
       "<table border=\"1\" class=\"dataframe\">\n",
       "  <thead>\n",
       "    <tr style=\"text-align: right;\">\n",
       "      <th></th>\n",
       "      <th></th>\n",
       "      <th>Fare</th>\n",
       "    </tr>\n",
       "    <tr>\n",
       "      <th>Pclass</th>\n",
       "      <th>Sex</th>\n",
       "      <th></th>\n",
       "    </tr>\n",
       "  </thead>\n",
       "  <tbody>\n",
       "    <tr>\n",
       "      <th rowspan=\"2\" valign=\"top\">1</th>\n",
       "      <th>female</th>\n",
       "      <td>82.66455</td>\n",
       "    </tr>\n",
       "    <tr>\n",
       "      <th>male</th>\n",
       "      <td>41.26250</td>\n",
       "    </tr>\n",
       "    <tr>\n",
       "      <th rowspan=\"2\" valign=\"top\">2</th>\n",
       "      <th>female</th>\n",
       "      <td>22.00000</td>\n",
       "    </tr>\n",
       "    <tr>\n",
       "      <th>male</th>\n",
       "      <td>13.00000</td>\n",
       "    </tr>\n",
       "    <tr>\n",
       "      <th rowspan=\"2\" valign=\"top\">3</th>\n",
       "      <th>female</th>\n",
       "      <td>12.47500</td>\n",
       "    </tr>\n",
       "    <tr>\n",
       "      <th>male</th>\n",
       "      <td>7.92500</td>\n",
       "    </tr>\n",
       "  </tbody>\n",
       "</table>\n",
       "</div>"
      ],
      "text/plain": [
       "                   Fare\n",
       "Pclass Sex             \n",
       "1      female  82.66455\n",
       "       male    41.26250\n",
       "2      female  22.00000\n",
       "       male    13.00000\n",
       "3      female  12.47500\n",
       "       male     7.92500"
      ]
     },
     "execution_count": 135,
     "metadata": {},
     "output_type": "execute_result"
    }
   ],
   "source": [
    "# 상관 관계는 수치 값으로 이루어진 컬럼에 대해서만 적용\n",
    "# 문자열 형태로 되어 있는 컬럼도 연관시켜보자\n",
    "# 성별 데이터를 연관 시켜보자.\n",
    "# Pclass, Sex, Fare\n",
    "# 1 - 여성 - 요금 중앙값\n",
    "# 1 - 남성 - 요금 중앙값\n",
    "# 3 - 여성\n",
    "train[['Pclass','Sex','Fare']].groupby(['Pclass','Sex']).median()"
   ]
  },
  {
   "cell_type": "code",
   "execution_count": 136,
   "metadata": {},
   "outputs": [],
   "source": [
    "test['Fare'] = test['Fare'].fillna(7.92500)"
   ]
  },
  {
   "cell_type": "code",
   "execution_count": 137,
   "metadata": {},
   "outputs": [
    {
     "name": "stdout",
     "output_type": "stream",
     "text": [
      "<class 'pandas.core.frame.DataFrame'>\n",
      "Int64Index: 418 entries, 892 to 1309\n",
      "Data columns (total 10 columns):\n",
      " #   Column    Non-Null Count  Dtype  \n",
      "---  ------    --------------  -----  \n",
      " 0   Pclass    418 non-null    int64  \n",
      " 1   Name      418 non-null    object \n",
      " 2   Sex       418 non-null    object \n",
      " 3   Age       332 non-null    float64\n",
      " 4   SibSp     418 non-null    int64  \n",
      " 5   Parch     418 non-null    int64  \n",
      " 6   Ticket    418 non-null    object \n",
      " 7   Fare      418 non-null    float64\n",
      " 8   Cabin     91 non-null     object \n",
      " 9   Embarked  418 non-null    object \n",
      "dtypes: float64(2), int64(3), object(5)\n",
      "memory usage: 35.9+ KB\n"
     ]
    }
   ],
   "source": [
    "test.info()"
   ]
  },
  {
   "attachments": {},
   "cell_type": "markdown",
   "metadata": {},
   "source": [
    "#### 3.4 Age 결측치 채우기\n",
    "- 단순 기술 통계치로 채우지 않고 다른 컬럼과의 상관관계를 이용하여 결측치를 채워보자\n",
    "- 생존 / 사망과 상관이 높은 컬럼 : Pclass\n",
    "- 범주형 데이터 중에서도 생존/사망 어느 정도 영향을 주는 컬럼 : Sex\n",
    "  "
   ]
  },
  {
   "cell_type": "code",
   "execution_count": 138,
   "metadata": {},
   "outputs": [
    {
     "data": {
      "text/html": [
       "<div>\n",
       "<style scoped>\n",
       "    .dataframe tbody tr th:only-of-type {\n",
       "        vertical-align: middle;\n",
       "    }\n",
       "\n",
       "    .dataframe tbody tr th {\n",
       "        vertical-align: top;\n",
       "    }\n",
       "\n",
       "    .dataframe thead th {\n",
       "        text-align: right;\n",
       "    }\n",
       "</style>\n",
       "<table border=\"1\" class=\"dataframe\">\n",
       "  <thead>\n",
       "    <tr style=\"text-align: right;\">\n",
       "      <th></th>\n",
       "      <th></th>\n",
       "      <th>Age</th>\n",
       "    </tr>\n",
       "    <tr>\n",
       "      <th>Pclass</th>\n",
       "      <th>Sex</th>\n",
       "      <th></th>\n",
       "    </tr>\n",
       "  </thead>\n",
       "  <tbody>\n",
       "    <tr>\n",
       "      <th rowspan=\"2\" valign=\"top\">1</th>\n",
       "      <th>female</th>\n",
       "      <td>34.611765</td>\n",
       "    </tr>\n",
       "    <tr>\n",
       "      <th>male</th>\n",
       "      <td>41.281386</td>\n",
       "    </tr>\n",
       "    <tr>\n",
       "      <th rowspan=\"2\" valign=\"top\">2</th>\n",
       "      <th>female</th>\n",
       "      <td>28.722973</td>\n",
       "    </tr>\n",
       "    <tr>\n",
       "      <th>male</th>\n",
       "      <td>30.740707</td>\n",
       "    </tr>\n",
       "    <tr>\n",
       "      <th rowspan=\"2\" valign=\"top\">3</th>\n",
       "      <th>female</th>\n",
       "      <td>21.750000</td>\n",
       "    </tr>\n",
       "    <tr>\n",
       "      <th>male</th>\n",
       "      <td>26.507589</td>\n",
       "    </tr>\n",
       "  </tbody>\n",
       "</table>\n",
       "</div>"
      ],
      "text/plain": [
       "                     Age\n",
       "Pclass Sex              \n",
       "1      female  34.611765\n",
       "       male    41.281386\n",
       "2      female  28.722973\n",
       "       male    30.740707\n",
       "3      female  21.750000\n",
       "       male    26.507589"
      ]
     },
     "execution_count": 138,
     "metadata": {},
     "output_type": "execute_result"
    }
   ],
   "source": [
    "# 승객의 등급, 성별을 묶어서 나이의 평균값을 확인하기\n",
    "\n",
    "gb1 = train[['Pclass','Sex','Age']].groupby([\"Pclass\",\"Sex\"]).mean()\n",
    "gb1"
   ]
  },
  {
   "cell_type": "code",
   "execution_count": 139,
   "metadata": {},
   "outputs": [
    {
     "data": {
      "text/plain": [
       "Age    34.611765\n",
       "Name: (1, female), dtype: float64"
      ]
     },
     "execution_count": 139,
     "metadata": {},
     "output_type": "execute_result"
    }
   ],
   "source": [
    "# 3등급, male인 사람의 나이 평균 접근해보기\n",
    "# 중복 인덱스, 멀티인덱스\n",
    "\n",
    "gb1.loc[(3,'male')]\n",
    "\n",
    "# 1등급, female 접근하기\n",
    "gb1.loc[(1,'female')]"
   ]
  },
  {
   "cell_type": "code",
   "execution_count": 140,
   "metadata": {},
   "outputs": [
    {
     "data": {
      "text/html": [
       "<div>\n",
       "<style scoped>\n",
       "    .dataframe tbody tr th:only-of-type {\n",
       "        vertical-align: middle;\n",
       "    }\n",
       "\n",
       "    .dataframe tbody tr th {\n",
       "        vertical-align: top;\n",
       "    }\n",
       "\n",
       "    .dataframe thead th {\n",
       "        text-align: right;\n",
       "    }\n",
       "</style>\n",
       "<table border=\"1\" class=\"dataframe\">\n",
       "  <thead>\n",
       "    <tr style=\"text-align: right;\">\n",
       "      <th></th>\n",
       "      <th>Pclass</th>\n",
       "      <th>Name</th>\n",
       "      <th>Sex</th>\n",
       "      <th>Age</th>\n",
       "      <th>SibSp</th>\n",
       "      <th>Parch</th>\n",
       "      <th>Ticket</th>\n",
       "      <th>Fare</th>\n",
       "      <th>Cabin</th>\n",
       "      <th>Embarked</th>\n",
       "    </tr>\n",
       "    <tr>\n",
       "      <th>PassengerId</th>\n",
       "      <th></th>\n",
       "      <th></th>\n",
       "      <th></th>\n",
       "      <th></th>\n",
       "      <th></th>\n",
       "      <th></th>\n",
       "      <th></th>\n",
       "      <th></th>\n",
       "      <th></th>\n",
       "      <th></th>\n",
       "    </tr>\n",
       "  </thead>\n",
       "  <tbody>\n",
       "    <tr>\n",
       "      <th>902</th>\n",
       "      <td>3</td>\n",
       "      <td>Ilieff, Mr. Ylio</td>\n",
       "      <td>male</td>\n",
       "      <td>NaN</td>\n",
       "      <td>0</td>\n",
       "      <td>0</td>\n",
       "      <td>349220</td>\n",
       "      <td>7.8958</td>\n",
       "      <td>NaN</td>\n",
       "      <td>S</td>\n",
       "    </tr>\n",
       "    <tr>\n",
       "      <th>914</th>\n",
       "      <td>1</td>\n",
       "      <td>Flegenheim, Mrs. Alfred (Antoinette)</td>\n",
       "      <td>female</td>\n",
       "      <td>NaN</td>\n",
       "      <td>0</td>\n",
       "      <td>0</td>\n",
       "      <td>PC 17598</td>\n",
       "      <td>31.6833</td>\n",
       "      <td>NaN</td>\n",
       "      <td>S</td>\n",
       "    </tr>\n",
       "    <tr>\n",
       "      <th>921</th>\n",
       "      <td>3</td>\n",
       "      <td>Samaan, Mr. Elias</td>\n",
       "      <td>male</td>\n",
       "      <td>NaN</td>\n",
       "      <td>2</td>\n",
       "      <td>0</td>\n",
       "      <td>2662</td>\n",
       "      <td>21.6792</td>\n",
       "      <td>NaN</td>\n",
       "      <td>C</td>\n",
       "    </tr>\n",
       "    <tr>\n",
       "      <th>925</th>\n",
       "      <td>3</td>\n",
       "      <td>Johnston, Mrs. Andrew G (Elizabeth Lily\" Watson)\"</td>\n",
       "      <td>female</td>\n",
       "      <td>NaN</td>\n",
       "      <td>1</td>\n",
       "      <td>2</td>\n",
       "      <td>W./C. 6607</td>\n",
       "      <td>23.4500</td>\n",
       "      <td>NaN</td>\n",
       "      <td>S</td>\n",
       "    </tr>\n",
       "    <tr>\n",
       "      <th>928</th>\n",
       "      <td>3</td>\n",
       "      <td>Roth, Miss. Sarah A</td>\n",
       "      <td>female</td>\n",
       "      <td>NaN</td>\n",
       "      <td>0</td>\n",
       "      <td>0</td>\n",
       "      <td>342712</td>\n",
       "      <td>8.0500</td>\n",
       "      <td>NaN</td>\n",
       "      <td>S</td>\n",
       "    </tr>\n",
       "    <tr>\n",
       "      <th>...</th>\n",
       "      <td>...</td>\n",
       "      <td>...</td>\n",
       "      <td>...</td>\n",
       "      <td>...</td>\n",
       "      <td>...</td>\n",
       "      <td>...</td>\n",
       "      <td>...</td>\n",
       "      <td>...</td>\n",
       "      <td>...</td>\n",
       "      <td>...</td>\n",
       "    </tr>\n",
       "    <tr>\n",
       "      <th>1300</th>\n",
       "      <td>3</td>\n",
       "      <td>Riordan, Miss. Johanna Hannah\"\"</td>\n",
       "      <td>female</td>\n",
       "      <td>NaN</td>\n",
       "      <td>0</td>\n",
       "      <td>0</td>\n",
       "      <td>334915</td>\n",
       "      <td>7.7208</td>\n",
       "      <td>NaN</td>\n",
       "      <td>Q</td>\n",
       "    </tr>\n",
       "    <tr>\n",
       "      <th>1302</th>\n",
       "      <td>3</td>\n",
       "      <td>Naughton, Miss. Hannah</td>\n",
       "      <td>female</td>\n",
       "      <td>NaN</td>\n",
       "      <td>0</td>\n",
       "      <td>0</td>\n",
       "      <td>365237</td>\n",
       "      <td>7.7500</td>\n",
       "      <td>NaN</td>\n",
       "      <td>Q</td>\n",
       "    </tr>\n",
       "    <tr>\n",
       "      <th>1305</th>\n",
       "      <td>3</td>\n",
       "      <td>Spector, Mr. Woolf</td>\n",
       "      <td>male</td>\n",
       "      <td>NaN</td>\n",
       "      <td>0</td>\n",
       "      <td>0</td>\n",
       "      <td>A.5. 3236</td>\n",
       "      <td>8.0500</td>\n",
       "      <td>NaN</td>\n",
       "      <td>S</td>\n",
       "    </tr>\n",
       "    <tr>\n",
       "      <th>1308</th>\n",
       "      <td>3</td>\n",
       "      <td>Ware, Mr. Frederick</td>\n",
       "      <td>male</td>\n",
       "      <td>NaN</td>\n",
       "      <td>0</td>\n",
       "      <td>0</td>\n",
       "      <td>359309</td>\n",
       "      <td>8.0500</td>\n",
       "      <td>NaN</td>\n",
       "      <td>S</td>\n",
       "    </tr>\n",
       "    <tr>\n",
       "      <th>1309</th>\n",
       "      <td>3</td>\n",
       "      <td>Peter, Master. Michael J</td>\n",
       "      <td>male</td>\n",
       "      <td>NaN</td>\n",
       "      <td>1</td>\n",
       "      <td>1</td>\n",
       "      <td>2668</td>\n",
       "      <td>22.3583</td>\n",
       "      <td>NaN</td>\n",
       "      <td>C</td>\n",
       "    </tr>\n",
       "  </tbody>\n",
       "</table>\n",
       "<p>86 rows × 10 columns</p>\n",
       "</div>"
      ],
      "text/plain": [
       "             Pclass                                               Name  \\\n",
       "PassengerId                                                              \n",
       "902               3                                   Ilieff, Mr. Ylio   \n",
       "914               1               Flegenheim, Mrs. Alfred (Antoinette)   \n",
       "921               3                                  Samaan, Mr. Elias   \n",
       "925               3  Johnston, Mrs. Andrew G (Elizabeth Lily\" Watson)\"   \n",
       "928               3                                Roth, Miss. Sarah A   \n",
       "...             ...                                                ...   \n",
       "1300              3                    Riordan, Miss. Johanna Hannah\"\"   \n",
       "1302              3                             Naughton, Miss. Hannah   \n",
       "1305              3                                 Spector, Mr. Woolf   \n",
       "1308              3                                Ware, Mr. Frederick   \n",
       "1309              3                           Peter, Master. Michael J   \n",
       "\n",
       "                Sex  Age  SibSp  Parch      Ticket     Fare Cabin Embarked  \n",
       "PassengerId                                                                 \n",
       "902            male  NaN      0      0      349220   7.8958   NaN        S  \n",
       "914          female  NaN      0      0    PC 17598  31.6833   NaN        S  \n",
       "921            male  NaN      2      0        2662  21.6792   NaN        C  \n",
       "925          female  NaN      1      2  W./C. 6607  23.4500   NaN        S  \n",
       "928          female  NaN      0      0      342712   8.0500   NaN        S  \n",
       "...             ...  ...    ...    ...         ...      ...   ...      ...  \n",
       "1300         female  NaN      0      0      334915   7.7208   NaN        Q  \n",
       "1302         female  NaN      0      0      365237   7.7500   NaN        Q  \n",
       "1305           male  NaN      0      0   A.5. 3236   8.0500   NaN        S  \n",
       "1308           male  NaN      0      0      359309   8.0500   NaN        S  \n",
       "1309           male  NaN      1      1        2668  22.3583   NaN        C  \n",
       "\n",
       "[86 rows x 10 columns]"
      ]
     },
     "execution_count": 140,
     "metadata": {},
     "output_type": "execute_result"
    }
   ],
   "source": [
    "# train Age 결츶치 행 확인\n",
    "train[train['Age'].isnull()]\n",
    "test[test['Age'].isnull()]\n",
    "\n"
   ]
  },
  {
   "cell_type": "code",
   "execution_count": 141,
   "metadata": {},
   "outputs": [
    {
     "data": {
      "text/plain": [
       "array([False, False,  True])"
      ]
     },
     "execution_count": 141,
     "metadata": {},
     "output_type": "execute_result"
    }
   ],
   "source": [
    "# null인지 확인 하는 함수\n",
    "a = np.array([1,2,np.nan])\n",
    "np.isnan(a)\n",
    "# pd.isnull(a)\n"
   ]
  },
  {
   "cell_type": "code",
   "execution_count": 142,
   "metadata": {},
   "outputs": [
    {
     "name": "stdout",
     "output_type": "stream",
     "text": [
      "22.0\n",
      "38.0\n",
      "26.0\n",
      "35.0\n",
      "35.0\n",
      "nan\n",
      "54.0\n",
      "2.0\n",
      "27.0\n",
      "14.0\n",
      "4.0\n",
      "58.0\n",
      "20.0\n",
      "39.0\n",
      "14.0\n",
      "55.0\n",
      "2.0\n",
      "nan\n",
      "31.0\n",
      "nan\n",
      "35.0\n",
      "34.0\n",
      "15.0\n",
      "28.0\n",
      "8.0\n",
      "38.0\n",
      "nan\n",
      "19.0\n",
      "nan\n",
      "nan\n",
      "40.0\n",
      "nan\n",
      "nan\n",
      "66.0\n",
      "28.0\n",
      "42.0\n",
      "nan\n",
      "21.0\n",
      "18.0\n",
      "14.0\n",
      "40.0\n",
      "27.0\n",
      "nan\n",
      "3.0\n",
      "19.0\n",
      "nan\n",
      "nan\n",
      "nan\n",
      "nan\n",
      "18.0\n",
      "7.0\n",
      "21.0\n",
      "49.0\n",
      "29.0\n",
      "65.0\n",
      "nan\n",
      "21.0\n",
      "28.5\n",
      "5.0\n",
      "11.0\n",
      "22.0\n",
      "38.0\n",
      "45.0\n",
      "4.0\n",
      "nan\n",
      "nan\n",
      "29.0\n",
      "19.0\n",
      "17.0\n",
      "26.0\n",
      "32.0\n",
      "16.0\n",
      "21.0\n",
      "26.0\n",
      "32.0\n",
      "25.0\n",
      "nan\n",
      "nan\n",
      "0.83\n",
      "30.0\n",
      "22.0\n",
      "29.0\n",
      "nan\n",
      "28.0\n",
      "17.0\n",
      "33.0\n",
      "16.0\n",
      "nan\n",
      "23.0\n",
      "24.0\n",
      "29.0\n",
      "20.0\n",
      "46.0\n",
      "26.0\n",
      "59.0\n",
      "nan\n",
      "71.0\n",
      "23.0\n",
      "34.0\n",
      "34.0\n",
      "28.0\n",
      "nan\n",
      "21.0\n",
      "33.0\n",
      "37.0\n",
      "28.0\n",
      "21.0\n",
      "nan\n",
      "38.0\n",
      "nan\n",
      "47.0\n",
      "14.5\n",
      "22.0\n",
      "20.0\n",
      "17.0\n",
      "21.0\n",
      "70.5\n",
      "29.0\n",
      "24.0\n",
      "2.0\n",
      "21.0\n",
      "nan\n",
      "32.5\n",
      "32.5\n",
      "54.0\n",
      "12.0\n",
      "nan\n",
      "24.0\n",
      "nan\n",
      "45.0\n",
      "33.0\n",
      "20.0\n",
      "47.0\n",
      "29.0\n",
      "25.0\n",
      "23.0\n",
      "19.0\n",
      "37.0\n",
      "16.0\n",
      "24.0\n",
      "nan\n",
      "22.0\n",
      "24.0\n",
      "19.0\n",
      "18.0\n",
      "19.0\n",
      "27.0\n",
      "9.0\n",
      "36.5\n",
      "42.0\n",
      "51.0\n",
      "22.0\n",
      "55.5\n",
      "40.5\n",
      "nan\n",
      "51.0\n",
      "16.0\n",
      "30.0\n",
      "nan\n",
      "nan\n",
      "44.0\n",
      "40.0\n",
      "26.0\n",
      "17.0\n",
      "1.0\n",
      "9.0\n",
      "nan\n",
      "45.0\n",
      "nan\n",
      "28.0\n",
      "61.0\n",
      "4.0\n",
      "1.0\n",
      "21.0\n",
      "56.0\n",
      "18.0\n",
      "nan\n",
      "50.0\n",
      "30.0\n",
      "36.0\n",
      "nan\n",
      "nan\n",
      "9.0\n",
      "1.0\n",
      "4.0\n",
      "nan\n",
      "nan\n",
      "45.0\n",
      "40.0\n",
      "36.0\n",
      "32.0\n",
      "19.0\n",
      "19.0\n",
      "3.0\n",
      "44.0\n",
      "58.0\n",
      "nan\n",
      "42.0\n",
      "nan\n",
      "24.0\n",
      "28.0\n",
      "nan\n",
      "34.0\n",
      "45.5\n",
      "18.0\n",
      "2.0\n",
      "32.0\n",
      "26.0\n",
      "16.0\n",
      "40.0\n",
      "24.0\n",
      "35.0\n",
      "22.0\n",
      "30.0\n",
      "nan\n",
      "31.0\n",
      "27.0\n",
      "42.0\n",
      "32.0\n",
      "30.0\n",
      "16.0\n",
      "27.0\n",
      "51.0\n",
      "nan\n",
      "38.0\n",
      "22.0\n",
      "19.0\n",
      "20.5\n",
      "18.0\n",
      "nan\n",
      "35.0\n",
      "29.0\n",
      "59.0\n",
      "5.0\n",
      "24.0\n",
      "nan\n",
      "44.0\n",
      "8.0\n",
      "19.0\n",
      "33.0\n",
      "nan\n",
      "nan\n",
      "29.0\n",
      "22.0\n",
      "30.0\n",
      "44.0\n",
      "25.0\n",
      "24.0\n",
      "37.0\n",
      "54.0\n",
      "nan\n",
      "29.0\n",
      "62.0\n",
      "30.0\n",
      "41.0\n",
      "29.0\n",
      "nan\n",
      "30.0\n",
      "35.0\n",
      "50.0\n",
      "nan\n",
      "3.0\n",
      "52.0\n",
      "40.0\n",
      "nan\n",
      "36.0\n",
      "16.0\n",
      "25.0\n",
      "58.0\n",
      "35.0\n",
      "nan\n",
      "25.0\n",
      "41.0\n",
      "37.0\n",
      "nan\n",
      "63.0\n",
      "45.0\n",
      "nan\n",
      "7.0\n",
      "35.0\n",
      "65.0\n",
      "28.0\n",
      "16.0\n",
      "19.0\n",
      "nan\n",
      "33.0\n",
      "30.0\n",
      "22.0\n",
      "42.0\n",
      "22.0\n",
      "26.0\n",
      "19.0\n",
      "36.0\n",
      "24.0\n",
      "24.0\n",
      "nan\n",
      "23.5\n",
      "2.0\n",
      "nan\n",
      "50.0\n",
      "nan\n",
      "nan\n",
      "19.0\n",
      "nan\n",
      "nan\n",
      "0.92\n",
      "nan\n",
      "17.0\n",
      "30.0\n",
      "30.0\n",
      "24.0\n",
      "18.0\n",
      "26.0\n",
      "28.0\n",
      "43.0\n",
      "26.0\n",
      "24.0\n",
      "54.0\n",
      "31.0\n",
      "40.0\n",
      "22.0\n",
      "27.0\n",
      "30.0\n",
      "22.0\n",
      "nan\n",
      "36.0\n",
      "61.0\n",
      "36.0\n",
      "31.0\n",
      "16.0\n",
      "nan\n",
      "45.5\n",
      "38.0\n",
      "16.0\n",
      "nan\n",
      "nan\n",
      "29.0\n",
      "41.0\n",
      "45.0\n",
      "45.0\n",
      "2.0\n",
      "24.0\n",
      "28.0\n",
      "25.0\n",
      "36.0\n",
      "24.0\n",
      "40.0\n",
      "nan\n",
      "3.0\n",
      "42.0\n",
      "23.0\n",
      "nan\n",
      "15.0\n",
      "25.0\n",
      "nan\n",
      "28.0\n",
      "22.0\n",
      "38.0\n",
      "nan\n",
      "nan\n",
      "40.0\n",
      "29.0\n",
      "45.0\n",
      "35.0\n",
      "nan\n",
      "30.0\n",
      "60.0\n",
      "nan\n",
      "nan\n",
      "24.0\n",
      "25.0\n",
      "18.0\n",
      "19.0\n",
      "22.0\n",
      "3.0\n",
      "nan\n",
      "22.0\n",
      "27.0\n",
      "20.0\n",
      "19.0\n",
      "42.0\n",
      "1.0\n",
      "32.0\n",
      "35.0\n",
      "nan\n",
      "18.0\n",
      "1.0\n",
      "36.0\n",
      "nan\n",
      "17.0\n",
      "36.0\n",
      "21.0\n",
      "28.0\n",
      "23.0\n",
      "24.0\n",
      "22.0\n",
      "31.0\n",
      "46.0\n",
      "23.0\n",
      "28.0\n",
      "39.0\n",
      "26.0\n",
      "21.0\n",
      "28.0\n",
      "20.0\n",
      "34.0\n",
      "51.0\n",
      "3.0\n",
      "21.0\n",
      "nan\n",
      "nan\n",
      "nan\n",
      "33.0\n",
      "nan\n",
      "44.0\n",
      "nan\n",
      "34.0\n",
      "18.0\n",
      "30.0\n",
      "10.0\n",
      "nan\n",
      "21.0\n",
      "29.0\n",
      "28.0\n",
      "18.0\n",
      "nan\n",
      "28.0\n",
      "19.0\n",
      "nan\n",
      "32.0\n",
      "28.0\n",
      "nan\n",
      "42.0\n",
      "17.0\n",
      "50.0\n",
      "14.0\n",
      "21.0\n",
      "24.0\n",
      "64.0\n",
      "31.0\n",
      "45.0\n",
      "20.0\n",
      "25.0\n",
      "28.0\n",
      "nan\n",
      "4.0\n",
      "13.0\n",
      "34.0\n",
      "5.0\n",
      "52.0\n",
      "36.0\n",
      "nan\n",
      "30.0\n",
      "49.0\n",
      "nan\n",
      "29.0\n",
      "65.0\n",
      "nan\n",
      "50.0\n",
      "nan\n",
      "48.0\n",
      "34.0\n",
      "47.0\n",
      "48.0\n",
      "nan\n",
      "38.0\n",
      "nan\n",
      "56.0\n",
      "nan\n",
      "0.75\n",
      "nan\n",
      "38.0\n",
      "33.0\n",
      "23.0\n",
      "22.0\n",
      "nan\n",
      "34.0\n",
      "29.0\n",
      "22.0\n",
      "2.0\n",
      "9.0\n",
      "nan\n",
      "50.0\n",
      "63.0\n",
      "25.0\n",
      "nan\n",
      "35.0\n",
      "58.0\n",
      "30.0\n",
      "9.0\n",
      "nan\n",
      "21.0\n",
      "55.0\n",
      "71.0\n",
      "21.0\n",
      "nan\n",
      "54.0\n",
      "nan\n",
      "25.0\n",
      "24.0\n",
      "17.0\n",
      "21.0\n",
      "nan\n",
      "37.0\n",
      "16.0\n",
      "18.0\n",
      "33.0\n",
      "nan\n",
      "28.0\n",
      "26.0\n",
      "29.0\n",
      "nan\n",
      "36.0\n",
      "54.0\n",
      "24.0\n",
      "47.0\n",
      "34.0\n",
      "nan\n",
      "36.0\n",
      "32.0\n",
      "30.0\n",
      "22.0\n",
      "nan\n",
      "44.0\n",
      "nan\n",
      "40.5\n",
      "50.0\n",
      "nan\n",
      "39.0\n",
      "23.0\n",
      "2.0\n",
      "nan\n",
      "17.0\n",
      "nan\n",
      "30.0\n",
      "7.0\n",
      "45.0\n",
      "30.0\n",
      "nan\n",
      "22.0\n",
      "36.0\n",
      "9.0\n",
      "11.0\n",
      "32.0\n",
      "50.0\n",
      "64.0\n",
      "19.0\n",
      "nan\n",
      "33.0\n",
      "8.0\n",
      "17.0\n",
      "27.0\n",
      "nan\n",
      "22.0\n",
      "22.0\n",
      "62.0\n",
      "48.0\n",
      "nan\n",
      "39.0\n",
      "36.0\n",
      "nan\n",
      "40.0\n",
      "28.0\n",
      "nan\n",
      "nan\n",
      "24.0\n",
      "19.0\n",
      "29.0\n",
      "nan\n",
      "32.0\n",
      "62.0\n",
      "53.0\n",
      "36.0\n",
      "nan\n",
      "16.0\n",
      "19.0\n",
      "34.0\n",
      "39.0\n",
      "nan\n",
      "32.0\n",
      "25.0\n",
      "39.0\n",
      "54.0\n",
      "36.0\n",
      "nan\n",
      "18.0\n",
      "47.0\n",
      "60.0\n",
      "22.0\n",
      "nan\n",
      "35.0\n",
      "52.0\n",
      "47.0\n",
      "nan\n",
      "37.0\n",
      "36.0\n",
      "nan\n",
      "49.0\n",
      "nan\n",
      "49.0\n",
      "24.0\n",
      "nan\n",
      "nan\n",
      "44.0\n",
      "35.0\n",
      "36.0\n",
      "30.0\n",
      "27.0\n",
      "22.0\n",
      "40.0\n",
      "39.0\n",
      "nan\n",
      "nan\n",
      "nan\n",
      "35.0\n",
      "24.0\n",
      "34.0\n",
      "26.0\n",
      "4.0\n",
      "26.0\n",
      "27.0\n",
      "42.0\n",
      "20.0\n",
      "21.0\n",
      "21.0\n",
      "61.0\n",
      "57.0\n",
      "21.0\n",
      "26.0\n",
      "nan\n",
      "80.0\n",
      "51.0\n",
      "32.0\n",
      "nan\n",
      "9.0\n",
      "28.0\n",
      "32.0\n",
      "31.0\n",
      "41.0\n",
      "nan\n",
      "20.0\n",
      "24.0\n",
      "2.0\n",
      "nan\n",
      "0.75\n",
      "48.0\n",
      "19.0\n",
      "56.0\n",
      "nan\n",
      "23.0\n",
      "nan\n",
      "18.0\n",
      "21.0\n",
      "nan\n",
      "18.0\n",
      "24.0\n",
      "nan\n",
      "32.0\n",
      "23.0\n",
      "58.0\n",
      "50.0\n",
      "40.0\n",
      "47.0\n",
      "36.0\n",
      "20.0\n",
      "32.0\n",
      "25.0\n",
      "nan\n",
      "43.0\n",
      "nan\n",
      "40.0\n",
      "31.0\n",
      "70.0\n",
      "31.0\n",
      "nan\n",
      "18.0\n",
      "24.5\n",
      "18.0\n",
      "43.0\n",
      "36.0\n",
      "nan\n",
      "27.0\n",
      "20.0\n",
      "14.0\n",
      "60.0\n",
      "25.0\n",
      "14.0\n",
      "19.0\n",
      "18.0\n",
      "15.0\n",
      "31.0\n",
      "4.0\n",
      "nan\n",
      "25.0\n",
      "60.0\n",
      "52.0\n",
      "44.0\n",
      "nan\n",
      "49.0\n",
      "42.0\n",
      "18.0\n",
      "35.0\n",
      "18.0\n",
      "25.0\n",
      "26.0\n",
      "39.0\n",
      "45.0\n",
      "42.0\n",
      "22.0\n",
      "nan\n",
      "24.0\n",
      "nan\n",
      "48.0\n",
      "29.0\n",
      "52.0\n",
      "19.0\n",
      "38.0\n",
      "27.0\n",
      "nan\n",
      "33.0\n",
      "6.0\n",
      "17.0\n",
      "34.0\n",
      "50.0\n",
      "27.0\n",
      "20.0\n",
      "30.0\n",
      "nan\n",
      "25.0\n",
      "25.0\n",
      "29.0\n",
      "11.0\n",
      "nan\n",
      "23.0\n",
      "23.0\n",
      "28.5\n",
      "48.0\n",
      "35.0\n",
      "nan\n",
      "nan\n",
      "nan\n",
      "36.0\n",
      "21.0\n",
      "24.0\n",
      "31.0\n",
      "70.0\n",
      "16.0\n",
      "30.0\n",
      "19.0\n",
      "31.0\n",
      "4.0\n",
      "6.0\n",
      "33.0\n",
      "23.0\n",
      "48.0\n",
      "0.67\n",
      "28.0\n",
      "18.0\n",
      "34.0\n",
      "33.0\n",
      "nan\n",
      "41.0\n",
      "20.0\n",
      "36.0\n",
      "16.0\n",
      "51.0\n",
      "nan\n",
      "30.5\n",
      "nan\n",
      "32.0\n",
      "24.0\n",
      "48.0\n",
      "57.0\n",
      "nan\n",
      "54.0\n",
      "18.0\n",
      "nan\n",
      "5.0\n",
      "nan\n",
      "43.0\n",
      "13.0\n",
      "17.0\n",
      "29.0\n",
      "nan\n",
      "25.0\n",
      "25.0\n",
      "18.0\n",
      "8.0\n",
      "1.0\n",
      "46.0\n",
      "nan\n",
      "16.0\n",
      "nan\n",
      "nan\n",
      "25.0\n",
      "39.0\n",
      "49.0\n",
      "31.0\n",
      "30.0\n",
      "30.0\n",
      "34.0\n",
      "31.0\n",
      "11.0\n",
      "0.42\n",
      "27.0\n",
      "31.0\n",
      "39.0\n",
      "18.0\n",
      "39.0\n",
      "33.0\n",
      "26.0\n",
      "39.0\n",
      "35.0\n",
      "6.0\n",
      "30.5\n",
      "nan\n",
      "23.0\n",
      "31.0\n",
      "43.0\n",
      "10.0\n",
      "52.0\n",
      "27.0\n",
      "38.0\n",
      "27.0\n",
      "2.0\n",
      "nan\n",
      "nan\n",
      "1.0\n",
      "nan\n",
      "62.0\n",
      "15.0\n",
      "0.83\n",
      "nan\n",
      "23.0\n",
      "18.0\n",
      "39.0\n",
      "21.0\n",
      "nan\n",
      "32.0\n",
      "nan\n",
      "20.0\n",
      "16.0\n",
      "30.0\n",
      "34.5\n",
      "17.0\n",
      "42.0\n",
      "nan\n",
      "35.0\n",
      "28.0\n",
      "nan\n",
      "4.0\n",
      "74.0\n",
      "9.0\n",
      "16.0\n",
      "44.0\n",
      "18.0\n",
      "45.0\n",
      "51.0\n",
      "24.0\n",
      "nan\n",
      "41.0\n",
      "21.0\n",
      "48.0\n",
      "nan\n",
      "24.0\n",
      "42.0\n",
      "27.0\n",
      "31.0\n",
      "nan\n",
      "4.0\n",
      "26.0\n",
      "47.0\n",
      "33.0\n",
      "47.0\n",
      "28.0\n",
      "15.0\n",
      "20.0\n",
      "19.0\n",
      "nan\n",
      "56.0\n",
      "25.0\n",
      "33.0\n",
      "22.0\n",
      "28.0\n",
      "25.0\n",
      "39.0\n",
      "27.0\n",
      "19.0\n",
      "nan\n",
      "26.0\n",
      "32.0\n"
     ]
    },
    {
     "data": {
      "text/plain": [
       "PassengerId\n",
       "1      None\n",
       "2      None\n",
       "3      None\n",
       "4      None\n",
       "5      None\n",
       "       ... \n",
       "887    None\n",
       "888    None\n",
       "889    None\n",
       "890    None\n",
       "891    None\n",
       "Length: 891, dtype: object"
      ]
     },
     "execution_count": 142,
     "metadata": {},
     "output_type": "execute_result"
    }
   ],
   "source": [
    "# pd.apply() : 사용자가 정의한 복잡한 기능을 하는 함수를 판다스 객체에 적용할 때 사용하는 함수\n",
    "def test_print(data):\n",
    "    print(data[\"Age\"])\n",
    "    \n",
    "# 행 방향으로 진행\n",
    "train[['Pclass','Age']].apply(test_print, axis=1)"
   ]
  },
  {
   "cell_type": "code",
   "execution_count": 143,
   "metadata": {},
   "outputs": [],
   "source": [
    "# 나이 결측치 채워주는 자동화 코드 생성하기\n",
    "def fill_age(row):\n",
    "    # 만약 나이가 결측치 라면 gb1에서 나이 평균 값을 가져와보자\n",
    "    # 아니면 원래 나이 값을 사용하기\n",
    "    # 1인 데이터를 확인하려면 행단위 처리, 열방향으로 데이터 확인\n",
    "    if np.isnan(row['Age']):\n",
    "        age = gb1.loc[(row['Pclass'],row['Sex'])]\n",
    "        return age\n",
    "    else:\n",
    "        return row['Age']\n",
    "    \n"
   ]
  },
  {
   "cell_type": "code",
   "execution_count": 144,
   "metadata": {},
   "outputs": [
    {
     "data": {
      "text/plain": [
       "0"
      ]
     },
     "execution_count": 144,
     "metadata": {},
     "output_type": "execute_result"
    }
   ],
   "source": [
    "train['Age'] = train.apply(fill_age, axis=1).astype('int64')\n",
    "#train.info()\n",
    "train['Age'].isnull().sum()"
   ]
  },
  {
   "cell_type": "code",
   "execution_count": 145,
   "metadata": {},
   "outputs": [
    {
     "data": {
      "text/plain": [
       "0"
      ]
     },
     "execution_count": 145,
     "metadata": {},
     "output_type": "execute_result"
    }
   ],
   "source": [
    "#test age 결측치 채우기\n",
    "\n",
    "test['Age'] = test.apply(fill_age, axis=1).astype('int64')\n",
    "\n",
    "# 결측치 확인\n",
    "#test.info()\n",
    "test['Age'].isnull().sum()"
   ]
  },
  {
   "attachments": {},
   "cell_type": "markdown",
   "metadata": {},
   "source": [
    "#### 3.5 Cabin 결측치 채우기"
   ]
  },
  {
   "cell_type": "code",
   "execution_count": 146,
   "metadata": {},
   "outputs": [],
   "source": [
    "# 요소 데이터 확인해보기\n",
    "train['Cabin'].unique()\n",
    "\n",
    "# nan 값을 임의의 알파벳으로 채우기\n",
    "\n",
    "train['Deck'] = train['Cabin'].fillna(\"M\")\n",
    "test['Deck'] = test['Cabin'].fillna(\"M\")"
   ]
  },
  {
   "cell_type": "code",
   "execution_count": 147,
   "metadata": {},
   "outputs": [],
   "source": [
    "# 알파벳만 추출하기, 문자열의 인덱스 번호 0 번째\n",
    "train[\"Deck\"]=train[\"Deck\"].str[0]\n",
    "test[\"Deck\"]=test[\"Deck\"].str[0]"
   ]
  },
  {
   "cell_type": "code",
   "execution_count": 148,
   "metadata": {},
   "outputs": [],
   "source": [
    "#Cabin 컬럼은 삭제 train, test\n",
    "\n",
    "train.drop(\"Cabin\", axis=1, inplace=True)\n",
    "test.drop(\"Cabin\", axis=1, inplace=True)"
   ]
  },
  {
   "cell_type": "code",
   "execution_count": 149,
   "metadata": {},
   "outputs": [
    {
     "name": "stdout",
     "output_type": "stream",
     "text": [
      "<class 'pandas.core.frame.DataFrame'>\n",
      "Int64Index: 891 entries, 1 to 891\n",
      "Data columns (total 11 columns):\n",
      " #   Column    Non-Null Count  Dtype  \n",
      "---  ------    --------------  -----  \n",
      " 0   Survived  891 non-null    int64  \n",
      " 1   Pclass    891 non-null    int64  \n",
      " 2   Name      891 non-null    object \n",
      " 3   Sex       891 non-null    object \n",
      " 4   Age       891 non-null    int64  \n",
      " 5   SibSp     891 non-null    int64  \n",
      " 6   Parch     891 non-null    int64  \n",
      " 7   Ticket    891 non-null    object \n",
      " 8   Fare      891 non-null    float64\n",
      " 9   Embarked  891 non-null    object \n",
      " 10  Deck      891 non-null    object \n",
      "dtypes: float64(1), int64(5), object(5)\n",
      "memory usage: 83.5+ KB\n",
      "<class 'pandas.core.frame.DataFrame'>\n",
      "Int64Index: 418 entries, 892 to 1309\n",
      "Data columns (total 10 columns):\n",
      " #   Column    Non-Null Count  Dtype  \n",
      "---  ------    --------------  -----  \n",
      " 0   Pclass    418 non-null    int64  \n",
      " 1   Name      418 non-null    object \n",
      " 2   Sex       418 non-null    object \n",
      " 3   Age       418 non-null    int64  \n",
      " 4   SibSp     418 non-null    int64  \n",
      " 5   Parch     418 non-null    int64  \n",
      " 6   Ticket    418 non-null    object \n",
      " 7   Fare      418 non-null    float64\n",
      " 8   Embarked  418 non-null    object \n",
      " 9   Deck      418 non-null    object \n",
      "dtypes: float64(1), int64(4), object(5)\n",
      "memory usage: 35.9+ KB\n"
     ]
    }
   ],
   "source": [
    "train.info()\n",
    "test.info()"
   ]
  },
  {
   "attachments": {},
   "cell_type": "markdown",
   "metadata": {},
   "source": [
    "#### 3.6 데이터 탐색\n",
    "- train데이터를 기준으로 탐색함\n",
    "- test를 탐색하는 것은 모델의 일반화에 도움이 x\n",
    "  "
   ]
  },
  {
   "attachments": {},
   "cell_type": "markdown",
   "metadata": {},
   "source": [
    "#### 3.7 범주형 데이터 살펴보기\n",
    "##### Deck 시각화"
   ]
  },
  {
   "cell_type": "code",
   "execution_count": 150,
   "metadata": {},
   "outputs": [
    {
     "data": {
      "text/html": [
       "<div>\n",
       "<style scoped>\n",
       "    .dataframe tbody tr th:only-of-type {\n",
       "        vertical-align: middle;\n",
       "    }\n",
       "\n",
       "    .dataframe tbody tr th {\n",
       "        vertical-align: top;\n",
       "    }\n",
       "\n",
       "    .dataframe thead th {\n",
       "        text-align: right;\n",
       "    }\n",
       "</style>\n",
       "<table border=\"1\" class=\"dataframe\">\n",
       "  <thead>\n",
       "    <tr style=\"text-align: right;\">\n",
       "      <th></th>\n",
       "      <th></th>\n",
       "      <th>Name</th>\n",
       "    </tr>\n",
       "    <tr>\n",
       "      <th>Deck</th>\n",
       "      <th>Survived</th>\n",
       "      <th></th>\n",
       "    </tr>\n",
       "  </thead>\n",
       "  <tbody>\n",
       "    <tr>\n",
       "      <th rowspan=\"2\" valign=\"top\">A</th>\n",
       "      <th>0</th>\n",
       "      <td>8</td>\n",
       "    </tr>\n",
       "    <tr>\n",
       "      <th>1</th>\n",
       "      <td>7</td>\n",
       "    </tr>\n",
       "    <tr>\n",
       "      <th rowspan=\"2\" valign=\"top\">B</th>\n",
       "      <th>0</th>\n",
       "      <td>12</td>\n",
       "    </tr>\n",
       "    <tr>\n",
       "      <th>1</th>\n",
       "      <td>35</td>\n",
       "    </tr>\n",
       "    <tr>\n",
       "      <th rowspan=\"2\" valign=\"top\">C</th>\n",
       "      <th>0</th>\n",
       "      <td>24</td>\n",
       "    </tr>\n",
       "    <tr>\n",
       "      <th>1</th>\n",
       "      <td>35</td>\n",
       "    </tr>\n",
       "    <tr>\n",
       "      <th rowspan=\"2\" valign=\"top\">D</th>\n",
       "      <th>0</th>\n",
       "      <td>8</td>\n",
       "    </tr>\n",
       "    <tr>\n",
       "      <th>1</th>\n",
       "      <td>25</td>\n",
       "    </tr>\n",
       "    <tr>\n",
       "      <th rowspan=\"2\" valign=\"top\">E</th>\n",
       "      <th>0</th>\n",
       "      <td>8</td>\n",
       "    </tr>\n",
       "    <tr>\n",
       "      <th>1</th>\n",
       "      <td>24</td>\n",
       "    </tr>\n",
       "    <tr>\n",
       "      <th rowspan=\"2\" valign=\"top\">F</th>\n",
       "      <th>0</th>\n",
       "      <td>5</td>\n",
       "    </tr>\n",
       "    <tr>\n",
       "      <th>1</th>\n",
       "      <td>8</td>\n",
       "    </tr>\n",
       "    <tr>\n",
       "      <th rowspan=\"2\" valign=\"top\">G</th>\n",
       "      <th>0</th>\n",
       "      <td>2</td>\n",
       "    </tr>\n",
       "    <tr>\n",
       "      <th>1</th>\n",
       "      <td>2</td>\n",
       "    </tr>\n",
       "    <tr>\n",
       "      <th rowspan=\"2\" valign=\"top\">M</th>\n",
       "      <th>0</th>\n",
       "      <td>481</td>\n",
       "    </tr>\n",
       "    <tr>\n",
       "      <th>1</th>\n",
       "      <td>206</td>\n",
       "    </tr>\n",
       "    <tr>\n",
       "      <th>T</th>\n",
       "      <th>0</th>\n",
       "      <td>1</td>\n",
       "    </tr>\n",
       "  </tbody>\n",
       "</table>\n",
       "</div>"
      ],
      "text/plain": [
       "               Name\n",
       "Deck Survived      \n",
       "A    0            8\n",
       "     1            7\n",
       "B    0           12\n",
       "     1           35\n",
       "C    0           24\n",
       "     1           35\n",
       "D    0            8\n",
       "     1           25\n",
       "E    0            8\n",
       "     1           24\n",
       "F    0            5\n",
       "     1            8\n",
       "G    0            2\n",
       "     1            2\n",
       "M    0          481\n",
       "     1          206\n",
       "T    0            1"
      ]
     },
     "execution_count": 150,
     "metadata": {},
     "output_type": "execute_result"
    }
   ],
   "source": [
    "# M에 대한 의미를 살펴보기.\n",
    "# Deck 기준으로 생존/사망한 사람의 숫자 세어보기\n",
    "# \"Name\" 사람의 수를 체크하기 위해서 사용\n",
    "train_deck = train[['Deck','Survived','Name']].groupby(['Deck','Survived']).count()\n",
    "train_deck\n",
    "\n",
    "# 0 사망 , 1 생존\n",
    "\n",
    "# M에서는 사망한 사람도 많고, 생존한 사람도 많지만 상대적으로 사망한 사람이 더 많다\n",
    "# M이라는 값은 생존/사망 나름대로 영향을 주지 않았을까?\n"
   ]
  },
  {
   "cell_type": "code",
   "execution_count": 151,
   "metadata": {},
   "outputs": [
    {
     "data": {
      "image/png": "[encoded data removed]",
      "text/plain": [
       "<Figure size 1000x600 with 1 Axes>"
      ]
     },
     "metadata": {},
     "output_type": "display_data"
    }
   ],
   "source": [
    "# 시각화\n",
    "plt.figure(figsize=(10,6))\n",
    "sns.countplot(data = train, x='Deck', hue='Survived')\n",
    "plt.show()"
   ]
  },
  {
   "attachments": {},
   "cell_type": "markdown",
   "metadata": {},
   "source": [
    "##### Pclass 시각화"
   ]
  },
  {
   "cell_type": "code",
   "execution_count": 152,
   "metadata": {},
   "outputs": [
    {
     "data": {
      "image/png": "[encoded data removed]",
      "text/plain": [
       "<Figure size 640x480 with 1 Axes>"
      ]
     },
     "metadata": {},
     "output_type": "display_data"
    }
   ],
   "source": [
    "sns.countplot(data=train, x='Pclass', hue = 'Survived')\n",
    "plt.show()\n",
    "\n",
    "# 3등급 하위계층 사람들이 많이 사망함"
   ]
  },
  {
   "attachments": {},
   "cell_type": "markdown",
   "metadata": {},
   "source": [
    "##### Pclass과 Deck 클래스 시각화"
   ]
  },
  {
   "cell_type": "code",
   "execution_count": 153,
   "metadata": {},
   "outputs": [
    {
     "data": {
      "image/png": "[encoded data removed]",
      "text/plain": [
       "<Figure size 640x480 with 1 Axes>"
      ]
     },
     "metadata": {},
     "output_type": "display_data"
    }
   ],
   "source": [
    "sns.countplot(data = train, x='Deck', hue=\"Pclass\")\n",
    "plt.show()\n",
    "\n",
    "# M위치에는 3등급에 대한 사람이 많다."
   ]
  },
  {
   "cell_type": "code",
   "execution_count": 154,
   "metadata": {},
   "outputs": [],
   "source": [
    "# M에 대한 의미를 살펴보니 3등급의 사람들이 많이 포함되어 있어서 사망률이 높게 나옴\n",
    "# M 자체에는 생존/사망 결정하는 큰 요소가 없음\n",
    "# M에 대한 의미를 더 파악해볼 필요가 없다, 전처리 필요 x"
   ]
  },
  {
   "attachments": {},
   "cell_type": "markdown",
   "metadata": {},
   "source": [
    "q2. 성별에 따른 생존, 사망 시각화 // 승선항에 따른 생존, 사망 시각화"
   ]
  },
  {
   "cell_type": "code",
   "execution_count": 155,
   "metadata": {},
   "outputs": [
    {
     "data": {
      "image/png": "[encoded data removed]",
      "text/plain": [
       "<Figure size 640x480 with 1 Axes>"
      ]
     },
     "metadata": {},
     "output_type": "display_data"
    }
   ],
   "source": [
    "# 성별에 따른 생존자, 사망자 시각화\n",
    "sns.countplot(data=train, x='Sex', hue='Survived')\n",
    "plt.show()\n",
    "\n",
    "# 여성은 상대적으로 생존 비율이 높음\n",
    "# 남성은 상대적으로 사망 비율이 높음"
   ]
  },
  {
   "cell_type": "code",
   "execution_count": 156,
   "metadata": {},
   "outputs": [
    {
     "data": {
      "image/png": "[encoded data removed]",
      "text/plain": [
       "<Figure size 640x480 with 1 Axes>"
      ]
     },
     "metadata": {},
     "output_type": "display_data"
    }
   ],
   "source": [
    "# 승선항에 따른 생존자, 사망자 시각화\n",
    "sns.countplot(data=train, x='Embarked', hue='Survived')\n",
    "plt.show()"
   ]
  },
  {
   "attachments": {},
   "cell_type": "markdown",
   "metadata": {},
   "source": [
    "#### 3.8 수치형 데이터 살펴보기\n",
    "##### Age 시각화 - 성별 데이터도 연결 생존/사망 확인"
   ]
  },
  {
   "cell_type": "code",
   "execution_count": 157,
   "metadata": {},
   "outputs": [
    {
     "data": {
      "image/png": "[encoded data removed]",
      "text/plain": [
       "<Figure size 1500x500 with 1 Axes>"
      ]
     },
     "metadata": {},
     "output_type": "display_data"
    }
   ],
   "source": [
    "# violinplot(): 바이올린 모양과 비슷, 데이터의 분포를 확인할 때 사용하는 그래프\n",
    "# y =age , x= sex 분포 : Survived\n",
    "plt.figure(figsize=(15,5))\n",
    "sns.violinplot(data = train, x='Sex',y='Age', hue ='Survived', split=True)\n",
    "plt.ylim(0,85) # y축 범위 제한\n",
    "plt.show()"
   ]
  },
  {
   "cell_type": "code",
   "execution_count": 158,
   "metadata": {},
   "outputs": [],
   "source": [
    "# 어린 아이들의 생존율은?\n",
    "# 상대적으로 남자 아이가 여자 아이에 비해서 많이 살았다."
   ]
  },
  {
   "cell_type": "markdown",
   "metadata": {},
   "source": [
    "##### Fare 시각화 - 성별 데이터도 연결 생존/사망 확인"
   ]
  },
  {
   "cell_type": "code",
   "execution_count": 159,
   "metadata": {},
   "outputs": [
    {
     "data": {
      "image/png": "[encoded data removed]",
      "text/plain": [
       "<Figure size 1500x500 with 1 Axes>"
      ]
     },
     "metadata": {},
     "output_type": "display_data"
    }
   ],
   "source": [
    "# violinplot(): 바이올린 모양과 비슷, 데이터의 분포를 확인할 때 사용하는 그래프\n",
    "# y =age , x= sex 분포 : Survived\n",
    "plt.figure(figsize=(15,5))\n",
    "sns.violinplot(data = train, x='Sex',y='Fare', hue ='Survived', split=True)\n",
    "plt.ylim(0,530) # y축 범위 제한\n",
    "plt.show()\n",
    "\n",
    "# 요금이 낮은 사람은 상대적으로 많이 사망함"
   ]
  },
  {
   "attachments": {},
   "cell_type": "markdown",
   "metadata": {},
   "source": [
    "#### 3.9 Parch, SibSp -부모자식, 형제 배우자수\n",
    "- 특성공학 : 가족의 수라는 컬럼 생성(Parents + Sibsp+1)\n",
    "- train에 적용했으면, test에도 적용한다."
   ]
  },
  {
   "cell_type": "code",
   "execution_count": 160,
   "metadata": {},
   "outputs": [],
   "source": [
    "# 배열 연산\n",
    "train['Family_Size'] = train['Parch'] + train['SibSp'] +1\n",
    "test['Family_Size'] = test['Parch'] + test['SibSp'] +1"
   ]
  },
  {
   "cell_type": "code",
   "execution_count": 161,
   "metadata": {},
   "outputs": [
    {
     "data": {
      "image/png": "[encoded data removed]",
      "text/plain": [
       "<Figure size 640x480 with 1 Axes>"
      ]
     },
     "metadata": {},
     "output_type": "display_data"
    }
   ],
   "source": [
    "# 시각화 연결하기\n",
    "# 가족의 수에 따른 생존/사망 확인\n",
    "train['Family_Size'].value_counts()\n",
    "\n",
    "sns.countplot(data = train, x='Family_Size', hue=\"Survived\")\n",
    "plt.show()"
   ]
  },
  {
   "cell_type": "code",
   "execution_count": 162,
   "metadata": {},
   "outputs": [],
   "source": [
    "# 3개의 범주로 좁힐 수 있음.\n",
    "# 같은 의미를 내포한다면 범위(카테고리) 를 줄여보자 \n",
    "# => binning(사소한 관찰의 오류를 줄일 수 있다.)\n",
    "\n",
    "# 1명일때는 사망비율이 높다\n",
    "# 2~4일때는 생존 비율이 높음\n",
    "# 5명 ~이상일 때는 사망비율이 높다."
   ]
  },
  {
   "cell_type": "code",
   "execution_count": 163,
   "metadata": {},
   "outputs": [],
   "source": [
    "# pd.cut : 카테고리(범주)형식으로 데이터 정리할 때 사용하는 기능\n",
    "# 데이터 구간화\n",
    "# Alone, Small,Large 3개 범주 (구간 ) 설정\n",
    "\n",
    "bins = [0,1,4,11] # 앞에 있는 숫자값을 포함 x 뒤에 있는 숫자 값을 포함한다.\n",
    "labels = [\"Alone\", \"Small\", \"Large\"]\n",
    "train['Family_group'] = pd.cut(train['Family_Size'], bins=bins, labels=labels)\n",
    "test['Family_group'] = pd.cut(test['Family_Size'], bins=bins, labels=labels)"
   ]
  },
  {
   "cell_type": "code",
   "execution_count": 164,
   "metadata": {},
   "outputs": [
    {
     "data": {
      "text/plain": [
       "PassengerId\n",
       "1    Small\n",
       "2    Small\n",
       "3    Alone\n",
       "4    Small\n",
       "5    Alone\n",
       "Name: Family_group, dtype: category\n",
       "Categories (3, object): ['Alone' < 'Small' < 'Large']"
      ]
     },
     "execution_count": 164,
     "metadata": {},
     "output_type": "execute_result"
    }
   ],
   "source": [
    "train['Family_group'].head()"
   ]
  },
  {
   "cell_type": "code",
   "execution_count": 165,
   "metadata": {},
   "outputs": [
    {
     "data": {
      "image/png": "[encoded data removed]",
      "text/plain": [
       "<Figure size 640x480 with 1 Axes>"
      ]
     },
     "metadata": {},
     "output_type": "display_data"
    }
   ],
   "source": [
    "# 시각화 연결하기\n",
    "train['Family_group'].value_counts()\n",
    "\n",
    "sns.countplot(data = train, x='Family_group', hue=\"Survived\")\n",
    "plt.show()"
   ]
  },
  {
   "attachments": {},
   "cell_type": "markdown",
   "metadata": {},
   "source": [
    "#### 3.10 Text 데이터 다루기\n",
    "##### 중간 호칭 추출해보기"
   ]
  },
  {
   "cell_type": "code",
   "execution_count": 166,
   "metadata": {},
   "outputs": [
    {
     "data": {
      "text/plain": [
       "'Mr'"
      ]
     },
     "execution_count": 166,
     "metadata": {},
     "output_type": "execute_result"
    }
   ],
   "source": [
    "# 이름 컬럼 접근해서 내용 확인\n",
    "# train 기준으로 탐색\n",
    "# strip() -> 문장 앞뒤로 공백을 제거하는 함수\n",
    "# lstrip() -> 문장 왼쪽 공백 제거하는 함수\n",
    "# rstrip() -> 문장 오른쪽 공백 제거하는 함수\n",
    "\n",
    "temp = train['Name'][1].split(\",\")[1].split(\".\")[0].strip()\n",
    "temp\n"
   ]
  },
  {
   "cell_type": "code",
   "execution_count": 167,
   "metadata": {},
   "outputs": [
    {
     "data": {
      "text/plain": [
       "PassengerId\n",
       "1        Mr\n",
       "2       Mrs\n",
       "3      Miss\n",
       "4       Mrs\n",
       "5        Mr\n",
       "       ... \n",
       "887     Rev\n",
       "888    Miss\n",
       "889    Miss\n",
       "890      Mr\n",
       "891      Mr\n",
       "Name: Title, Length: 891, dtype: object"
      ]
     },
     "execution_count": 167,
     "metadata": {},
     "output_type": "execute_result"
    }
   ],
   "source": [
    "# 호칭 추출하는 함수 정의하기 (사용자 정의 함수)\n",
    "\n",
    "def split_title(row):\n",
    "    return row.split(\",\")[1].split(\".\")[0].strip()\n",
    "\n",
    "# apply \n",
    "# 데이터 1차원 -> 방향 적용 필요 x\n",
    "train['Title'] = train['Name'].apply(split_title)\n",
    "test['Title'] = test['Name'].apply(split_title)\n",
    "train['Title']"
   ]
  },
  {
   "cell_type": "code",
   "execution_count": 168,
   "metadata": {},
   "outputs": [
    {
     "data": {
      "text/plain": [
       "Mr              517\n",
       "Miss            182\n",
       "Mrs             125\n",
       "Master           40\n",
       "Dr                7\n",
       "Rev               6\n",
       "Mlle              2\n",
       "Major             2\n",
       "Col               2\n",
       "the Countess      1\n",
       "Capt              1\n",
       "Ms                1\n",
       "Sir               1\n",
       "Lady              1\n",
       "Mme               1\n",
       "Don               1\n",
       "Jonkheer          1\n",
       "Name: Title, dtype: int64"
      ]
     },
     "execution_count": 168,
     "metadata": {},
     "output_type": "execute_result"
    }
   ],
   "source": [
    "train['Title'].value_counts()"
   ]
  },
  {
   "cell_type": "code",
   "execution_count": 169,
   "metadata": {},
   "outputs": [
    {
     "data": {
      "text/plain": [
       "array(['Mr', 'Mrs', 'Miss', 'Master', 'Don', 'Rev', 'Dr', 'Mme', 'Ms',\n",
       "       'Major', 'Lady', 'Sir', 'Mlle', 'Col', 'Capt', 'the Countess',\n",
       "       'Jonkheer'], dtype=object)"
      ]
     },
     "execution_count": 169,
     "metadata": {},
     "output_type": "execute_result"
    }
   ],
   "source": [
    "# Title 카테고리 중복 없이 확인해보기\n",
    "train['Title'].unique()\n",
    "\n",
    "# Mr 미스터 : 남성, 결혼 유무 상관 없음\n",
    "# Master : 결혼하지 않은 남성, 주로 청소년 이하\n",
    "# Ms 미즈 : 여성, 결혼 유무에 상관 없다.\n",
    "# Miss : 결혼하지 않은 여성\n",
    "# Mrs : 결혼한 여성\n",
    "# Don : 기부자\n",
    "# Rev : 목사\n",
    "# Dr : 의사 or 박사"
   ]
  },
  {
   "cell_type": "code",
   "execution_count": 170,
   "metadata": {},
   "outputs": [
    {
     "data": {
      "image/png": "[encoded data removed]",
      "text/plain": [
       "<Figure size 1500x500 with 1 Axes>"
      ]
     },
     "metadata": {},
     "output_type": "display_data"
    }
   ],
   "source": [
    "# 호칭에 따른 생존/사망 그래프 시각화\n",
    "plt.figure(figsize=(15,5))\n",
    "sns.countplot(data= train, x='Title',hue='Survived')\n",
    "plt.ylim(0,15)\n",
    "plt.show()"
   ]
  },
  {
   "cell_type": "code",
   "execution_count": 171,
   "metadata": {},
   "outputs": [
    {
     "data": {
      "text/plain": [
       "['Mr',\n",
       " 'Mrs',\n",
       " 'Miss',\n",
       " 'Master',\n",
       " 'Rev',\n",
       " 'Other',\n",
       " 'Other',\n",
       " 'Other',\n",
       " 'Other',\n",
       " 'Other',\n",
       " 'Other',\n",
       " 'Other',\n",
       " 'Other',\n",
       " 'Other',\n",
       " 'Other',\n",
       " 'Other',\n",
       " 'Other']"
      ]
     },
     "execution_count": 171,
     "metadata": {},
     "output_type": "execute_result"
    }
   ],
   "source": [
    "# Mr, Mrs, Miss, Master, Rev, Other(앞의 5개 제외한 나머지)\n",
    "\n",
    "title = ['Mr', 'Mrs', 'Miss', 'Master','Rev','Don', 'Dr', 'Mme', 'Ms',\n",
    "       'Major', 'Lady', 'Sir', 'Mlle', 'Col', 'Capt', 'the Countess',\n",
    "       'Jonkheer']\n",
    "cvt_title = ['Mr', 'Mrs', 'Miss', 'Master','Rev'] +['Other']*12\n",
    "cvt_title\n"
   ]
  },
  {
   "cell_type": "code",
   "execution_count": 172,
   "metadata": {},
   "outputs": [],
   "source": [
    "# dict\n",
    "title_dict = dict(zip(title,cvt_title))\n",
    "train['Title'] = train['Title'].map(title_dict)"
   ]
  },
  {
   "cell_type": "code",
   "execution_count": 173,
   "metadata": {},
   "outputs": [],
   "source": [
    "# test- dona 키값이 들어가 져 있어서 title_dict에 추가\n",
    "title_dict['Dona'] = \"Other\""
   ]
  },
  {
   "cell_type": "code",
   "execution_count": 174,
   "metadata": {},
   "outputs": [
    {
     "data": {
      "text/plain": [
       "array(['Mr', 'Mrs', 'Miss', 'Master', 'Ms', 'Col', 'Rev', 'Dr', 'Dona'],\n",
       "      dtype=object)"
      ]
     },
     "execution_count": 174,
     "metadata": {},
     "output_type": "execute_result"
    }
   ],
   "source": [
    "# test 데이터 확인\n",
    "test['Title'].unique()"
   ]
  },
  {
   "cell_type": "code",
   "execution_count": 180,
   "metadata": {},
   "outputs": [
    {
     "data": {
      "text/plain": [
       "array(['Mr', 'Mrs', 'Miss', 'Master', 'Other', 'Rev'], dtype=object)"
      ]
     },
     "execution_count": 180,
     "metadata": {},
     "output_type": "execute_result"
    }
   ],
   "source": [
    "test['Title'] = test['Title'].map(title_dict)\n",
    "test['Title'].unique()"
   ]
  },
  {
   "cell_type": "code",
   "execution_count": 181,
   "metadata": {},
   "outputs": [
    {
     "data": {
      "text/plain": [
       "PassengerId\n",
       "892     False\n",
       "893     False\n",
       "894     False\n",
       "895     False\n",
       "896     False\n",
       "        ...  \n",
       "1305    False\n",
       "1306    False\n",
       "1307    False\n",
       "1308    False\n",
       "1309    False\n",
       "Name: Title, Length: 418, dtype: bool"
      ]
     },
     "execution_count": 181,
     "metadata": {},
     "output_type": "execute_result"
    }
   ],
   "source": [
    "test['Title'].isnull()"
   ]
  },
  {
   "attachments": {},
   "cell_type": "markdown",
   "metadata": {},
   "source": [
    "#### 3.11 불필요한 컬럼 삭제\n",
    "- drop, 버리기!\n",
    "- 전처리에서 제외된 컬럼과 특성 공학후 불필요해진 원본 컬럼 삭제"
   ]
  },
  {
   "cell_type": "code",
   "execution_count": 182,
   "metadata": {},
   "outputs": [
    {
     "ename": "KeyError",
     "evalue": "\"['Family_Size'] not found in axis\"",
     "output_type": "error",
     "traceback": [
      "\u001b[1;31m---------------------------------------------------------------------------\u001b[0m",
      "\u001b[1;31mKeyError\u001b[0m                                  Traceback (most recent call last)",
      "Cell \u001b[1;32mIn[182], line 6\u001b[0m\n\u001b[0;32m      1\u001b[0m train\u001b[39m.\u001b[39mcolumns\n\u001b[0;32m      3\u001b[0m \u001b[39m# name, family_size, ticket 삭제\u001b[39;00m\n\u001b[0;32m      4\u001b[0m \n\u001b[0;32m      5\u001b[0m \u001b[39m# train.drop(\"Name\", axis=1, inplace=True)\u001b[39;00m\n\u001b[1;32m----> 6\u001b[0m train\u001b[39m.\u001b[39;49mdrop(\u001b[39m\"\u001b[39;49m\u001b[39mFamily_Size\u001b[39;49m\u001b[39m\"\u001b[39;49m, axis\u001b[39m=\u001b[39;49m\u001b[39m1\u001b[39;49m, inplace\u001b[39m=\u001b[39;49m\u001b[39mTrue\u001b[39;49;00m)\n\u001b[0;32m      7\u001b[0m train\u001b[39m.\u001b[39mdrop(\u001b[39m\"\u001b[39m\u001b[39mTicket\u001b[39m\u001b[39m\"\u001b[39m, axis\u001b[39m=\u001b[39m\u001b[39m1\u001b[39m, inplace\u001b[39m=\u001b[39m\u001b[39mTrue\u001b[39;00m)\n",
      "File \u001b[1;32mc:\\Users\\smhrd\\AppData\\Local\\Programs\\Python\\Python311\\Lib\\site-packages\\pandas\\util\\_decorators.py:331\u001b[0m, in \u001b[0;36mdeprecate_nonkeyword_arguments.<locals>.decorate.<locals>.wrapper\u001b[1;34m(*args, **kwargs)\u001b[0m\n\u001b[0;32m    325\u001b[0m \u001b[39mif\u001b[39;00m \u001b[39mlen\u001b[39m(args) \u001b[39m>\u001b[39m num_allow_args:\n\u001b[0;32m    326\u001b[0m     warnings\u001b[39m.\u001b[39mwarn(\n\u001b[0;32m    327\u001b[0m         msg\u001b[39m.\u001b[39mformat(arguments\u001b[39m=\u001b[39m_format_argument_list(allow_args)),\n\u001b[0;32m    328\u001b[0m         \u001b[39mFutureWarning\u001b[39;00m,\n\u001b[0;32m    329\u001b[0m         stacklevel\u001b[39m=\u001b[39mfind_stack_level(),\n\u001b[0;32m    330\u001b[0m     )\n\u001b[1;32m--> 331\u001b[0m \u001b[39mreturn\u001b[39;00m func(\u001b[39m*\u001b[39;49margs, \u001b[39m*\u001b[39;49m\u001b[39m*\u001b[39;49mkwargs)\n",
      "File \u001b[1;32mc:\\Users\\smhrd\\AppData\\Local\\Programs\\Python\\Python311\\Lib\\site-packages\\pandas\\core\\frame.py:5399\u001b[0m, in \u001b[0;36mDataFrame.drop\u001b[1;34m(self, labels, axis, index, columns, level, inplace, errors)\u001b[0m\n\u001b[0;32m   5251\u001b[0m \u001b[39m@deprecate_nonkeyword_arguments\u001b[39m(version\u001b[39m=\u001b[39m\u001b[39mNone\u001b[39;00m, allowed_args\u001b[39m=\u001b[39m[\u001b[39m\"\u001b[39m\u001b[39mself\u001b[39m\u001b[39m\"\u001b[39m, \u001b[39m\"\u001b[39m\u001b[39mlabels\u001b[39m\u001b[39m\"\u001b[39m])\n\u001b[0;32m   5252\u001b[0m \u001b[39mdef\u001b[39;00m \u001b[39mdrop\u001b[39m(  \u001b[39m# type: ignore[override]\u001b[39;00m\n\u001b[0;32m   5253\u001b[0m     \u001b[39mself\u001b[39m,\n\u001b[1;32m   (...)\u001b[0m\n\u001b[0;32m   5260\u001b[0m     errors: IgnoreRaise \u001b[39m=\u001b[39m \u001b[39m\"\u001b[39m\u001b[39mraise\u001b[39m\u001b[39m\"\u001b[39m,\n\u001b[0;32m   5261\u001b[0m ) \u001b[39m-\u001b[39m\u001b[39m>\u001b[39m DataFrame \u001b[39m|\u001b[39m \u001b[39mNone\u001b[39;00m:\n\u001b[0;32m   5262\u001b[0m \u001b[39m    \u001b[39m\u001b[39m\"\"\"\u001b[39;00m\n\u001b[0;32m   5263\u001b[0m \u001b[39m    Drop specified labels from rows or columns.\u001b[39;00m\n\u001b[0;32m   5264\u001b[0m \n\u001b[1;32m   (...)\u001b[0m\n\u001b[0;32m   5397\u001b[0m \u001b[39m            weight  1.0     0.8\u001b[39;00m\n\u001b[0;32m   5398\u001b[0m \u001b[39m    \"\"\"\u001b[39;00m\n\u001b[1;32m-> 5399\u001b[0m     \u001b[39mreturn\u001b[39;00m \u001b[39msuper\u001b[39;49m()\u001b[39m.\u001b[39;49mdrop(\n\u001b[0;32m   5400\u001b[0m         labels\u001b[39m=\u001b[39;49mlabels,\n\u001b[0;32m   5401\u001b[0m         axis\u001b[39m=\u001b[39;49maxis,\n\u001b[0;32m   5402\u001b[0m         index\u001b[39m=\u001b[39;49mindex,\n\u001b[0;32m   5403\u001b[0m         columns\u001b[39m=\u001b[39;49mcolumns,\n\u001b[0;32m   5404\u001b[0m         level\u001b[39m=\u001b[39;49mlevel,\n\u001b[0;32m   5405\u001b[0m         inplace\u001b[39m=\u001b[39;49minplace,\n\u001b[0;32m   5406\u001b[0m         errors\u001b[39m=\u001b[39;49merrors,\n\u001b[0;32m   5407\u001b[0m     )\n",
      "File \u001b[1;32mc:\\Users\\smhrd\\AppData\\Local\\Programs\\Python\\Python311\\Lib\\site-packages\\pandas\\util\\_decorators.py:331\u001b[0m, in \u001b[0;36mdeprecate_nonkeyword_arguments.<locals>.decorate.<locals>.wrapper\u001b[1;34m(*args, **kwargs)\u001b[0m\n\u001b[0;32m    325\u001b[0m \u001b[39mif\u001b[39;00m \u001b[39mlen\u001b[39m(args) \u001b[39m>\u001b[39m num_allow_args:\n\u001b[0;32m    326\u001b[0m     warnings\u001b[39m.\u001b[39mwarn(\n\u001b[0;32m    327\u001b[0m         msg\u001b[39m.\u001b[39mformat(arguments\u001b[39m=\u001b[39m_format_argument_list(allow_args)),\n\u001b[0;32m    328\u001b[0m         \u001b[39mFutureWarning\u001b[39;00m,\n\u001b[0;32m    329\u001b[0m         stacklevel\u001b[39m=\u001b[39mfind_stack_level(),\n\u001b[0;32m    330\u001b[0m     )\n\u001b[1;32m--> 331\u001b[0m \u001b[39mreturn\u001b[39;00m func(\u001b[39m*\u001b[39;49margs, \u001b[39m*\u001b[39;49m\u001b[39m*\u001b[39;49mkwargs)\n",
      "File \u001b[1;32mc:\\Users\\smhrd\\AppData\\Local\\Programs\\Python\\Python311\\Lib\\site-packages\\pandas\\core\\generic.py:4505\u001b[0m, in \u001b[0;36mNDFrame.drop\u001b[1;34m(self, labels, axis, index, columns, level, inplace, errors)\u001b[0m\n\u001b[0;32m   4503\u001b[0m \u001b[39mfor\u001b[39;00m axis, labels \u001b[39min\u001b[39;00m axes\u001b[39m.\u001b[39mitems():\n\u001b[0;32m   4504\u001b[0m     \u001b[39mif\u001b[39;00m labels \u001b[39mis\u001b[39;00m \u001b[39mnot\u001b[39;00m \u001b[39mNone\u001b[39;00m:\n\u001b[1;32m-> 4505\u001b[0m         obj \u001b[39m=\u001b[39m obj\u001b[39m.\u001b[39;49m_drop_axis(labels, axis, level\u001b[39m=\u001b[39;49mlevel, errors\u001b[39m=\u001b[39;49merrors)\n\u001b[0;32m   4507\u001b[0m \u001b[39mif\u001b[39;00m inplace:\n\u001b[0;32m   4508\u001b[0m     \u001b[39mself\u001b[39m\u001b[39m.\u001b[39m_update_inplace(obj)\n",
      "File \u001b[1;32mc:\\Users\\smhrd\\AppData\\Local\\Programs\\Python\\Python311\\Lib\\site-packages\\pandas\\core\\generic.py:4546\u001b[0m, in \u001b[0;36mNDFrame._drop_axis\u001b[1;34m(self, labels, axis, level, errors, only_slice)\u001b[0m\n\u001b[0;32m   4544\u001b[0m         new_axis \u001b[39m=\u001b[39m axis\u001b[39m.\u001b[39mdrop(labels, level\u001b[39m=\u001b[39mlevel, errors\u001b[39m=\u001b[39merrors)\n\u001b[0;32m   4545\u001b[0m     \u001b[39melse\u001b[39;00m:\n\u001b[1;32m-> 4546\u001b[0m         new_axis \u001b[39m=\u001b[39m axis\u001b[39m.\u001b[39;49mdrop(labels, errors\u001b[39m=\u001b[39;49merrors)\n\u001b[0;32m   4547\u001b[0m     indexer \u001b[39m=\u001b[39m axis\u001b[39m.\u001b[39mget_indexer(new_axis)\n\u001b[0;32m   4549\u001b[0m \u001b[39m# Case for non-unique axis\u001b[39;00m\n\u001b[0;32m   4550\u001b[0m \u001b[39melse\u001b[39;00m:\n",
      "File \u001b[1;32mc:\\Users\\smhrd\\AppData\\Local\\Programs\\Python\\Python311\\Lib\\site-packages\\pandas\\core\\indexes\\base.py:6934\u001b[0m, in \u001b[0;36mIndex.drop\u001b[1;34m(self, labels, errors)\u001b[0m\n\u001b[0;32m   6932\u001b[0m \u001b[39mif\u001b[39;00m mask\u001b[39m.\u001b[39many():\n\u001b[0;32m   6933\u001b[0m     \u001b[39mif\u001b[39;00m errors \u001b[39m!=\u001b[39m \u001b[39m\"\u001b[39m\u001b[39mignore\u001b[39m\u001b[39m\"\u001b[39m:\n\u001b[1;32m-> 6934\u001b[0m         \u001b[39mraise\u001b[39;00m \u001b[39mKeyError\u001b[39;00m(\u001b[39mf\u001b[39m\u001b[39m\"\u001b[39m\u001b[39m{\u001b[39;00m\u001b[39mlist\u001b[39m(labels[mask])\u001b[39m}\u001b[39;00m\u001b[39m not found in axis\u001b[39m\u001b[39m\"\u001b[39m)\n\u001b[0;32m   6935\u001b[0m     indexer \u001b[39m=\u001b[39m indexer[\u001b[39m~\u001b[39mmask]\n\u001b[0;32m   6936\u001b[0m \u001b[39mreturn\u001b[39;00m \u001b[39mself\u001b[39m\u001b[39m.\u001b[39mdelete(indexer)\n",
      "\u001b[1;31mKeyError\u001b[0m: \"['Family_Size'] not found in axis\""
     ]
    }
   ],
   "source": [
    "train.columns\n",
    "\n",
    "# name, family_size, ticket 삭제\n",
    "\n",
    "# train.drop(\"Name\", axis=1, inplace=True)\n",
    "train.drop(\"Family_Size\", axis=1, inplace=True)\n",
    "train.drop(\"Ticket\", axis=1, inplace=True)"
   ]
  },
  {
   "cell_type": "code",
   "execution_count": 178,
   "metadata": {},
   "outputs": [],
   "source": [
    "test.drop(\"Name\", axis=1, inplace=True)\n",
    "test.drop(\"Family_Size\", axis=1, inplace=True)\n",
    "test.drop(\"Ticket\", axis=1, inplace=True)"
   ]
  },
  {
   "cell_type": "code",
   "execution_count": 183,
   "metadata": {},
   "outputs": [
    {
     "name": "stdout",
     "output_type": "stream",
     "text": [
      "<class 'pandas.core.frame.DataFrame'>\n",
      "Int64Index: 891 entries, 1 to 891\n",
      "Data columns (total 12 columns):\n",
      " #   Column        Non-Null Count  Dtype   \n",
      "---  ------        --------------  -----   \n",
      " 0   Survived      891 non-null    int64   \n",
      " 1   Pclass        891 non-null    int64   \n",
      " 2   Name          891 non-null    object  \n",
      " 3   Sex           891 non-null    object  \n",
      " 4   Age           891 non-null    int64   \n",
      " 5   SibSp         891 non-null    int64   \n",
      " 6   Parch         891 non-null    int64   \n",
      " 7   Fare          891 non-null    float64 \n",
      " 8   Embarked      891 non-null    object  \n",
      " 9   Deck          891 non-null    object  \n",
      " 10  Family_group  891 non-null    category\n",
      " 11  Title         891 non-null    object  \n",
      "dtypes: category(1), float64(1), int64(5), object(5)\n",
      "memory usage: 116.8+ KB\n",
      "<class 'pandas.core.frame.DataFrame'>\n",
      "Int64Index: 418 entries, 892 to 1309\n",
      "Data columns (total 10 columns):\n",
      " #   Column        Non-Null Count  Dtype   \n",
      "---  ------        --------------  -----   \n",
      " 0   Pclass        418 non-null    int64   \n",
      " 1   Sex           418 non-null    object  \n",
      " 2   Age           418 non-null    int64   \n",
      " 3   SibSp         418 non-null    int64   \n",
      " 4   Parch         418 non-null    int64   \n",
      " 5   Fare          418 non-null    float64 \n",
      " 6   Embarked      418 non-null    object  \n",
      " 7   Deck          418 non-null    object  \n",
      " 8   Family_group  418 non-null    category\n",
      " 9   Title         418 non-null    object  \n",
      "dtypes: category(1), float64(1), int64(4), object(4)\n",
      "memory usage: 33.2+ KB\n"
     ]
    }
   ],
   "source": [
    "train.info()\n",
    "test.info()"
   ]
  },
  {
   "attachments": {},
   "cell_type": "markdown",
   "metadata": {},
   "source": [
    "#### 3.12 문제 답 데이터 분리"
   ]
  },
  {
   "cell_type": "code",
   "execution_count": 210,
   "metadata": {},
   "outputs": [],
   "source": [
    "# X_train = train.loc[:,\"Pclass\":] #생존/사망 여부 제외한 나머지 컬럼\n",
    "y_train = train.iloc[:,0] # 생존 사망 여부 컬럼 1개 \n",
    "X_test = test\n",
    "\n",
    "X_train = train.drop([\"Survived\",\"Name\"],axis=1)\n",
    "#y_train = train.loc[:,\"Survived\"] # 생존 사망 여부 컬럼 1개 \n",
    "#X_test = test"
   ]
  },
  {
   "cell_type": "code",
   "execution_count": 211,
   "metadata": {},
   "outputs": [
    {
     "name": "stdout",
     "output_type": "stream",
     "text": [
      "훈련용 데이터 :  (891, 10) (891,)\n",
      "테스트용 데이터 : (418, 10)\n"
     ]
    }
   ],
   "source": [
    "print(\"훈련용 데이터 : \" ,X_train.shape, y_train.shape)\n",
    "print(\"테스트용 데이터 :\" ,X_test.shape)"
   ]
  },
  {
   "attachments": {},
   "cell_type": "markdown",
   "metadata": {},
   "source": [
    "#### 특성 선택 인코딩\n",
    "- 범주형 데이터 인코딩\n",
    "- 전체 컬럼 모두 활용해서 학습으로 연결"
   ]
  },
  {
   "cell_type": "code",
   "execution_count": 219,
   "metadata": {},
   "outputs": [
    {
     "name": "stdout",
     "output_type": "stream",
     "text": [
      "<class 'pandas.core.frame.DataFrame'>\n",
      "Int64Index: 891 entries, 1 to 891\n",
      "Data columns (total 10 columns):\n",
      " #   Column        Non-Null Count  Dtype   \n",
      "---  ------        --------------  -----   \n",
      " 0   Pclass        891 non-null    int64   \n",
      " 1   Sex           891 non-null    object  \n",
      " 2   Age           891 non-null    int64   \n",
      " 3   SibSp         891 non-null    int64   \n",
      " 4   Parch         891 non-null    int64   \n",
      " 5   Fare          891 non-null    float64 \n",
      " 6   Embarked      891 non-null    object  \n",
      " 7   Deck          891 non-null    object  \n",
      " 8   Family_group  891 non-null    category\n",
      " 9   Title         891 non-null    object  \n",
      "dtypes: category(1), float64(1), int64(4), object(4)\n",
      "memory usage: 102.9+ KB\n",
      "<class 'pandas.core.series.Series'>\n",
      "Int64Index: 891 entries, 1 to 891\n",
      "Series name: Survived\n",
      "Non-Null Count  Dtype\n",
      "--------------  -----\n",
      "891 non-null    int64\n",
      "dtypes: int64(1)\n",
      "memory usage: 46.2 KB\n",
      "<class 'pandas.core.frame.DataFrame'>\n",
      "Int64Index: 418 entries, 892 to 1309\n",
      "Data columns (total 10 columns):\n",
      " #   Column        Non-Null Count  Dtype   \n",
      "---  ------        --------------  -----   \n",
      " 0   Pclass        418 non-null    int64   \n",
      " 1   Sex           418 non-null    object  \n",
      " 2   Age           418 non-null    int64   \n",
      " 3   SibSp         418 non-null    int64   \n",
      " 4   Parch         418 non-null    int64   \n",
      " 5   Fare          418 non-null    float64 \n",
      " 6   Embarked      418 non-null    object  \n",
      " 7   Deck          418 non-null    object  \n",
      " 8   Family_group  418 non-null    category\n",
      " 9   Title         418 non-null    object  \n",
      "dtypes: category(1), float64(1), int64(4), object(4)\n",
      "memory usage: 33.2+ KB\n"
     ]
    }
   ],
   "source": [
    "X_train.info()\n",
    "y_train.info()\n",
    "X_test.info()"
   ]
  },
  {
   "cell_type": "code",
   "execution_count": 217,
   "metadata": {},
   "outputs": [
    {
     "data": {
      "text/plain": [
       "Index(['Sex', 'Embarked', 'Deck', 'Family_group', 'Title'], dtype='object')"
      ]
     },
     "execution_count": 217,
     "metadata": {},
     "output_type": "execute_result"
    }
   ],
   "source": [
    "# 인코딩 해야하는 컬럼 찾기\n",
    "cal_filter = (X_train.dtypes != 'int64') & (X_train.dtypes != 'float64')\n",
    "cal_choice = X_train.columns[cal_filter]\n",
    "cal_choice"
   ]
  },
  {
   "cell_type": "code",
   "execution_count": 221,
   "metadata": {},
   "outputs": [],
   "source": [
    "# X_train 인코딩\n",
    "\n",
    "for cat_name in cal_choice:\n",
    "    # 컬럼 1개 인코딩\n",
    "    dummy = pd.get_dummies(train[cat_name], prefix=cat_name) \n",
    "    \n",
    "    # 기존 X_train추가 (병합)\n",
    "    # concat은 기본적으로 행방향으로 진행\n",
    "    # 열방향으로 지정해주기\n",
    "    X_train = pd.concat([X_train, dummy], axis=1)\n",
    "    \n",
    "    # 기존 컬럼 삭제\n",
    "    X_train.drop(cat_name, axis=1, inplace=True)"
   ]
  },
  {
   "cell_type": "code",
   "execution_count": 222,
   "metadata": {},
   "outputs": [
    {
     "name": "stdout",
     "output_type": "stream",
     "text": [
      "<class 'pandas.core.frame.DataFrame'>\n",
      "Int64Index: 891 entries, 1 to 891\n",
      "Data columns (total 28 columns):\n",
      " #   Column              Non-Null Count  Dtype  \n",
      "---  ------              --------------  -----  \n",
      " 0   Pclass              891 non-null    int64  \n",
      " 1   Age                 891 non-null    int64  \n",
      " 2   SibSp               891 non-null    int64  \n",
      " 3   Parch               891 non-null    int64  \n",
      " 4   Fare                891 non-null    float64\n",
      " 5   Sex_female          891 non-null    uint8  \n",
      " 6   Sex_male            891 non-null    uint8  \n",
      " 7   Embarked_C          891 non-null    uint8  \n",
      " 8   Embarked_Q          891 non-null    uint8  \n",
      " 9   Embarked_S          891 non-null    uint8  \n",
      " 10  Deck_A              891 non-null    uint8  \n",
      " 11  Deck_B              891 non-null    uint8  \n",
      " 12  Deck_C              891 non-null    uint8  \n",
      " 13  Deck_D              891 non-null    uint8  \n",
      " 14  Deck_E              891 non-null    uint8  \n",
      " 15  Deck_F              891 non-null    uint8  \n",
      " 16  Deck_G              891 non-null    uint8  \n",
      " 17  Deck_M              891 non-null    uint8  \n",
      " 18  Deck_T              891 non-null    uint8  \n",
      " 19  Family_group_Alone  891 non-null    uint8  \n",
      " 20  Family_group_Small  891 non-null    uint8  \n",
      " 21  Family_group_Large  891 non-null    uint8  \n",
      " 22  Title_Master        891 non-null    uint8  \n",
      " 23  Title_Miss          891 non-null    uint8  \n",
      " 24  Title_Mr            891 non-null    uint8  \n",
      " 25  Title_Mrs           891 non-null    uint8  \n",
      " 26  Title_Other         891 non-null    uint8  \n",
      " 27  Title_Rev           891 non-null    uint8  \n",
      "dtypes: float64(1), int64(4), uint8(23)\n",
      "memory usage: 94.1 KB\n"
     ]
    }
   ],
   "source": [
    "X_train.info()"
   ]
  },
  {
   "cell_type": "code",
   "execution_count": 223,
   "metadata": {},
   "outputs": [],
   "source": [
    "# X_train 인코딩\n",
    "\n",
    "for cat_name in cal_choice:\n",
    "    # 컬럼 1개 인코딩\n",
    "    dummy = pd.get_dummies(test[cat_name], prefix=cat_name) \n",
    "    \n",
    "    # 기존 X_train추가 (병합)\n",
    "    # concat은 기본적으로 행방향으로 진행\n",
    "    # 열방향으로 지정해주기\n",
    "    X_test = pd.concat([X_test, dummy], axis=1)\n",
    "    \n",
    "    # 기존 컬럼 삭제\n",
    "    X_test.drop(cat_name, axis=1, inplace=True)"
   ]
  },
  {
   "cell_type": "code",
   "execution_count": 224,
   "metadata": {},
   "outputs": [
    {
     "name": "stdout",
     "output_type": "stream",
     "text": [
      "<class 'pandas.core.frame.DataFrame'>\n",
      "Int64Index: 418 entries, 892 to 1309\n",
      "Data columns (total 27 columns):\n",
      " #   Column              Non-Null Count  Dtype  \n",
      "---  ------              --------------  -----  \n",
      " 0   Pclass              418 non-null    int64  \n",
      " 1   Age                 418 non-null    int64  \n",
      " 2   SibSp               418 non-null    int64  \n",
      " 3   Parch               418 non-null    int64  \n",
      " 4   Fare                418 non-null    float64\n",
      " 5   Sex_female          418 non-null    uint8  \n",
      " 6   Sex_male            418 non-null    uint8  \n",
      " 7   Embarked_C          418 non-null    uint8  \n",
      " 8   Embarked_Q          418 non-null    uint8  \n",
      " 9   Embarked_S          418 non-null    uint8  \n",
      " 10  Deck_A              418 non-null    uint8  \n",
      " 11  Deck_B              418 non-null    uint8  \n",
      " 12  Deck_C              418 non-null    uint8  \n",
      " 13  Deck_D              418 non-null    uint8  \n",
      " 14  Deck_E              418 non-null    uint8  \n",
      " 15  Deck_F              418 non-null    uint8  \n",
      " 16  Deck_G              418 non-null    uint8  \n",
      " 17  Deck_M              418 non-null    uint8  \n",
      " 18  Family_group_Alone  418 non-null    uint8  \n",
      " 19  Family_group_Small  418 non-null    uint8  \n",
      " 20  Family_group_Large  418 non-null    uint8  \n",
      " 21  Title_Master        418 non-null    uint8  \n",
      " 22  Title_Miss          418 non-null    uint8  \n",
      " 23  Title_Mr            418 non-null    uint8  \n",
      " 24  Title_Mrs           418 non-null    uint8  \n",
      " 25  Title_Other         418 non-null    uint8  \n",
      " 26  Title_Rev           418 non-null    uint8  \n",
      "dtypes: float64(1), int64(4), uint8(22)\n",
      "memory usage: 28.6 KB\n"
     ]
    }
   ],
   "source": [
    "X_test.info()"
   ]
  },
  {
   "attachments": {},
   "cell_type": "markdown",
   "metadata": {},
   "source": [
    "#### 특성 개수 맞추기\n",
    "- set: 집합 자료형\n",
    "- 특징 : 중복허용 x, 순서x\n",
    "- 중복을 허용하지 않은 set의 특징 덕분에 종종 데이터의 중복을 제거하기 위한 필터 역할\n",
    "- set활요하다가 정렬, 인덱스 접근으로 활용하고 싶으면, tuple,list형으로 변환해서 사용"
   ]
  },
  {
   "cell_type": "code",
   "execution_count": 230,
   "metadata": {},
   "outputs": [
    {
     "data": {
      "text/plain": [
       "{'Deck_T'}"
      ]
     },
     "execution_count": 230,
     "metadata": {},
     "output_type": "execute_result"
    }
   ],
   "source": [
    "set(X_train.columns)-set(X_test.columns)"
   ]
  },
  {
   "cell_type": "code",
   "execution_count": 237,
   "metadata": {},
   "outputs": [],
   "source": [
    "# Dect_T 컬럼 X_test에 추가하기\n",
    "\n",
    "X_test[\"Deck_T\"] = 0"
   ]
  },
  {
   "cell_type": "code",
   "execution_count": 252,
   "metadata": {},
   "outputs": [
    {
     "name": "stdout",
     "output_type": "stream",
     "text": [
      "<class 'pandas.core.frame.DataFrame'>\n",
      "Int64Index: 418 entries, 892 to 1309\n",
      "Data columns (total 28 columns):\n",
      " #   Column              Non-Null Count  Dtype  \n",
      "---  ------              --------------  -----  \n",
      " 0   Pclass              418 non-null    int64  \n",
      " 1   Age                 418 non-null    int64  \n",
      " 2   SibSp               418 non-null    int64  \n",
      " 3   Parch               418 non-null    int64  \n",
      " 4   Fare                418 non-null    float64\n",
      " 5   Sex_female          418 non-null    uint8  \n",
      " 6   Sex_male            418 non-null    uint8  \n",
      " 7   Embarked_C          418 non-null    uint8  \n",
      " 8   Embarked_Q          418 non-null    uint8  \n",
      " 9   Embarked_S          418 non-null    uint8  \n",
      " 10  Deck_A              418 non-null    uint8  \n",
      " 11  Deck_B              418 non-null    uint8  \n",
      " 12  Deck_C              418 non-null    uint8  \n",
      " 13  Deck_D              418 non-null    uint8  \n",
      " 14  Deck_E              418 non-null    uint8  \n",
      " 15  Deck_F              418 non-null    uint8  \n",
      " 16  Deck_G              418 non-null    uint8  \n",
      " 17  Deck_M              418 non-null    uint8  \n",
      " 18  Deck_T              418 non-null    int64  \n",
      " 19  Family_group_Alone  418 non-null    uint8  \n",
      " 20  Family_group_Small  418 non-null    uint8  \n",
      " 21  Family_group_Large  418 non-null    uint8  \n",
      " 22  Title_Master        418 non-null    uint8  \n",
      " 23  Title_Miss          418 non-null    uint8  \n",
      " 24  Title_Mr            418 non-null    uint8  \n",
      " 25  Title_Mrs           418 non-null    uint8  \n",
      " 26  Title_Other         418 non-null    uint8  \n",
      " 27  Title_Rev           418 non-null    uint8  \n",
      "dtypes: float64(1), int64(5), uint8(22)\n",
      "memory usage: 31.8 KB\n"
     ]
    }
   ],
   "source": [
    "X_test.info()"
   ]
  },
  {
   "cell_type": "code",
   "execution_count": 241,
   "metadata": {},
   "outputs": [],
   "source": [
    "# X_train 컬럼 순서에 X_test 순서도 맞추기\n",
    "\n",
    "X_test = X_test[X_train.columns]"
   ]
  },
  {
   "attachments": {},
   "cell_type": "markdown",
   "metadata": {},
   "source": [
    "### 4.모델 선택 및 학습"
   ]
  },
  {
   "cell_type": "code",
   "execution_count": 285,
   "metadata": {},
   "outputs": [],
   "source": [
    "from sklearn.tree import DecisionTreeClassifier # tree분류\n",
    "from sklearn.model_selection import cross_val_score # 교차 검증 도구"
   ]
  },
  {
   "attachments": {},
   "cell_type": "markdown",
   "metadata": {},
   "source": [
    "#### 1.tree model1"
   ]
  },
  {
   "cell_type": "code",
   "execution_count": 270,
   "metadata": {},
   "outputs": [],
   "source": [
    "tree_model = DecisionTreeClassifier() # 객체 생성\n",
    "\n",
    "# 학습 \n",
    "tree_model.fit(X_train,y_train) # 지도학습 - 분류\n",
    "\n",
    "# 예측\n",
    "pre = tree_model.predict(X_test)\n"
   ]
  },
  {
   "cell_type": "code",
   "execution_count": 278,
   "metadata": {},
   "outputs": [
    {
     "data": {
      "text/html": [
       "<div>\n",
       "<style scoped>\n",
       "    .dataframe tbody tr th:only-of-type {\n",
       "        vertical-align: middle;\n",
       "    }\n",
       "\n",
       "    .dataframe tbody tr th {\n",
       "        vertical-align: top;\n",
       "    }\n",
       "\n",
       "    .dataframe thead th {\n",
       "        text-align: right;\n",
       "    }\n",
       "</style>\n",
       "<table border=\"1\" class=\"dataframe\">\n",
       "  <thead>\n",
       "    <tr style=\"text-align: right;\">\n",
       "      <th></th>\n",
       "      <th>PassengerId</th>\n",
       "      <th>Survived</th>\n",
       "    </tr>\n",
       "  </thead>\n",
       "  <tbody>\n",
       "    <tr>\n",
       "      <th>0</th>\n",
       "      <td>892</td>\n",
       "      <td>0</td>\n",
       "    </tr>\n",
       "    <tr>\n",
       "      <th>1</th>\n",
       "      <td>893</td>\n",
       "      <td>0</td>\n",
       "    </tr>\n",
       "    <tr>\n",
       "      <th>2</th>\n",
       "      <td>894</td>\n",
       "      <td>1</td>\n",
       "    </tr>\n",
       "    <tr>\n",
       "      <th>3</th>\n",
       "      <td>895</td>\n",
       "      <td>1</td>\n",
       "    </tr>\n",
       "    <tr>\n",
       "      <th>4</th>\n",
       "      <td>896</td>\n",
       "      <td>1</td>\n",
       "    </tr>\n",
       "    <tr>\n",
       "      <th>...</th>\n",
       "      <td>...</td>\n",
       "      <td>...</td>\n",
       "    </tr>\n",
       "    <tr>\n",
       "      <th>413</th>\n",
       "      <td>1305</td>\n",
       "      <td>0</td>\n",
       "    </tr>\n",
       "    <tr>\n",
       "      <th>414</th>\n",
       "      <td>1306</td>\n",
       "      <td>1</td>\n",
       "    </tr>\n",
       "    <tr>\n",
       "      <th>415</th>\n",
       "      <td>1307</td>\n",
       "      <td>0</td>\n",
       "    </tr>\n",
       "    <tr>\n",
       "      <th>416</th>\n",
       "      <td>1308</td>\n",
       "      <td>0</td>\n",
       "    </tr>\n",
       "    <tr>\n",
       "      <th>417</th>\n",
       "      <td>1309</td>\n",
       "      <td>1</td>\n",
       "    </tr>\n",
       "  </tbody>\n",
       "</table>\n",
       "<p>418 rows × 2 columns</p>\n",
       "</div>"
      ],
      "text/plain": [
       "     PassengerId  Survived\n",
       "0            892         0\n",
       "1            893         0\n",
       "2            894         1\n",
       "3            895         1\n",
       "4            896         1\n",
       "..           ...       ...\n",
       "413         1305         0\n",
       "414         1306         1\n",
       "415         1307         0\n",
       "416         1308         0\n",
       "417         1309         1\n",
       "\n",
       "[418 rows x 2 columns]"
      ]
     },
     "execution_count": 278,
     "metadata": {},
     "output_type": "execute_result"
    }
   ],
   "source": [
    "result = pd.read_csv(\"./data/gender_submission.csv\")\n",
    "result['Survived'] = pre\n",
    "result"
   ]
  },
  {
   "cell_type": "code",
   "execution_count": 280,
   "metadata": {},
   "outputs": [],
   "source": [
    "result.to_csv(\"kkh_sumbission01.csv\", index=False)"
   ]
  },
  {
   "cell_type": "code",
   "execution_count": 281,
   "metadata": {},
   "outputs": [],
   "source": [
    "# 모델의 성능이 생각보다 떨어진다.\n",
    "# 1. 데이터 측면에서 노력 > 데이터 수정, 전처리, 데이터 수집, 데이터 탐색\n",
    "# 2. 모델 측면에서 노력 > 하이퍼 파라미터 제어(튜닝)"
   ]
  },
  {
   "attachments": {},
   "cell_type": "markdown",
   "metadata": {},
   "source": [
    "#### Tree Model - 하이퍼 파라미터 조정"
   ]
  },
  {
   "cell_type": "code",
   "execution_count": 329,
   "metadata": {},
   "outputs": [
    {
     "name": "stdout",
     "output_type": "stream",
     "text": [
      "[0.83798883 0.80337079 0.80898876 0.79213483 0.85955056]\n",
      "0.8204067541271736\n"
     ]
    }
   ],
   "source": [
    "tree_model2 = DecisionTreeClassifier(max_depth=4)\n",
    "\n",
    "# 교차 검증 -> 모델 객체 생성하고 어느정도의 성능을 내는 모델인지 확인할 때 사용\n",
    "\n",
    "tree_model2.fit(X_train,y_train)\n",
    "cross_result = cross_val_score(tree_model2, X_train, y_train, cv=5)\n",
    "print(cross_result)\n",
    "print(cross_result.mean())"
   ]
  },
  {
   "cell_type": "code",
   "execution_count": 328,
   "metadata": {},
   "outputs": [
    {
     "name": "stdout",
     "output_type": "stream",
     "text": [
      "1번째 :  0.7788964911179461\n",
      "2번째 :  0.7834285355596007\n",
      "3번째 :  0.8159249262444291\n",
      "4번째 :  0.8204067541271736\n",
      "5번째 :  0.810344611135522\n",
      "6번째 :  0.8091770761408574\n",
      "7번째 :  0.8103069487163392\n",
      "8번째 :  0.8013558470905782\n",
      "9번째 :  0.8013495700207143\n"
     ]
    }
   ],
   "source": [
    "# for 문으로 max_depth 값 확인후 정하기\n",
    "\n",
    "for md in range(1,10):\n",
    "    tree_model2 = DecisionTreeClassifier(max_depth=md)\n",
    "    cross_result = cross_val_score(tree_model2, X_train, y_train, cv=5).mean()\n",
    "    print(f\"{md}번째 : \", cross_result)"
   ]
  },
  {
   "cell_type": "code",
   "execution_count": 331,
   "metadata": {},
   "outputs": [],
   "source": [
    "# 4라고 설정 모델 생성\n",
    "tree_model3 = DecisionTreeClassifier(max_depth=4)\n",
    "tree_model3.fit(X_train, y_train)\n",
    "pre = tree_model3.predict(X_test)\n",
    "\n",
    "submission = pd.read_csv(\"./data/gender_submission.csv\")\n",
    "submission['Survived'] = pre\n",
    "submission.to_csv(\"./kkh_sumbission02.csv\", index=False)"
   ]
  },
  {
   "cell_type": "code",
   "execution_count": 334,
   "metadata": {},
   "outputs": [
    {
     "data": {
      "image/png": "[encoded data removed]",
      "text/plain": [
       "<Figure size 500x700 with 1 Axes>"
      ]
     },
     "metadata": {},
     "output_type": "display_data"
    }
   ],
   "source": [
    "# 특성 중요도\n",
    "fi = tree_model2.feature_importances_\n",
    "importance_df = pd.Series(fi, index=X_train.columns) \n",
    "plt.figure(figsize=(5,7))\n",
    "importance_df.sort_values(ascending=True).plot.barh()\n",
    "plt.show()"
   ]
  }
 ],
 "metadata": {
  "kernelspec": {
   "display_name": "Python 3",
   "language": "python",
   "name": "python3"
  },
  "language_info": {
   "codemirror_mode": {
    "name": "ipython",
    "version": 3
   },
   "file_extension": ".py",
   "mimetype": "text/x-python",
   "name": "python",
   "nbconvert_exporter": "python",
   "pygments_lexer": "ipython3",
   "version": "3.11.1"
  },
  "orig_nbformat": 4
 },
 "nbformat": 4,
 "nbformat_minor": 2
}
