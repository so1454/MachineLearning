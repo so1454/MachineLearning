{
 "cells": [
  {
   "cell_type": "code",
   "execution_count": 3,
   "metadata": {},
   "outputs": [
    {
     "name": "stdout",
     "output_type": "stream",
     "text": [
      "Requirement already satisfied: opencv-python in c:\\users\\smhrd\\appdata\\local\\programs\\python\\python311\\lib\\site-packages (4.7.0.72)\n",
      "Requirement already satisfied: numpy>=1.21.2 in c:\\users\\smhrd\\appdata\\local\\programs\\python\\python311\\lib\\site-packages (from opencv-python) (1.24.2)\n",
      "Note: you may need to restart the kernel to use updated packages.\n"
     ]
    },
    {
     "name": "stderr",
     "output_type": "stream",
     "text": [
      "\n",
      "[notice] A new release of pip is available: 23.0.1 -> 23.1.2\n",
      "[notice] To update, run: python.exe -m pip install --upgrade pip\n"
     ]
    }
   ],
   "source": [
    "pip install opencv-python"
   ]
  },
  {
   "cell_type": "code",
   "execution_count": 4,
   "metadata": {},
   "outputs": [
    {
     "name": "stdout",
     "output_type": "stream",
     "text": [
      " * Serving Flask app '__main__' (lazy loading)\n",
      " * Environment: production\n",
      "\u001b[31m   WARNING: This is a development server. Do not use it in a production deployment.\u001b[0m\n",
      "\u001b[2m   Use a production WSGI server instead.\u001b[0m\n",
      " * Debug mode: off\n"
     ]
    },
    {
     "name": "stderr",
     "output_type": "stream",
     "text": [
      "WARNING: This is a development server. Do not use it in a production deployment. Use a production WSGI server instead.\n",
      " * Running on http://127.0.0.1:5000\n",
      "Press CTRL+C to quit\n",
      "127.0.0.1 - - [03/May/2023 15:06:59] \"GET /test HTTP/1.1\" 405 -\n",
      "127.0.0.1 - - [03/May/2023 15:06:59] \"GET /favicon.ico HTTP/1.1\" 404 -\n",
      "127.0.0.1 - - [03/May/2023 15:07:02] \"GET / HTTP/1.1\" 404 -\n",
      "127.0.0.1 - - [03/May/2023 15:07:02] \"GET /favicon.ico HTTP/1.1\" 404 -\n",
      "127.0.0.1 - - [03/May/2023 15:08:07] \"GET /test HTTP/1.1\" 405 -\n",
      "C:\\Users\\smhrd\\AppData\\Local\\Temp\\ipykernel_14924\\574326114.py:14: DeprecationWarning: The binary mode of fromstring is deprecated, as it behaves surprisingly on unicode inputs. Use frombuffer instead\n",
      "  npimg = np.fromstring(filestr, np.uint8) # FileStorage의 이미지를 넘파이 배열로 만듬\n",
      "127.0.0.1 - - [03/May/2023 15:23:53] \"POST /test HTTP/1.1\" 200 -\n"
     ]
    },
    {
     "name": "stdout",
     "output_type": "stream",
     "text": [
      "abc\n"
     ]
    },
    {
     "name": "stderr",
     "output_type": "stream",
     "text": [
      "127.0.0.1 - - [03/May/2023 15:24:21] \"GET / HTTP/1.1\" 404 -\n",
      "127.0.0.1 - - [03/May/2023 15:24:21] \"GET /favicon.ico HTTP/1.1\" 404 -\n"
     ]
    }
   ],
   "source": [
    "from flask import Flask , request, render_template , make_response ,jsonify ## flask 라이브러리에서 Flask import\n",
    "import numpy as np\n",
    "import cv2\n",
    "import base64\n",
    "app = Flask(__name__)\n",
    "@app.route('/test', methods=['POST'])\n",
    "def rest_img_test():\n",
    "     if request.method == 'POST':\n",
    "         param = request.form.get('data')   # name = data 이미지\n",
    "         print(param)\n",
    "         f = request.files['file']   # name = file 파일\n",
    "         filestr = f.read()\n",
    "         # 이미지를 변환하는 코드\n",
    "         npimg = np.fromstring(filestr, np.uint8) # FileStorage의 이미지를 넘파이 배열로 만듬\n",
    "         img = cv2.imdecode(npimg, cv2.IMREAD_COLOR) # 넘파일 배열을 이미지 배열로 변환함\n",
    "         img = cv2.cvtColor(img, cv2.COLOR_BGR2GRAY) # 여기에서 처리를 하면 됨\n",
    "         cv2.imwrite(f.filename, img)\n",
    "         img_str = base64.b64encode(cv2.imencode('.jpg', img)[1]).decode()\n",
    "         data = {\"param\": param, \"file\": img_str}  # 응답도 json형식으로 응답\n",
    "         response = make_response(jsonify(data))\n",
    "         response.headers.add(\"Access-Control-Allow-Origin\", \"*\")\n",
    "     return response\n",
    "if __name__ == \"__main__\":\n",
    " app.run()"
   ]
  },
  {
   "cell_type": "code",
   "execution_count": null,
   "metadata": {},
   "outputs": [],
   "source": []
  },
  {
   "cell_type": "code",
   "execution_count": null,
   "metadata": {},
   "outputs": [],
   "source": []
  },
  {
   "cell_type": "code",
   "execution_count": null,
   "metadata": {},
   "outputs": [],
   "source": []
  },
  {
   "cell_type": "code",
   "execution_count": null,
   "metadata": {},
   "outputs": [],
   "source": []
  },
  {
   "cell_type": "code",
   "execution_count": null,
   "metadata": {},
   "outputs": [],
   "source": []
  },
  {
   "cell_type": "code",
   "execution_count": null,
   "metadata": {},
   "outputs": [],
   "source": []
  },
  {
   "cell_type": "code",
   "execution_count": null,
   "metadata": {},
   "outputs": [],
   "source": []
  },
  {
   "cell_type": "code",
   "execution_count": null,
   "metadata": {},
   "outputs": [],
   "source": []
  },
  {
   "cell_type": "code",
   "execution_count": null,
   "metadata": {},
   "outputs": [],
   "source": []
  },
  {
   "cell_type": "code",
   "execution_count": null,
   "metadata": {},
   "outputs": [],
   "source": []
  }
 ],
 "metadata": {
  "kernelspec": {
   "display_name": "Python 3",
   "language": "python",
   "name": "python3"
  },
  "language_info": {
   "codemirror_mode": {
    "name": "ipython",
    "version": 3
   },
   "file_extension": ".py",
   "mimetype": "text/x-python",
   "name": "python",
   "nbconvert_exporter": "python",
   "pygments_lexer": "ipython3",
   "version": "3.11.2"
  },
  "orig_nbformat": 4
 },
 "nbformat": 4,
 "nbformat_minor": 2
}
