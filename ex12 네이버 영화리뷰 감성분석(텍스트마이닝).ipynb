{
 "cells": [
  {
   "cell_type": "code",
   "execution_count": null,
   "metadata": {},
   "outputs": [],
   "source": []
  },
  {
   "cell_type": "markdown",
   "metadata": {},
   "source": [
    "## 목표\n",
    "- 네이버 영화리뷰 데이터 셋을 이용해서 긍정/ 부정 분류기를 만들자\n",
    "- TF-IDF 방법을 적용해서 토큰화 작업을 해보자 \n",
    "- konlpy 한국어 형태소 분석기를 설치하고 활용해보자\n",
    "- 단어별 긍/부정 정보를 시각화 해서 확인해보자"
   ]
  },
  {
   "cell_type": "code",
   "execution_count": 2,
   "metadata": {},
   "outputs": [],
   "source": [
    "# 1. Java 버전 확인\n",
    "# cmd 창에서 java - version 확인하기 -> 1.7버전 이상인지 확인해보자\n",
    "# 만약 java가 없는 경우 설치후 시스템 환경변수 편집까지 해주자"
   ]
  },
  {
   "cell_type": "code",
   "execution_count": 3,
   "metadata": {},
   "outputs": [
    {
     "name": "stdout",
     "output_type": "stream",
     "text": [
      "Collecting jpype1\n",
      "  Downloading JPype1-1.4.1-cp311-cp311-win_amd64.whl (345 kB)\n",
      "     ---------------------------------------- 0.0/345.1 kB ? eta -:--:--\n",
      "     ------------------------------------- 345.1/345.1 kB 10.8 MB/s eta 0:00:00\n",
      "Requirement already satisfied: packaging in c:\\users\\smhrd\\appdata\\roaming\\python\\python311\\site-packages (from jpype1) (23.0)\n",
      "Installing collected packages: jpype1\n",
      "Successfully installed jpype1-1.4.1\n"
     ]
    },
    {
     "name": "stderr",
     "output_type": "stream",
     "text": [
      "\n",
      "[notice] A new release of pip is available: 23.0.1 -> 23.1.1\n",
      "[notice] To update, run: python.exe -m pip install --upgrade pip\n"
     ]
    }
   ],
   "source": [
    "# 2. Jpype 설치\n",
    "# knolpy는 자바 기반의 라이브러리 => 파이썬 환경에서 원활하게 사용하도록 해주는 별도의 도구가 필요\n",
    "!pip install jpype1"
   ]
  },
  {
   "cell_type": "code",
   "execution_count": 4,
   "metadata": {},
   "outputs": [
    {
     "name": "stdout",
     "output_type": "stream",
     "text": [
      "Collecting konlpy\n",
      "  Downloading konlpy-0.6.0-py2.py3-none-any.whl (19.4 MB)\n",
      "     ---------------------------------------- 0.0/19.4 MB ? eta -:--:--\n",
      "     ---- ----------------------------------- 2.0/19.4 MB 42.5 MB/s eta 0:00:01\n",
      "     ------------- -------------------------- 6.5/19.4 MB 69.6 MB/s eta 0:00:01\n",
      "     ------------------- -------------------- 9.7/19.4 MB 77.3 MB/s eta 0:00:01\n",
      "     --------------------------- ----------- 13.8/19.4 MB 93.9 MB/s eta 0:00:01\n",
      "     ---------------------------------- ---- 17.0/19.4 MB 72.6 MB/s eta 0:00:01\n",
      "     --------------------------------------  19.4/19.4 MB 72.6 MB/s eta 0:00:01\n",
      "     --------------------------------------  19.4/19.4 MB 72.6 MB/s eta 0:00:01\n",
      "     --------------------------------------- 19.4/19.4 MB 40.9 MB/s eta 0:00:00\n",
      "Requirement already satisfied: JPype1>=0.7.0 in c:\\users\\smhrd\\appdata\\local\\programs\\python\\python311\\lib\\site-packages (from konlpy) (1.4.1)\n",
      "Requirement already satisfied: lxml>=4.1.0 in c:\\users\\smhrd\\appdata\\local\\programs\\python\\python311\\lib\\site-packages (from konlpy) (4.9.2)\n",
      "Requirement already satisfied: numpy>=1.6 in c:\\users\\smhrd\\appdata\\local\\programs\\python\\python311\\lib\\site-packages (from konlpy) (1.24.2)\n",
      "Requirement already satisfied: packaging in c:\\users\\smhrd\\appdata\\roaming\\python\\python311\\site-packages (from JPype1>=0.7.0->konlpy) (23.0)\n",
      "Installing collected packages: konlpy\n",
      "Successfully installed konlpy-0.6.0\n"
     ]
    },
    {
     "name": "stderr",
     "output_type": "stream",
     "text": [
      "\n",
      "[notice] A new release of pip is available: 23.0.1 -> 23.1.1\n",
      "[notice] To update, run: python.exe -m pip install --upgrade pip\n"
     ]
    }
   ],
   "source": [
    "# 3. konlypy설치\n",
    "# konlpy는한국어 형태소 분석기를 모아둔 라이브러리\n",
    "!pip install konlpy"
   ]
  },
  {
   "cell_type": "code",
   "execution_count": 5,
   "metadata": {},
   "outputs": [],
   "source": [
    "from konlpy.tag import Kkma"
   ]
  },
  {
   "cell_type": "code",
   "execution_count": 6,
   "metadata": {},
   "outputs": [],
   "source": [
    "kkma = Kkma()"
   ]
  },
  {
   "cell_type": "code",
   "execution_count": null,
   "metadata": {},
   "outputs": [],
   "source": []
  },
  {
   "cell_type": "code",
   "execution_count": null,
   "metadata": {},
   "outputs": [],
   "source": []
  },
  {
   "cell_type": "code",
   "execution_count": null,
   "metadata": {},
   "outputs": [],
   "source": []
  },
  {
   "cell_type": "code",
   "execution_count": null,
   "metadata": {},
   "outputs": [],
   "source": []
  },
  {
   "cell_type": "code",
   "execution_count": null,
   "metadata": {},
   "outputs": [],
   "source": []
  },
  {
   "cell_type": "code",
   "execution_count": null,
   "metadata": {},
   "outputs": [],
   "source": []
  },
  {
   "cell_type": "code",
   "execution_count": null,
   "metadata": {},
   "outputs": [],
   "source": []
  }
 ],
 "metadata": {
  "kernelspec": {
   "display_name": "Python 3",
   "language": "python",
   "name": "python3"
  },
  "language_info": {
   "codemirror_mode": {
    "name": "ipython",
    "version": 3
   },
   "file_extension": ".py",
   "mimetype": "text/x-python",
   "name": "python",
   "nbconvert_exporter": "python",
   "pygments_lexer": "ipython3",
   "version": "3.11.2"
  },
  "orig_nbformat": 4
 },
 "nbformat": 4,
 "nbformat_minor": 2
}
