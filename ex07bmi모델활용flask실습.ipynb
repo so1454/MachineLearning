{
 "cells": [
  {
   "cell_type": "code",
   "execution_count": 2,
   "metadata": {},
   "outputs": [
    {
     "name": "stdout",
     "output_type": "stream",
     "text": [
      "Collecting flask==2.1.0\n",
      "  Downloading Flask-2.1.0-py3-none-any.whl (95 kB)\n",
      "     ---------------------------------------- 0.0/95.2 kB ? eta -:--:--\n",
      "     ---------------------------------------- 95.2/95.2 kB 5.7 MB/s eta 0:00:00\n",
      "Collecting Werkzeug>=2.0\n",
      "  Downloading Werkzeug-2.2.3-py3-none-any.whl (233 kB)\n",
      "     ---------------------------------------- 0.0/233.6 kB ? eta -:--:--\n",
      "     ------------------------------------- 233.6/233.6 kB 14.9 MB/s eta 0:00:00\n",
      "Requirement already satisfied: Jinja2>=3.0 in c:\\users\\smhrd\\appdata\\roaming\\python\\python311\\site-packages (from flask==2.1.0) (3.1.2)\n",
      "Collecting itsdangerous>=2.0\n",
      "  Downloading itsdangerous-2.1.2-py3-none-any.whl (15 kB)\n",
      "Collecting click>=8.0\n",
      "  Downloading click-8.1.3-py3-none-any.whl (96 kB)\n",
      "     ---------------------------------------- 0.0/96.6 kB ? eta -:--:--\n",
      "     ---------------------------------------- 96.6/96.6 kB ? eta 0:00:00\n",
      "Requirement already satisfied: colorama in c:\\users\\smhrd\\appdata\\roaming\\python\\python311\\site-packages (from click>=8.0->flask==2.1.0) (0.4.6)\n",
      "Requirement already satisfied: MarkupSafe>=2.0 in c:\\users\\smhrd\\appdata\\roaming\\python\\python311\\site-packages (from Jinja2>=3.0->flask==2.1.0) (2.1.2)\n",
      "Installing collected packages: Werkzeug, itsdangerous, click, flask\n",
      "Successfully installed Werkzeug-2.2.3 click-8.1.3 flask-2.1.0 itsdangerous-2.1.2\n"
     ]
    }
   ],
   "source": [
    "!pip install flask==2.1.0"
   ]
  },
  {
   "cell_type": "code",
   "execution_count": 4,
   "metadata": {},
   "outputs": [
    {
     "data": {
      "text/html": [
       "<style>#sk-container-id-1 {color: black;background-color: white;}#sk-container-id-1 pre{padding: 0;}#sk-container-id-1 div.sk-toggleable {background-color: white;}#sk-container-id-1 label.sk-toggleable__label {cursor: pointer;display: block;width: 100%;margin-bottom: 0;padding: 0.3em;box-sizing: border-box;text-align: center;}#sk-container-id-1 label.sk-toggleable__label-arrow:before {content: \"▸\";float: left;margin-right: 0.25em;color: #696969;}#sk-container-id-1 label.sk-toggleable__label-arrow:hover:before {color: black;}#sk-container-id-1 div.sk-estimator:hover label.sk-toggleable__label-arrow:before {color: black;}#sk-container-id-1 div.sk-toggleable__content {max-height: 0;max-width: 0;overflow: hidden;text-align: left;background-color: #f0f8ff;}#sk-container-id-1 div.sk-toggleable__content pre {margin: 0.2em;color: black;border-radius: 0.25em;background-color: #f0f8ff;}#sk-container-id-1 input.sk-toggleable__control:checked~div.sk-toggleable__content {max-height: 200px;max-width: 100%;overflow: auto;}#sk-container-id-1 input.sk-toggleable__control:checked~label.sk-toggleable__label-arrow:before {content: \"▾\";}#sk-container-id-1 div.sk-estimator input.sk-toggleable__control:checked~label.sk-toggleable__label {background-color: #d4ebff;}#sk-container-id-1 div.sk-label input.sk-toggleable__control:checked~label.sk-toggleable__label {background-color: #d4ebff;}#sk-container-id-1 input.sk-hidden--visually {border: 0;clip: rect(1px 1px 1px 1px);clip: rect(1px, 1px, 1px, 1px);height: 1px;margin: -1px;overflow: hidden;padding: 0;position: absolute;width: 1px;}#sk-container-id-1 div.sk-estimator {font-family: monospace;background-color: #f0f8ff;border: 1px dotted black;border-radius: 0.25em;box-sizing: border-box;margin-bottom: 0.5em;}#sk-container-id-1 div.sk-estimator:hover {background-color: #d4ebff;}#sk-container-id-1 div.sk-parallel-item::after {content: \"\";width: 100%;border-bottom: 1px solid gray;flex-grow: 1;}#sk-container-id-1 div.sk-label:hover label.sk-toggleable__label {background-color: #d4ebff;}#sk-container-id-1 div.sk-serial::before {content: \"\";position: absolute;border-left: 1px solid gray;box-sizing: border-box;top: 0;bottom: 0;left: 50%;z-index: 0;}#sk-container-id-1 div.sk-serial {display: flex;flex-direction: column;align-items: center;background-color: white;padding-right: 0.2em;padding-left: 0.2em;position: relative;}#sk-container-id-1 div.sk-item {position: relative;z-index: 1;}#sk-container-id-1 div.sk-parallel {display: flex;align-items: stretch;justify-content: center;background-color: white;position: relative;}#sk-container-id-1 div.sk-item::before, #sk-container-id-1 div.sk-parallel-item::before {content: \"\";position: absolute;border-left: 1px solid gray;box-sizing: border-box;top: 0;bottom: 0;left: 50%;z-index: -1;}#sk-container-id-1 div.sk-parallel-item {display: flex;flex-direction: column;z-index: 1;position: relative;background-color: white;}#sk-container-id-1 div.sk-parallel-item:first-child::after {align-self: flex-end;width: 50%;}#sk-container-id-1 div.sk-parallel-item:last-child::after {align-self: flex-start;width: 50%;}#sk-container-id-1 div.sk-parallel-item:only-child::after {width: 0;}#sk-container-id-1 div.sk-dashed-wrapped {border: 1px dashed gray;margin: 0 0.4em 0.5em 0.4em;box-sizing: border-box;padding-bottom: 0.4em;background-color: white;}#sk-container-id-1 div.sk-label label {font-family: monospace;font-weight: bold;display: inline-block;line-height: 1.2em;}#sk-container-id-1 div.sk-label-container {text-align: center;}#sk-container-id-1 div.sk-container {/* jupyter's `normalize.less` sets `[hidden] { display: none; }` but bootstrap.min.css set `[hidden] { display: none !important; }` so we also need the `!important` here to be able to override the default hidden behavior on the sphinx rendered scikit-learn.org. See: https://github.com/scikit-learn/scikit-learn/issues/21755 */display: inline-block !important;position: relative;}#sk-container-id-1 div.sk-text-repr-fallback {display: none;}</style><div id=\"sk-container-id-1\" class=\"sk-top-container\"><div class=\"sk-text-repr-fallback\"><pre>KNeighborsClassifier()</pre><b>In a Jupyter environment, please rerun this cell to show the HTML representation or trust the notebook. <br />On GitHub, the HTML representation is unable to render, please try loading this page with nbviewer.org.</b></div><div class=\"sk-container\" hidden><div class=\"sk-item\"><div class=\"sk-estimator sk-toggleable\"><input class=\"sk-toggleable__control sk-hidden--visually\" id=\"sk-estimator-id-1\" type=\"checkbox\" checked><label for=\"sk-estimator-id-1\" class=\"sk-toggleable__label sk-toggleable__label-arrow\">KNeighborsClassifier</label><div class=\"sk-toggleable__content\"><pre>KNeighborsClassifier()</pre></div></div></div></div></div>"
      ],
      "text/plain": [
       "KNeighborsClassifier()"
      ]
     },
     "execution_count": 4,
     "metadata": {},
     "output_type": "execute_result"
    }
   ],
   "source": [
    "# 모델 불러와서 확인\n",
    "import joblib\n",
    "import pandas as pd\n",
    "# bmi_model = joblib.load('모델 경로 및 파일명',)\n",
    "bmi_model = joblib.load('./bmi_model.pkl')\n",
    "bmi_model"
   ]
  },
  {
   "cell_type": "code",
   "execution_count": 5,
   "metadata": {},
   "outputs": [
    {
     "data": {
      "text/plain": [
       "array(['Extremely Weak'], dtype=object)"
      ]
     },
     "execution_count": 5,
     "metadata": {},
     "output_type": "execute_result"
    }
   ],
   "source": [
    "# 예측 진행해보기\n",
    "# 학습된 상태가 그대로 보존되어 예측이 가능한 상태인지 확인\n",
    "new_test = pd.DataFrame({'Height' : [185], 'Weight' : [50]})\n",
    "# 예측\n",
    "bmi_model.predict(new_test)\n",
    " "
   ]
  },
  {
   "attachments": {},
   "cell_type": "markdown",
   "metadata": {},
   "source": [
    "### Flask"
   ]
  },
  {
   "cell_type": "code",
   "execution_count": 6,
   "metadata": {},
   "outputs": [],
   "source": [
    "# 1. get 방식\n",
    "def html_temp1():\n",
    "    return \"\"\"<!DOCTYPE html>\n",
    "            <html>\n",
    "            <head> \n",
    "            <title>Document</title>\n",
    "            </head>\n",
    "            <body>\n",
    "\n",
    "            <h1>bmi를 구해보자</h1>\n",
    "            <p>Height와 Weight를 입력하세요!</p>\n",
    "            <form action = 'http://127.0.0.1:5000/user', method = 'GET'>\n",
    "                키:<input type=\"text\" id=\"Height\" name=\"h\"><br>\n",
    "                몸무게:<input type=\"text\" id=\"Weight\" name=\"w\">\n",
    "                <input type='submit'></input>\n",
    "            </form >\n",
    "           \n",
    "            </body>\n",
    "            </html>\"\"\""
   ]
  },
  {
   "attachments": {},
   "cell_type": "markdown",
   "metadata": {},
   "source": [
    "내 코드"
   ]
  },
  {
   "cell_type": "code",
   "execution_count": 17,
   "metadata": {},
   "outputs": [
    {
     "name": "stdout",
     "output_type": "stream",
     "text": [
      " * Serving Flask app '__main__' (lazy loading)\n",
      " * Environment: production\n",
      "\u001b[31m   WARNING: This is a development server. Do not use it in a production deployment.\u001b[0m\n",
      "\u001b[2m   Use a production WSGI server instead.\u001b[0m\n",
      " * Debug mode: off\n"
     ]
    },
    {
     "name": "stderr",
     "output_type": "stream",
     "text": [
      "WARNING: This is a development server. Do not use it in a production deployment. Use a production WSGI server instead.\n",
      " * Running on http://127.0.0.1:5000\n",
      "Press CTRL+C to quit\n",
      "127.0.0.1 - - [17/Apr/2023 10:12:54] \"GET / HTTP/1.1\" 200 -\n",
      "127.0.0.1 - - [17/Apr/2023 10:12:58] \"GET / HTTP/1.1\" 200 -\n",
      "c:\\Users\\smhrd\\AppData\\Local\\Programs\\Python\\Python311\\Lib\\site-packages\\sklearn\\base.py:439: UserWarning: X does not have valid feature names, but KNeighborsClassifier was fitted with feature names\n",
      "  warnings.warn(\n",
      "127.0.0.1 - - [17/Apr/2023 10:13:01] \"GET /user?h=162&w=50 HTTP/1.1\" 302 -\n",
      "127.0.0.1 - - [17/Apr/2023 10:13:01] \"GET /?bmi_result=Normal HTTP/1.1\" 200 -\n",
      "127.0.0.1 - - [17/Apr/2023 10:13:09] \"GET / HTTP/1.1\" 200 -\n",
      "127.0.0.1 - - [17/Apr/2023 10:13:09] \"GET /favicon.ico HTTP/1.1\" 404 -\n",
      "c:\\Users\\smhrd\\AppData\\Local\\Programs\\Python\\Python311\\Lib\\site-packages\\sklearn\\base.py:439: UserWarning: X does not have valid feature names, but KNeighborsClassifier was fitted with feature names\n",
      "  warnings.warn(\n",
      "127.0.0.1 - - [17/Apr/2023 10:13:12] \"GET /user?h=162&w=50 HTTP/1.1\" 302 -\n",
      "127.0.0.1 - - [17/Apr/2023 10:13:12] \"GET /?bmi_result=Normal HTTP/1.1\" 200 -\n"
     ]
    }
   ],
   "source": [
    "# flask 코드\n",
    "from flask import Flask, request, jsonify, redirect\n",
    "app = Flask(__name__)\n",
    "\n",
    "@app.route('/')\n",
    "def input_data() :\n",
    "    # html 페이지 실행\n",
    "    return html_temp1()  # 위에서 선언한 함수를 열어줌\n",
    "    \n",
    "\n",
    "@app.route('/user' , methods = ['GET' ,'POST'])\n",
    "def user() :\n",
    "    if request.method == 'GET' :\n",
    "        h = int(request.args.get('h')) # 사용자가 입력한 키(형변환 필요)\n",
    "        w = int(request.args.get('w')) # 사용자가 입력한 몸무게\n",
    "        bmi_pre = bmi_model.predict([[h, w]])  # 값을 하나씩 가져오지만 2차원으로 담아줘야지 예측을 할 수 있음\n",
    "        # redirect \n",
    "        return redirect(f'http://127.0.0.1:5000?bmi_result={bmi_pre[0]}')\n",
    "\n",
    "if __name__ == '__main__' : \n",
    "    app.run(host = '127.0.0.1' , port = '5000')\n"
   ]
  },
  {
   "cell_type": "code",
   "execution_count": 13,
   "metadata": {},
   "outputs": [],
   "source": [
    "# 2. post 방식\n",
    "# Ajax 활용해서 html 구성\n",
    "def html_temp2():\n",
    "    return \"\"\"<!DOCTYPE html>\n",
    "            <html>\n",
    "            <head> \n",
    "            <title>Document</title>\n",
    "            <script type=\"text/javascript\" src = \"https://code.jquery.com/jquery-3.6.3.min.js\"></script>\n",
    "            <script>\n",
    "                $(document).ready(function(){\n",
    "                    $(\".ajaxSend\").on(\"click\", function(){\n",
    "                        var height = $('input[name=h]').val();\n",
    "                        var weight = $('input[name=w]').val();\n",
    "                        $.ajax({\n",
    "                            url:\"http://127.0.0.1:5000/user\",\n",
    "                            type:\"POST\",\n",
    "                            dataType:\"JSON\",\n",
    "                            data :{\"h\":height,\"w\":weight}\n",
    "                        })\n",
    "                        \n",
    "                        .done(function (json){\n",
    "                            $(\".result\").text(json.result)\n",
    "                        })\n",
    "                        \n",
    "                        .fail(function (xhr, status, errorThrown){\n",
    "                            alert(\"Ajax failed\")\n",
    "                        })\n",
    "                    })\n",
    "                    })\n",
    "                    \n",
    "            </script>\n",
    "            </head>\n",
    "            <body>\n",
    "\n",
    "            <h1>bmi를 구해보자</h1>\n",
    "            <p>Height와 Weight를 입력하세요!</p>\n",
    " \n",
    "            키: <input type=\"text\" id=\"Height\" name=\"h\"><br>\n",
    "            몸무게:<input type=\"text\" id=\"Weight\" name=\"w\">\n",
    "            <button class='ajaxSend'>ajaxSend</button><br><br>\n",
    "            <div>bmi결과: <span class=\"result\">?</span></div>    \n",
    "            \n",
    "            </body>\n",
    "            </html>\"\"\"\n",
    "\n",
    "\n",
    "# $(\".result\").text(json.result)\n",
    "# location.href = \"https://search.naver.com/search.naver?query=\" + json.result"
   ]
  },
  {
   "cell_type": "code",
   "execution_count": 16,
   "metadata": {},
   "outputs": [
    {
     "name": "stdout",
     "output_type": "stream",
     "text": [
      " * Serving Flask app '__main__' (lazy loading)\n",
      " * Environment: production\n",
      "\u001b[31m   WARNING: This is a development server. Do not use it in a production deployment.\u001b[0m\n",
      "\u001b[2m   Use a production WSGI server instead.\u001b[0m\n",
      " * Debug mode: off\n"
     ]
    },
    {
     "name": "stderr",
     "output_type": "stream",
     "text": [
      "WARNING: This is a development server. Do not use it in a production deployment. Use a production WSGI server instead.\n",
      " * Running on http://127.0.0.1:5000\n",
      "Press CTRL+C to quit\n",
      "127.0.0.1 - - [17/Apr/2023 10:09:03] \"GET / HTTP/1.1\" 200 -\n",
      "127.0.0.1 - - [17/Apr/2023 10:09:06] \"GET / HTTP/1.1\" 200 -\n",
      "c:\\Users\\smhrd\\AppData\\Local\\Programs\\Python\\Python311\\Lib\\site-packages\\sklearn\\base.py:439: UserWarning: X does not have valid feature names, but KNeighborsClassifier was fitted with feature names\n",
      "  warnings.warn(\n",
      "127.0.0.1 - - [17/Apr/2023 10:09:17] \"POST /user HTTP/1.1\" 200 -\n"
     ]
    }
   ],
   "source": [
    "# flask 코드 \n",
    "from flask import Flask, request, jsonify, redirect\n",
    "app = Flask(__name__) \n",
    "\n",
    "@app.route('/')\n",
    "def input_data():\n",
    "    # html 페이지 실행 \n",
    "    return html_temp2()\n",
    "\n",
    "@app.route('/user', methods =['GET','POST'])\n",
    "def user():\n",
    "    if request.method =='GET':\n",
    "        h = request.args.get('h') # 사용자가 입력한 키\n",
    "        w = request.args.get('w') # 사용자가 입력한 몸무게\n",
    "        bmi_pre = bmi_model.predict([[h,w]])\n",
    "        return redirect(f'http://127.0.0.1:5000?bmi_result={bmi_pre[0]}')\n",
    "    else :\n",
    "        # post 방식\n",
    "        h = int(request.form.get('h'))\n",
    "        w = int(request.form.get('w'))\n",
    "        bmi_pre = bmi_model.predict([[h,w]])\n",
    "        return jsonify({'result' : bmi_pre[0]})  # 비동기 방식\n",
    "\n",
    "if __name__ == '__main__':\n",
    "    app.run(host ='127.0.0.1', port = '5000')"
   ]
  },
  {
   "cell_type": "code",
   "execution_count": null,
   "metadata": {},
   "outputs": [],
   "source": []
  },
  {
   "cell_type": "code",
   "execution_count": null,
   "metadata": {},
   "outputs": [],
   "source": []
  },
  {
   "cell_type": "code",
   "execution_count": null,
   "metadata": {},
   "outputs": [],
   "source": []
  },
  {
   "cell_type": "code",
   "execution_count": null,
   "metadata": {},
   "outputs": [],
   "source": []
  },
  {
   "cell_type": "code",
   "execution_count": null,
   "metadata": {},
   "outputs": [],
   "source": []
  },
  {
   "cell_type": "code",
   "execution_count": null,
   "metadata": {},
   "outputs": [],
   "source": []
  },
  {
   "cell_type": "code",
   "execution_count": null,
   "metadata": {},
   "outputs": [],
   "source": []
  }
 ],
 "metadata": {
  "kernelspec": {
   "display_name": "Python 3",
   "language": "python",
   "name": "python3"
  },
  "language_info": {
   "codemirror_mode": {
    "name": "ipython",
    "version": 3
   },
   "file_extension": ".py",
   "mimetype": "text/x-python",
   "name": "python",
   "nbconvert_exporter": "python",
   "pygments_lexer": "ipython3",
   "version": "3.11.2"
  },
  "orig_nbformat": 4
 },
 "nbformat": 4,
 "nbformat_minor": 2
}
